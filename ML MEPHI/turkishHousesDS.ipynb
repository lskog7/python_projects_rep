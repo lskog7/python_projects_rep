{
 "cells": [
  {
   "cell_type": "code",
   "execution_count": 6,
   "id": "initial_id",
   "metadata": {
    "ExecuteTime": {
     "end_time": "2024-02-22T12:54:56.790072600Z",
     "start_time": "2024-02-22T12:54:56.751624Z"
    }
   },
   "outputs": [],
   "source": [
    "# Работа с данными\n",
    "import pandas as pd\n",
    "# Работа с NaN'ами\n",
    "import numpy as np\n",
    "# Графики\n",
    "import seaborn as sns\n",
    "# Кодировка признаков\n",
    "from sklearn.preprocessing import LabelEncoder\n",
    "# Деление на выборки\n",
    "from sklearn.model_selection import train_test_split\n",
    "from sklearn.metrics import classification_report, mean_squared_error, r2_score\n",
    "\n",
    "# Градиентный бустинг\n",
    "from xgboost import XGBClassifier, plot_importance\n",
    "#Импортируем классификатор\n",
    "\n",
    "# accuracy_score для отображения точности модели\n",
    "from sklearn.metrics import accuracy_score\n",
    "\n",
    "# Регрессор\n",
    "from xgboost import XGBRegressor\n",
    "\n",
    "le = LabelEncoder()\n",
    "\n",
    "%matplotlib inline"
   ]
  },
  {
   "cell_type": "code",
   "execution_count": 7,
   "id": "980aae092b39c178",
   "metadata": {
    "ExecuteTime": {
     "end_time": "2024-02-22T12:30:18.273480800Z",
     "start_time": "2024-02-22T12:30:16.818463200Z"
    },
    "collapsed": false,
    "jupyter": {
     "outputs_hidden": false
    }
   },
   "outputs": [
    {
     "name": "stderr",
     "output_type": "stream",
     "text": [
      "C:\\Users\\user\\AppData\\Local\\Temp\\ipykernel_3628\\1113314663.py:1: DtypeWarning: Columns (9,14) have mixed types. Specify dtype option on import or set low_memory=False.\n",
      "  data = pd.read_csv(\"data_22_02_2024.csv\")\n"
     ]
    },
    {
     "data": {
      "text/html": [
       "<div>\n",
       "<style scoped>\n",
       "    .dataframe tbody tr th:only-of-type {\n",
       "        vertical-align: middle;\n",
       "    }\n",
       "\n",
       "    .dataframe tbody tr th {\n",
       "        vertical-align: top;\n",
       "    }\n",
       "\n",
       "    .dataframe thead th {\n",
       "        text-align: right;\n",
       "    }\n",
       "</style>\n",
       "<table border=\"1\" class=\"dataframe\">\n",
       "  <thead>\n",
       "    <tr style=\"text-align: right;\">\n",
       "      <th></th>\n",
       "      <th>id</th>\n",
       "      <th>type</th>\n",
       "      <th>sub_type</th>\n",
       "      <th>start_date</th>\n",
       "      <th>end_date</th>\n",
       "      <th>listing_type</th>\n",
       "      <th>tom</th>\n",
       "      <th>building_age</th>\n",
       "      <th>total_floor_count</th>\n",
       "      <th>floor_no</th>\n",
       "      <th>room_count</th>\n",
       "      <th>size</th>\n",
       "      <th>address</th>\n",
       "      <th>furnished</th>\n",
       "      <th>heating_type</th>\n",
       "      <th>price</th>\n",
       "      <th>price_currency</th>\n",
       "    </tr>\n",
       "  </thead>\n",
       "  <tbody>\n",
       "    <tr>\n",
       "      <th>0</th>\n",
       "      <td>1</td>\n",
       "      <td>Konut</td>\n",
       "      <td>Rezidans</td>\n",
       "      <td>12/10/18</td>\n",
       "      <td>1/9/19</td>\n",
       "      <td>2</td>\n",
       "      <td>30</td>\n",
       "      <td>0</td>\n",
       "      <td>20 ve üzeri</td>\n",
       "      <td>2</td>\n",
       "      <td>2+1</td>\n",
       "      <td>90.0</td>\n",
       "      <td>İstanbul/Kartal/Kordonboyu</td>\n",
       "      <td>NaN</td>\n",
       "      <td>Fancoil</td>\n",
       "      <td>3500.0</td>\n",
       "      <td>TRY</td>\n",
       "    </tr>\n",
       "    <tr>\n",
       "      <th>1</th>\n",
       "      <td>2</td>\n",
       "      <td>Konut</td>\n",
       "      <td>Daire</td>\n",
       "      <td>2/13/19</td>\n",
       "      <td>NaN</td>\n",
       "      <td>1</td>\n",
       "      <td>14</td>\n",
       "      <td>0</td>\n",
       "      <td>20 ve üzeri</td>\n",
       "      <td>20 ve üzeri</td>\n",
       "      <td>1+0</td>\n",
       "      <td>43.0</td>\n",
       "      <td>İstanbul/Kartal/Kordonboyu</td>\n",
       "      <td>NaN</td>\n",
       "      <td>Fancoil</td>\n",
       "      <td>490000.0</td>\n",
       "      <td>TRY</td>\n",
       "    </tr>\n",
       "    <tr>\n",
       "      <th>2</th>\n",
       "      <td>3</td>\n",
       "      <td>Konut</td>\n",
       "      <td>Daire</td>\n",
       "      <td>10/9/18</td>\n",
       "      <td>11/8/18</td>\n",
       "      <td>1</td>\n",
       "      <td>30</td>\n",
       "      <td>0</td>\n",
       "      <td>1</td>\n",
       "      <td>Yüksek Giriş</td>\n",
       "      <td>2+1</td>\n",
       "      <td>NaN</td>\n",
       "      <td>Tekirdağ/Çorlu/Reşadiye</td>\n",
       "      <td>NaN</td>\n",
       "      <td>Fancoil</td>\n",
       "      <td>155000.0</td>\n",
       "      <td>TRY</td>\n",
       "    </tr>\n",
       "    <tr>\n",
       "      <th>3</th>\n",
       "      <td>4</td>\n",
       "      <td>Konut</td>\n",
       "      <td>Rezidans</td>\n",
       "      <td>9/10/18</td>\n",
       "      <td>10/10/18</td>\n",
       "      <td>1</td>\n",
       "      <td>30</td>\n",
       "      <td>3</td>\n",
       "      <td>20 ve üzeri</td>\n",
       "      <td>20 ve üzeri</td>\n",
       "      <td>6+1</td>\n",
       "      <td>450.0</td>\n",
       "      <td>İstanbul/Beşiktaş/Levent</td>\n",
       "      <td>NaN</td>\n",
       "      <td>Fancoil</td>\n",
       "      <td>32500000.0</td>\n",
       "      <td>TRY</td>\n",
       "    </tr>\n",
       "    <tr>\n",
       "      <th>4</th>\n",
       "      <td>5</td>\n",
       "      <td>Konut</td>\n",
       "      <td>Rezidans</td>\n",
       "      <td>12/10/18</td>\n",
       "      <td>1/9/19</td>\n",
       "      <td>1</td>\n",
       "      <td>30</td>\n",
       "      <td>0</td>\n",
       "      <td>20 ve üzeri</td>\n",
       "      <td>2</td>\n",
       "      <td>2+1</td>\n",
       "      <td>90.0</td>\n",
       "      <td>İstanbul/Kartal/Kordonboyu</td>\n",
       "      <td>NaN</td>\n",
       "      <td>Fancoil</td>\n",
       "      <td>1450000.0</td>\n",
       "      <td>TRY</td>\n",
       "    </tr>\n",
       "  </tbody>\n",
       "</table>\n",
       "</div>"
      ],
      "text/plain": [
       "   id   type  sub_type start_date  end_date  listing_type  tom building_age  \\\n",
       "0   1  Konut  Rezidans   12/10/18    1/9/19             2   30            0   \n",
       "1   2  Konut     Daire    2/13/19       NaN             1   14            0   \n",
       "2   3  Konut     Daire    10/9/18   11/8/18             1   30            0   \n",
       "3   4  Konut  Rezidans    9/10/18  10/10/18             1   30            3   \n",
       "4   5  Konut  Rezidans   12/10/18    1/9/19             1   30            0   \n",
       "\n",
       "  total_floor_count      floor_no room_count   size  \\\n",
       "0       20 ve üzeri             2        2+1   90.0   \n",
       "1       20 ve üzeri   20 ve üzeri        1+0   43.0   \n",
       "2                 1  Yüksek Giriş        2+1    NaN   \n",
       "3       20 ve üzeri   20 ve üzeri        6+1  450.0   \n",
       "4       20 ve üzeri             2        2+1   90.0   \n",
       "\n",
       "                      address  furnished heating_type       price  \\\n",
       "0  İstanbul/Kartal/Kordonboyu        NaN      Fancoil      3500.0   \n",
       "1  İstanbul/Kartal/Kordonboyu        NaN      Fancoil    490000.0   \n",
       "2     Tekirdağ/Çorlu/Reşadiye        NaN      Fancoil    155000.0   \n",
       "3    İstanbul/Beşiktaş/Levent        NaN      Fancoil  32500000.0   \n",
       "4  İstanbul/Kartal/Kordonboyu        NaN      Fancoil   1450000.0   \n",
       "\n",
       "  price_currency  \n",
       "0            TRY  \n",
       "1            TRY  \n",
       "2            TRY  \n",
       "3            TRY  \n",
       "4            TRY  "
      ]
     },
     "execution_count": 7,
     "metadata": {},
     "output_type": "execute_result"
    }
   ],
   "source": [
    "data = pd.read_csv(\"data_22_02_2024.csv\")\n",
    "data.head()"
   ]
  },
  {
   "cell_type": "code",
   "execution_count": 8,
   "id": "add4016ba7af97c0",
   "metadata": {
    "ExecuteTime": {
     "end_time": "2024-02-22T12:30:20.788780500Z",
     "start_time": "2024-02-22T12:30:20.639972400Z"
    },
    "collapsed": false,
    "jupyter": {
     "outputs_hidden": false
    }
   },
   "outputs": [
    {
     "data": {
      "text/plain": [
       "(403487, 17)"
      ]
     },
     "execution_count": 8,
     "metadata": {},
     "output_type": "execute_result"
    }
   ],
   "source": [
    "data.shape"
   ]
  },
  {
   "cell_type": "code",
   "execution_count": 9,
   "id": "77b05efbc588e887",
   "metadata": {
    "ExecuteTime": {
     "end_time": "2024-02-22T12:30:24.156457700Z",
     "start_time": "2024-02-22T12:30:22.414658600Z"
    },
    "collapsed": false,
    "jupyter": {
     "outputs_hidden": false
    }
   },
   "outputs": [
    {
     "name": "stdout",
     "output_type": "stream",
     "text": [
      "<class 'pandas.core.frame.DataFrame'>\n",
      "RangeIndex: 403487 entries, 0 to 403486\n",
      "Data columns (total 17 columns):\n",
      " #   Column             Non-Null Count   Dtype  \n",
      "---  ------             --------------   -----  \n",
      " 0   id                 403487 non-null  int64  \n",
      " 1   type               403487 non-null  object \n",
      " 2   sub_type           403487 non-null  object \n",
      " 3   start_date         403487 non-null  object \n",
      " 4   end_date           266298 non-null  object \n",
      " 5   listing_type       403487 non-null  int64  \n",
      " 6   tom                403487 non-null  int64  \n",
      " 7   building_age       376097 non-null  object \n",
      " 8   total_floor_count  375466 non-null  object \n",
      " 9   floor_no           368191 non-null  object \n",
      " 10  room_count         403487 non-null  object \n",
      " 11  size               257481 non-null  float64\n",
      " 12  address            403487 non-null  object \n",
      " 13  furnished          0 non-null       float64\n",
      " 14  heating_type       375517 non-null  object \n",
      " 15  price              402772 non-null  float64\n",
      " 16  price_currency     402772 non-null  object \n",
      "dtypes: float64(3), int64(3), object(11)\n",
      "memory usage: 52.3+ MB\n"
     ]
    }
   ],
   "source": [
    "data.info('all')"
   ]
  },
  {
   "cell_type": "code",
   "execution_count": 10,
   "id": "8b4467e4a7b332ab",
   "metadata": {
    "ExecuteTime": {
     "end_time": "2024-02-22T12:30:28.761014300Z",
     "start_time": "2024-02-22T12:30:26.941883400Z"
    },
    "collapsed": false,
    "jupyter": {
     "outputs_hidden": false
    }
   },
   "outputs": [
    {
     "data": {
      "text/plain": [
       "id                        0\n",
       "type                      0\n",
       "sub_type                  0\n",
       "start_date                0\n",
       "end_date             137189\n",
       "listing_type              0\n",
       "tom                       0\n",
       "building_age          27390\n",
       "total_floor_count     28021\n",
       "floor_no              35296\n",
       "room_count                0\n",
       "size                 146006\n",
       "address                   0\n",
       "furnished            403487\n",
       "heating_type          27970\n",
       "price                   715\n",
       "price_currency          715\n",
       "dtype: int64"
      ]
     },
     "execution_count": 10,
     "metadata": {},
     "output_type": "execute_result"
    }
   ],
   "source": [
    "data.isna().sum()"
   ]
  },
  {
   "cell_type": "markdown",
   "id": "d2e0dc5abf16d261",
   "metadata": {
    "collapsed": false,
    "jupyter": {
     "outputs_hidden": false
    }
   },
   "source": [
    "Отбор признаков"
   ]
  },
  {
   "cell_type": "code",
   "execution_count": 11,
   "id": "8de45194ed9071c5",
   "metadata": {
    "ExecuteTime": {
     "end_time": "2024-02-22T12:30:29.511313800Z",
     "start_time": "2024-02-22T12:30:29.408738Z"
    },
    "collapsed": false,
    "jupyter": {
     "outputs_hidden": false
    }
   },
   "outputs": [],
   "source": [
    "data.drop('furnished', axis=1, inplace=True)\n",
    "data.drop(['start_date','end_date'], axis=1, inplace=True)"
   ]
  },
  {
   "cell_type": "code",
   "execution_count": 12,
   "id": "5253c8cba9d38aa9",
   "metadata": {
    "ExecuteTime": {
     "end_time": "2024-02-22T12:30:30.283951800Z",
     "start_time": "2024-02-22T12:30:30.199002700Z"
    },
    "collapsed": false,
    "jupyter": {
     "outputs_hidden": false
    }
   },
   "outputs": [],
   "source": [
    "data[\"total_floor_count\"].replace(\"10-20 arası\", 15, inplace = True)\n",
    "# Заменяем элемнет \"10-20 arası\" на 15\n",
    "data[\"total_floor_count\"].replace(\"20 ve üzeri\", 20, inplace = True)\n",
    "# Заменяем элемент \"20 ve üzeri\" на 20"
   ]
  },
  {
   "cell_type": "code",
   "execution_count": 13,
   "id": "a0da296fde34e877",
   "metadata": {
    "ExecuteTime": {
     "end_time": "2024-02-22T12:30:30.954208Z",
     "start_time": "2024-02-22T12:30:30.791571700Z"
    },
    "collapsed": false,
    "jupyter": {
     "outputs_hidden": false
    }
   },
   "outputs": [],
   "source": [
    "data[\"total_floor_count\"].fillna(data[\"total_floor_count\"].median(), inplace = True)\n",
    "# При помощи fillna заменяем NaN'ы на медиану столбца\n",
    "data[\"total_floor_count\"] = data[\"total_floor_count\"].astype(\"int64\")\n",
    "# Преобразуем столбец в тип данных int64"
   ]
  },
  {
   "cell_type": "code",
   "execution_count": 14,
   "id": "203d9567b1010c4a",
   "metadata": {
    "ExecuteTime": {
     "end_time": "2024-02-22T12:30:31.428497200Z",
     "start_time": "2024-02-22T12:30:31.311822700Z"
    },
    "collapsed": false,
    "jupyter": {
     "outputs_hidden": false
    }
   },
   "outputs": [],
   "source": [
    "data['building_age'] = le.fit_transform(data['building_age'].astype(str))"
   ]
  },
  {
   "cell_type": "code",
   "execution_count": 15,
   "id": "91449523dcddae59",
   "metadata": {
    "ExecuteTime": {
     "end_time": "2024-02-22T12:30:31.793868900Z",
     "start_time": "2024-02-22T12:30:31.734716900Z"
    },
    "collapsed": false,
    "jupyter": {
     "outputs_hidden": false
    }
   },
   "outputs": [],
   "source": [
    "data.drop('floor_no', axis=1, inplace=True)"
   ]
  },
  {
   "cell_type": "code",
   "execution_count": 16,
   "id": "7813e62489273b63",
   "metadata": {
    "ExecuteTime": {
     "end_time": "2024-02-22T12:30:32.085859600Z",
     "start_time": "2024-02-22T12:30:32.044974600Z"
    },
    "collapsed": false,
    "jupyter": {
     "outputs_hidden": false
    }
   },
   "outputs": [],
   "source": [
    "qt_high = data['size'].quantile(0.90)\n",
    "qt_low = data['size'].quantile(0.10)"
   ]
  },
  {
   "cell_type": "code",
   "execution_count": 17,
   "id": "7bc816f0e012060c",
   "metadata": {
    "ExecuteTime": {
     "end_time": "2024-02-22T12:30:32.471018500Z",
     "start_time": "2024-02-22T12:30:32.401630700Z"
    },
    "collapsed": false,
    "jupyter": {
     "outputs_hidden": false
    }
   },
   "outputs": [],
   "source": [
    "data_new = data[data['size'] < qt_high]\n",
    "data_new = data_new[data_new['size'] > qt_low]"
   ]
  },
  {
   "cell_type": "code",
   "execution_count": 18,
   "id": "86e3c304e72201c3",
   "metadata": {
    "ExecuteTime": {
     "end_time": "2024-02-22T12:30:32.858764Z",
     "start_time": "2024-02-22T12:30:32.834962800Z"
    },
    "collapsed": false,
    "jupyter": {
     "outputs_hidden": false
    }
   },
   "outputs": [
    {
     "data": {
      "text/plain": [
       "184.0"
      ]
     },
     "execution_count": 18,
     "metadata": {},
     "output_type": "execute_result"
    }
   ],
   "source": [
    "data_new['size'].max()"
   ]
  },
  {
   "cell_type": "code",
   "execution_count": 19,
   "id": "26a9c9af4097f774",
   "metadata": {
    "ExecuteTime": {
     "end_time": "2024-02-22T12:30:33.407307300Z",
     "start_time": "2024-02-22T12:30:33.322954100Z"
    },
    "collapsed": false,
    "jupyter": {
     "outputs_hidden": false
    }
   },
   "outputs": [
    {
     "data": {
      "text/plain": [
       "id                       0\n",
       "type                     0\n",
       "sub_type                 0\n",
       "listing_type             0\n",
       "tom                      0\n",
       "building_age             0\n",
       "total_floor_count        0\n",
       "room_count               0\n",
       "size                     0\n",
       "address                  0\n",
       "heating_type         10060\n",
       "price                   87\n",
       "price_currency          87\n",
       "dtype: int64"
      ]
     },
     "execution_count": 19,
     "metadata": {},
     "output_type": "execute_result"
    }
   ],
   "source": [
    "data_new.isna().sum()"
   ]
  },
  {
   "cell_type": "code",
   "execution_count": 20,
   "id": "b5c2915cd564137",
   "metadata": {
    "ExecuteTime": {
     "end_time": "2024-02-22T12:30:34.174621600Z",
     "start_time": "2024-02-22T12:30:34.089295800Z"
    },
    "collapsed": false,
    "jupyter": {
     "outputs_hidden": false
    }
   },
   "outputs": [
    {
     "data": {
      "text/plain": [
       "heating_type\n",
       "Kombi (Doğalgaz)                   108393\n",
       "Klima                               34552\n",
       "Merkezi Sistem (Isı Payı Ölçer)     15281\n",
       "Merkezi Sistem                      11682\n",
       "Kalorifer (Doğalgaz)                 6454\n",
       "Soba (Kömür)                         4470\n",
       "Yerden Isıtma                        2934\n",
       "Yok                                  2896\n",
       "Kat Kaloriferi                       2827\n",
       "Kombi (Elektrikli)                   1792\n",
       "Soba (Doğalgaz)                      1489\n",
       "Güneş Enerjisi                        875\n",
       "Jeotermal                             779\n",
       "Kalorifer (Kömür)                     738\n",
       "Kalorifer (Akaryakıt)                 183\n",
       "Fancoil                               157\n",
       "Name: count, dtype: int64"
      ]
     },
     "execution_count": 20,
     "metadata": {},
     "output_type": "execute_result"
    }
   ],
   "source": [
    "data_new['heating_type'].value_counts()"
   ]
  },
  {
   "cell_type": "code",
   "execution_count": 21,
   "id": "b951a5403c55b26d",
   "metadata": {
    "ExecuteTime": {
     "end_time": "2024-02-22T12:30:34.861847200Z",
     "start_time": "2024-02-22T12:30:34.789951100Z"
    },
    "collapsed": false,
    "jupyter": {
     "outputs_hidden": false
    }
   },
   "outputs": [],
   "source": [
    "data_new['heating_type'].fillna('Kombi (Doğalgaz)', inplace = True) # Заменяем пропуски на самое частое значение\n",
    "data_new['heating_type'] = le.fit_transform(data_new['heating_type']) # Кодируем переменную"
   ]
  },
  {
   "cell_type": "code",
   "execution_count": 22,
   "id": "db877abc70dadde3",
   "metadata": {
    "ExecuteTime": {
     "end_time": "2024-02-22T12:30:35.553512300Z",
     "start_time": "2024-02-22T12:30:35.525755500Z"
    },
    "collapsed": false,
    "jupyter": {
     "outputs_hidden": false
    }
   },
   "outputs": [],
   "source": [
    "data_new[\"price\"].fillna(data_new[\"price\"].median(), inplace = True) # Куча выбросов. Заменяем наны медианой"
   ]
  },
  {
   "cell_type": "code",
   "execution_count": 23,
   "id": "8dcce01dd0374039",
   "metadata": {
    "ExecuteTime": {
     "end_time": "2024-02-22T12:30:36.055949200Z",
     "start_time": "2024-02-22T12:30:36.013586500Z"
    },
    "collapsed": false,
    "jupyter": {
     "outputs_hidden": false
    }
   },
   "outputs": [
    {
     "data": {
      "text/plain": [
       "price_currency\n",
       "TRY    205016\n",
       "EUR       201\n",
       "GBP       200\n",
       "USD        58\n",
       "Name: count, dtype: int64"
      ]
     },
     "execution_count": 23,
     "metadata": {},
     "output_type": "execute_result"
    }
   ],
   "source": [
    "data_new[\"price_currency\"].value_counts()"
   ]
  },
  {
   "cell_type": "code",
   "execution_count": 24,
   "id": "3e0817c7afba7f78",
   "metadata": {
    "ExecuteTime": {
     "end_time": "2024-02-22T12:30:36.669726800Z",
     "start_time": "2024-02-22T12:30:36.598284100Z"
    },
    "collapsed": false,
    "jupyter": {
     "outputs_hidden": false
    }
   },
   "outputs": [],
   "source": [
    "data_new['price_currency'].fillna('TRY', inplace = True) # Заменяем наны самым частым значением\n",
    "data_new['price_currency'] = le.fit_transform(data_new['price_currency']) # Кодируем параметры"
   ]
  },
  {
   "cell_type": "code",
   "execution_count": 25,
   "id": "e8ee468fd5e3a44c",
   "metadata": {
    "ExecuteTime": {
     "end_time": "2024-02-22T12:30:37.289097700Z",
     "start_time": "2024-02-22T12:30:37.225104600Z"
    },
    "collapsed": false,
    "jupyter": {
     "outputs_hidden": false
    }
   },
   "outputs": [],
   "source": [
    "data_new.drop('type', axis=1, inplace=True) # Имеет только одно значение, выкидываем"
   ]
  },
  {
   "cell_type": "code",
   "execution_count": 26,
   "id": "a98930c0560be112",
   "metadata": {
    "ExecuteTime": {
     "end_time": "2024-02-22T12:30:37.625802400Z",
     "start_time": "2024-02-22T12:30:37.550889300Z"
    },
    "collapsed": false,
    "jupyter": {
     "outputs_hidden": false
    }
   },
   "outputs": [],
   "source": [
    "data_new['sub_type'] = le.fit_transform(data_new['sub_type']) # Кодируем параметры"
   ]
  },
  {
   "cell_type": "code",
   "execution_count": 27,
   "id": "9509b16b01dcf0be",
   "metadata": {
    "ExecuteTime": {
     "end_time": "2024-02-22T12:30:37.971651200Z",
     "start_time": "2024-02-22T12:30:37.927029Z"
    },
    "collapsed": false,
    "jupyter": {
     "outputs_hidden": false
    }
   },
   "outputs": [
    {
     "data": {
      "text/plain": [
       "listing_type\n",
       "1    148252\n",
       "2     56621\n",
       "3       689\n",
       "Name: count, dtype: int64"
      ]
     },
     "execution_count": 27,
     "metadata": {},
     "output_type": "execute_result"
    }
   ],
   "source": [
    "data_new[\"listing_type\"].value_counts() # Всего 3 уникальных значения - оставляем"
   ]
  },
  {
   "cell_type": "code",
   "execution_count": 28,
   "id": "cf8474df8ed9f97d",
   "metadata": {
    "ExecuteTime": {
     "end_time": "2024-02-22T12:30:38.597499400Z",
     "start_time": "2024-02-22T12:30:38.554659100Z"
    },
    "collapsed": false,
    "jupyter": {
     "outputs_hidden": false
    }
   },
   "outputs": [
    {
     "data": {
      "text/plain": [
       "tom\n",
       "30     44022\n",
       "60     11378\n",
       "0       5764\n",
       "90      4605\n",
       "61      3498\n",
       "       ...  \n",
       "164       31\n",
       "174       30\n",
       "177       26\n",
       "171       17\n",
       "178        7\n",
       "Name: count, Length: 181, dtype: int64"
      ]
     },
     "execution_count": 28,
     "metadata": {},
     "output_type": "execute_result"
    }
   ],
   "source": [
    "data_new[\"tom\"].value_counts() # 181 уникальное значение, не трогаем"
   ]
  },
  {
   "cell_type": "code",
   "execution_count": 29,
   "id": "fbd66a9a4225751d",
   "metadata": {
    "ExecuteTime": {
     "end_time": "2024-02-22T12:30:43.489529900Z",
     "start_time": "2024-02-22T12:30:43.435512300Z"
    },
    "collapsed": false,
    "jupyter": {
     "outputs_hidden": false
    }
   },
   "outputs": [],
   "source": [
    "data_new[\"room_count\"] = le.fit_transform(data_new[\"room_count\"]) # Кодируем параметры, так как состоит из строк"
   ]
  },
  {
   "cell_type": "code",
   "execution_count": 30,
   "id": "a7ef1fde978e1fcd",
   "metadata": {
    "ExecuteTime": {
     "end_time": "2024-02-22T12:30:44.169428800Z",
     "start_time": "2024-02-22T12:30:44.083961100Z"
    },
    "collapsed": false,
    "jupyter": {
     "outputs_hidden": false
    }
   },
   "outputs": [],
   "source": [
    "data_new.drop(\"id\", axis = 1, inplace = True) # Не поможет при обучении модели, поэтому просто выкидываем"
   ]
  },
  {
   "cell_type": "code",
   "execution_count": 31,
   "id": "cf9b1f7d4f28e5fe",
   "metadata": {
    "ExecuteTime": {
     "end_time": "2024-02-22T12:30:44.666573200Z",
     "start_time": "2024-02-22T12:30:44.563756400Z"
    },
    "collapsed": false,
    "jupyter": {
     "outputs_hidden": false
    }
   },
   "outputs": [
    {
     "data": {
      "text/plain": [
       "address\n",
       "Balıkesir/Edremit/Akçay              3427\n",
       "İstanbul/Beylikdüzü/Cumhuriyet       2160\n",
       "Aydın/Didim/Efeler                   2121\n",
       "İstanbul/Başakşehir/Kayabaşı         1298\n",
       "İstanbul/Bahçelievler/Siyavuşpaşa    1188\n",
       "                                     ... \n",
       "Karaman/Merkez/Yenişehir                1\n",
       "Adıyaman/Kahta/Karşıyaka                1\n",
       "Bursa/Mustafakemalpaşa/Barış            1\n",
       "Hatay/İskenderun/Meydan                 1\n",
       "Samsun/Bafra/Hacınabi                   1\n",
       "Name: count, Length: 6240, dtype: int64"
      ]
     },
     "execution_count": 31,
     "metadata": {},
     "output_type": "execute_result"
    }
   ],
   "source": [
    "data_new['address'].value_counts()"
   ]
  },
  {
   "cell_type": "code",
   "execution_count": 32,
   "id": "4297d61f5dc49b09",
   "metadata": {
    "ExecuteTime": {
     "end_time": "2024-02-22T12:30:45.707150900Z",
     "start_time": "2024-02-22T12:30:45.648079Z"
    },
    "collapsed": false,
    "jupyter": {
     "outputs_hidden": false
    }
   },
   "outputs": [],
   "source": [
    "data_new.drop('address', axis=1, inplace=True)"
   ]
  },
  {
   "cell_type": "code",
   "execution_count": 33,
   "id": "1e84d300e3f84f24",
   "metadata": {
    "ExecuteTime": {
     "end_time": "2024-02-22T12:30:46.489787400Z",
     "start_time": "2024-02-22T12:30:46.403708100Z"
    },
    "collapsed": false,
    "jupyter": {
     "outputs_hidden": false
    }
   },
   "outputs": [
    {
     "data": {
      "text/html": [
       "<div>\n",
       "<style scoped>\n",
       "    .dataframe tbody tr th:only-of-type {\n",
       "        vertical-align: middle;\n",
       "    }\n",
       "\n",
       "    .dataframe tbody tr th {\n",
       "        vertical-align: top;\n",
       "    }\n",
       "\n",
       "    .dataframe thead th {\n",
       "        text-align: right;\n",
       "    }\n",
       "</style>\n",
       "<table border=\"1\" class=\"dataframe\">\n",
       "  <thead>\n",
       "    <tr style=\"text-align: right;\">\n",
       "      <th></th>\n",
       "      <th>sub_type</th>\n",
       "      <th>listing_type</th>\n",
       "      <th>tom</th>\n",
       "      <th>building_age</th>\n",
       "      <th>total_floor_count</th>\n",
       "      <th>room_count</th>\n",
       "      <th>size</th>\n",
       "      <th>heating_type</th>\n",
       "      <th>price</th>\n",
       "      <th>price_currency</th>\n",
       "    </tr>\n",
       "  </thead>\n",
       "  <tbody>\n",
       "    <tr>\n",
       "      <th>0</th>\n",
       "      <td>7</td>\n",
       "      <td>2</td>\n",
       "      <td>30</td>\n",
       "      <td>0</td>\n",
       "      <td>20</td>\n",
       "      <td>5</td>\n",
       "      <td>90.0</td>\n",
       "      <td>0</td>\n",
       "      <td>3500.0</td>\n",
       "      <td>2</td>\n",
       "    </tr>\n",
       "    <tr>\n",
       "      <th>4</th>\n",
       "      <td>7</td>\n",
       "      <td>1</td>\n",
       "      <td>30</td>\n",
       "      <td>0</td>\n",
       "      <td>20</td>\n",
       "      <td>5</td>\n",
       "      <td>90.0</td>\n",
       "      <td>0</td>\n",
       "      <td>1450000.0</td>\n",
       "      <td>2</td>\n",
       "    </tr>\n",
       "    <tr>\n",
       "      <th>6</th>\n",
       "      <td>0</td>\n",
       "      <td>2</td>\n",
       "      <td>54</td>\n",
       "      <td>0</td>\n",
       "      <td>20</td>\n",
       "      <td>7</td>\n",
       "      <td>160.0</td>\n",
       "      <td>0</td>\n",
       "      <td>3750.0</td>\n",
       "      <td>2</td>\n",
       "    </tr>\n",
       "    <tr>\n",
       "      <th>8</th>\n",
       "      <td>0</td>\n",
       "      <td>1</td>\n",
       "      <td>11</td>\n",
       "      <td>14</td>\n",
       "      <td>2</td>\n",
       "      <td>7</td>\n",
       "      <td>140.0</td>\n",
       "      <td>0</td>\n",
       "      <td>1500000.0</td>\n",
       "      <td>2</td>\n",
       "    </tr>\n",
       "    <tr>\n",
       "      <th>10</th>\n",
       "      <td>5</td>\n",
       "      <td>1</td>\n",
       "      <td>13</td>\n",
       "      <td>0</td>\n",
       "      <td>1</td>\n",
       "      <td>7</td>\n",
       "      <td>125.0</td>\n",
       "      <td>0</td>\n",
       "      <td>2450000.0</td>\n",
       "      <td>2</td>\n",
       "    </tr>\n",
       "  </tbody>\n",
       "</table>\n",
       "</div>"
      ],
      "text/plain": [
       "    sub_type  listing_type  tom  building_age  total_floor_count  room_count  \\\n",
       "0          7             2   30             0                 20           5   \n",
       "4          7             1   30             0                 20           5   \n",
       "6          0             2   54             0                 20           7   \n",
       "8          0             1   11            14                  2           7   \n",
       "10         5             1   13             0                  1           7   \n",
       "\n",
       "     size  heating_type      price  price_currency  \n",
       "0    90.0             0     3500.0               2  \n",
       "4    90.0             0  1450000.0               2  \n",
       "6   160.0             0     3750.0               2  \n",
       "8   140.0             0  1500000.0               2  \n",
       "10  125.0             0  2450000.0               2  "
      ]
     },
     "execution_count": 33,
     "metadata": {},
     "output_type": "execute_result"
    }
   ],
   "source": [
    "data_new.head()"
   ]
  },
  {
   "cell_type": "code",
   "execution_count": 34,
   "id": "18c55ccf4f45416",
   "metadata": {
    "ExecuteTime": {
     "end_time": "2024-02-22T12:30:47.449471600Z",
     "start_time": "2024-02-22T12:30:47.361960400Z"
    },
    "collapsed": false,
    "jupyter": {
     "outputs_hidden": false
    }
   },
   "outputs": [],
   "source": [
    "df = data_new"
   ]
  },
  {
   "cell_type": "markdown",
   "id": "a3ece7b09b1caf92",
   "metadata": {
    "collapsed": false,
    "jupyter": {
     "outputs_hidden": false
    }
   },
   "source": [
    "Разделение на обучающую и тестовую выборку"
   ]
  },
  {
   "cell_type": "code",
   "execution_count": 35,
   "id": "4e34cbb3bd47d4f",
   "metadata": {
    "ExecuteTime": {
     "end_time": "2024-02-22T12:30:48.531478Z",
     "start_time": "2024-02-22T12:30:48.493984200Z"
    },
    "collapsed": false,
    "jupyter": {
     "outputs_hidden": false
    }
   },
   "outputs": [],
   "source": [
    "# Создаем матрицу ответов\n",
    "x = df.drop('building_age', axis=1) # Выборка обучающая, выбрасываем тот столбец, который будем предсказывать. Axis = 1 - это чтобы столбец выбросило\n",
    "y = df['building_age'] # Тестовая выборка"
   ]
  },
  {
   "cell_type": "code",
   "execution_count": 36,
   "id": "ef9f03cc0776ac29",
   "metadata": {
    "ExecuteTime": {
     "end_time": "2024-02-22T12:30:48.978049300Z",
     "start_time": "2024-02-22T12:30:48.888510800Z"
    },
    "collapsed": false,
    "jupyter": {
     "outputs_hidden": false
    }
   },
   "outputs": [],
   "source": [
    "x_train, x_test, y_train, y_test = train_test_split(x, y, test_size = 0.3, random_state = 42)"
   ]
  },
  {
   "cell_type": "code",
   "execution_count": 37,
   "id": "30b8f994ead1eca8",
   "metadata": {
    "ExecuteTime": {
     "end_time": "2024-02-22T12:31:01.711677Z",
     "start_time": "2024-02-22T12:30:49.265757100Z"
    },
    "collapsed": false,
    "jupyter": {
     "outputs_hidden": false
    }
   },
   "outputs": [
    {
     "data": {
      "text/html": [
       "<style>#sk-container-id-1 {color: black;}#sk-container-id-1 pre{padding: 0;}#sk-container-id-1 div.sk-toggleable {background-color: white;}#sk-container-id-1 label.sk-toggleable__label {cursor: pointer;display: block;width: 100%;margin-bottom: 0;padding: 0.3em;box-sizing: border-box;text-align: center;}#sk-container-id-1 label.sk-toggleable__label-arrow:before {content: \"▸\";float: left;margin-right: 0.25em;color: #696969;}#sk-container-id-1 label.sk-toggleable__label-arrow:hover:before {color: black;}#sk-container-id-1 div.sk-estimator:hover label.sk-toggleable__label-arrow:before {color: black;}#sk-container-id-1 div.sk-toggleable__content {max-height: 0;max-width: 0;overflow: hidden;text-align: left;background-color: #f0f8ff;}#sk-container-id-1 div.sk-toggleable__content pre {margin: 0.2em;color: black;border-radius: 0.25em;background-color: #f0f8ff;}#sk-container-id-1 input.sk-toggleable__control:checked~div.sk-toggleable__content {max-height: 200px;max-width: 100%;overflow: auto;}#sk-container-id-1 input.sk-toggleable__control:checked~label.sk-toggleable__label-arrow:before {content: \"▾\";}#sk-container-id-1 div.sk-estimator input.sk-toggleable__control:checked~label.sk-toggleable__label {background-color: #d4ebff;}#sk-container-id-1 div.sk-label input.sk-toggleable__control:checked~label.sk-toggleable__label {background-color: #d4ebff;}#sk-container-id-1 input.sk-hidden--visually {border: 0;clip: rect(1px 1px 1px 1px);clip: rect(1px, 1px, 1px, 1px);height: 1px;margin: -1px;overflow: hidden;padding: 0;position: absolute;width: 1px;}#sk-container-id-1 div.sk-estimator {font-family: monospace;background-color: #f0f8ff;border: 1px dotted black;border-radius: 0.25em;box-sizing: border-box;margin-bottom: 0.5em;}#sk-container-id-1 div.sk-estimator:hover {background-color: #d4ebff;}#sk-container-id-1 div.sk-parallel-item::after {content: \"\";width: 100%;border-bottom: 1px solid gray;flex-grow: 1;}#sk-container-id-1 div.sk-label:hover label.sk-toggleable__label {background-color: #d4ebff;}#sk-container-id-1 div.sk-serial::before {content: \"\";position: absolute;border-left: 1px solid gray;box-sizing: border-box;top: 0;bottom: 0;left: 50%;z-index: 0;}#sk-container-id-1 div.sk-serial {display: flex;flex-direction: column;align-items: center;background-color: white;padding-right: 0.2em;padding-left: 0.2em;position: relative;}#sk-container-id-1 div.sk-item {position: relative;z-index: 1;}#sk-container-id-1 div.sk-parallel {display: flex;align-items: stretch;justify-content: center;background-color: white;position: relative;}#sk-container-id-1 div.sk-item::before, #sk-container-id-1 div.sk-parallel-item::before {content: \"\";position: absolute;border-left: 1px solid gray;box-sizing: border-box;top: 0;bottom: 0;left: 50%;z-index: -1;}#sk-container-id-1 div.sk-parallel-item {display: flex;flex-direction: column;z-index: 1;position: relative;background-color: white;}#sk-container-id-1 div.sk-parallel-item:first-child::after {align-self: flex-end;width: 50%;}#sk-container-id-1 div.sk-parallel-item:last-child::after {align-self: flex-start;width: 50%;}#sk-container-id-1 div.sk-parallel-item:only-child::after {width: 0;}#sk-container-id-1 div.sk-dashed-wrapped {border: 1px dashed gray;margin: 0 0.4em 0.5em 0.4em;box-sizing: border-box;padding-bottom: 0.4em;background-color: white;}#sk-container-id-1 div.sk-label label {font-family: monospace;font-weight: bold;display: inline-block;line-height: 1.2em;}#sk-container-id-1 div.sk-label-container {text-align: center;}#sk-container-id-1 div.sk-container {/* jupyter's `normalize.less` sets `[hidden] { display: none; }` but bootstrap.min.css set `[hidden] { display: none !important; }` so we also need the `!important` here to be able to override the default hidden behavior on the sphinx rendered scikit-learn.org. See: https://github.com/scikit-learn/scikit-learn/issues/21755 */display: inline-block !important;position: relative;}#sk-container-id-1 div.sk-text-repr-fallback {display: none;}</style><div id=\"sk-container-id-1\" class=\"sk-top-container\"><div class=\"sk-text-repr-fallback\"><pre>XGBClassifier(base_score=None, booster=None, callbacks=None,\n",
       "              colsample_bylevel=None, colsample_bynode=None,\n",
       "              colsample_bytree=None, device=None, early_stopping_rounds=None,\n",
       "              enable_categorical=False, eval_metric=None, feature_types=None,\n",
       "              gamma=None, grow_policy=None, importance_type=None,\n",
       "              interaction_constraints=None, learning_rate=0.3, max_bin=None,\n",
       "              max_cat_threshold=None, max_cat_to_onehot=None,\n",
       "              max_delta_step=None, max_depth=None, max_leaves=None,\n",
       "              min_child_weight=None, missing=nan, monotone_constraints=None,\n",
       "              multi_strategy=None, n_estimators=100, n_jobs=-1,\n",
       "              num_parallel_tree=None, objective=&#x27;multi:softprob&#x27;, ...)</pre><b>In a Jupyter environment, please rerun this cell to show the HTML representation or trust the notebook. <br />On GitHub, the HTML representation is unable to render, please try loading this page with nbviewer.org.</b></div><div class=\"sk-container\" hidden><div class=\"sk-item\"><div class=\"sk-estimator sk-toggleable\"><input class=\"sk-toggleable__control sk-hidden--visually\" id=\"sk-estimator-id-1\" type=\"checkbox\" checked><label for=\"sk-estimator-id-1\" class=\"sk-toggleable__label sk-toggleable__label-arrow\">XGBClassifier</label><div class=\"sk-toggleable__content\"><pre>XGBClassifier(base_score=None, booster=None, callbacks=None,\n",
       "              colsample_bylevel=None, colsample_bynode=None,\n",
       "              colsample_bytree=None, device=None, early_stopping_rounds=None,\n",
       "              enable_categorical=False, eval_metric=None, feature_types=None,\n",
       "              gamma=None, grow_policy=None, importance_type=None,\n",
       "              interaction_constraints=None, learning_rate=0.3, max_bin=None,\n",
       "              max_cat_threshold=None, max_cat_to_onehot=None,\n",
       "              max_delta_step=None, max_depth=None, max_leaves=None,\n",
       "              min_child_weight=None, missing=nan, monotone_constraints=None,\n",
       "              multi_strategy=None, n_estimators=100, n_jobs=-1,\n",
       "              num_parallel_tree=None, objective=&#x27;multi:softprob&#x27;, ...)</pre></div></div></div></div></div>"
      ],
      "text/plain": [
       "XGBClassifier(base_score=None, booster=None, callbacks=None,\n",
       "              colsample_bylevel=None, colsample_bynode=None,\n",
       "              colsample_bytree=None, device=None, early_stopping_rounds=None,\n",
       "              enable_categorical=False, eval_metric=None, feature_types=None,\n",
       "              gamma=None, grow_policy=None, importance_type=None,\n",
       "              interaction_constraints=None, learning_rate=0.3, max_bin=None,\n",
       "              max_cat_threshold=None, max_cat_to_onehot=None,\n",
       "              max_delta_step=None, max_depth=None, max_leaves=None,\n",
       "              min_child_weight=None, missing=nan, monotone_constraints=None,\n",
       "              multi_strategy=None, n_estimators=100, n_jobs=-1,\n",
       "              num_parallel_tree=None, objective='multi:softprob', ...)"
      ]
     },
     "execution_count": 37,
     "metadata": {},
     "output_type": "execute_result"
    }
   ],
   "source": [
    "xgb_cls = XGBClassifier(n_estimators = 100, learning_rate = 0.3, n_jobs = -1, random_state=1)\n",
    "xgb_cls.fit(x_train, y_train)"
   ]
  },
  {
   "cell_type": "code",
   "execution_count": 38,
   "id": "572feb1851f1c0af",
   "metadata": {
    "ExecuteTime": {
     "end_time": "2024-02-22T12:31:02.363724300Z",
     "start_time": "2024-02-22T12:31:01.661672600Z"
    },
    "collapsed": false,
    "jupyter": {
     "outputs_hidden": false
    }
   },
   "outputs": [],
   "source": [
    "y_pred = xgb_cls.predict(x_test)"
   ]
  },
  {
   "cell_type": "code",
   "execution_count": 39,
   "id": "ca626b2b964943d0",
   "metadata": {
    "ExecuteTime": {
     "end_time": "2024-02-22T12:31:02.483738100Z",
     "start_time": "2024-02-22T12:31:02.365724500Z"
    },
    "collapsed": false,
    "jupyter": {
     "outputs_hidden": false
    }
   },
   "outputs": [
    {
     "name": "stdout",
     "output_type": "stream",
     "text": [
      "              precision    recall  f1-score   support\n",
      "\n",
      "           0       0.45      0.92      0.61     22403\n",
      "           1       0.54      0.04      0.08      2948\n",
      "           2       0.29      0.13      0.18      4970\n",
      "           3       0.27      0.20      0.23      5275\n",
      "           4       0.48      0.04      0.07      2516\n",
      "           5       0.29      0.10      0.14      3232\n",
      "           6       0.31      0.09      0.14      1794\n",
      "           7       0.47      0.03      0.06      2153\n",
      "           8       0.34      0.08      0.13       732\n",
      "           9       0.48      0.07      0.12       204\n",
      "          10       0.45      0.03      0.06      2556\n",
      "          11       0.35      0.15      0.21       119\n",
      "          12       0.53      0.03      0.05      1996\n",
      "          13       0.29      0.17      0.22      7755\n",
      "          14       0.37      0.37      0.37      3016\n",
      "\n",
      "    accuracy                           0.42     61669\n",
      "   macro avg       0.39      0.16      0.18     61669\n",
      "weighted avg       0.39      0.42      0.33     61669\n",
      "\n"
     ]
    }
   ],
   "source": [
    "print(classification_report(y_test, y_pred)) # Смотрим текстовый отчёт по показателям классификации"
   ]
  },
  {
   "cell_type": "code",
   "execution_count": 40,
   "id": "f40f44221a566f66",
   "metadata": {
    "ExecuteTime": {
     "end_time": "2024-02-22T12:31:02.507949300Z",
     "start_time": "2024-02-22T12:31:02.487744200Z"
    },
    "collapsed": false,
    "jupyter": {
     "outputs_hidden": false
    }
   },
   "outputs": [
    {
     "name": "stdout",
     "output_type": "stream",
     "text": [
      "0.41531401514537286\n"
     ]
    }
   ],
   "source": [
    "print(accuracy_score(y_pred, y_test)) # Так-же мы можем воспользоваться accuracy_score для отображения точности модели"
   ]
  },
  {
   "cell_type": "code",
   "execution_count": 41,
   "id": "a87c980f8fd294db",
   "metadata": {
    "ExecuteTime": {
     "end_time": "2024-02-22T12:31:16.747944900Z",
     "start_time": "2024-02-22T12:31:16.426851400Z"
    },
    "collapsed": false,
    "jupyter": {
     "outputs_hidden": false
    }
   },
   "outputs": [
    {
     "data": {
      "text/plain": [
       "<Axes: title={'center': 'Feature importance'}, xlabel='F score', ylabel='Features'>"
      ]
     },
     "execution_count": 41,
     "metadata": {},
     "output_type": "execute_result"
    },
    {
     "data": {
      "image/png": "[encoded data removed]",
      "text/plain": [
       "<Figure size 640x480 with 1 Axes>"
      ]
     },
     "metadata": {},
     "output_type": "display_data"
    }
   ],
   "source": [
    "# Отберём признаки с помощью алгоритма и нарисуем график важности, \n",
    "# чтобы определить силу влияния признаков(столбцов) на классификацию\n",
    "plot_importance(xgb_cls)"
   ]
  },
  {
   "cell_type": "code",
   "execution_count": 42,
   "id": "29661cd03da34d2c",
   "metadata": {
    "ExecuteTime": {
     "end_time": "2024-02-22T12:34:10.518805300Z",
     "start_time": "2024-02-22T12:34:10.478483Z"
    },
    "collapsed": false,
    "jupyter": {
     "outputs_hidden": false
    }
   },
   "outputs": [],
   "source": [
    "df_n = df.drop([\"price_currency\", \"listing_type\"], axis = 1)\n",
    "X = df_n.drop(\"building_age\", axis = 1)\n",
    "y = df_n[\"building_age\"]"
   ]
  },
  {
   "cell_type": "code",
   "execution_count": 43,
   "id": "260550e5bc0831f0",
   "metadata": {
    "ExecuteTime": {
     "end_time": "2024-02-22T12:34:25.135818500Z",
     "start_time": "2024-02-22T12:34:25.062990100Z"
    },
    "collapsed": false,
    "jupyter": {
     "outputs_hidden": false
    }
   },
   "outputs": [],
   "source": [
    "x_train, x_test, y_train, y_test = train_test_split(X, y, test_size = 0.3, random_state = 42)"
   ]
  },
  {
   "cell_type": "code",
   "execution_count": 44,
   "id": "f7ad465f2ca4dde6",
   "metadata": {
    "ExecuteTime": {
     "end_time": "2024-02-22T12:37:39.229946200Z",
     "start_time": "2024-02-22T12:37:39.196340900Z"
    },
    "collapsed": false,
    "jupyter": {
     "outputs_hidden": false
    }
   },
   "outputs": [],
   "source": [
    "xgb_cls = XGBClassifier(n_estimators = 100, learning_rate = 0.3, n_jobs = -1, random_state=1)"
   ]
  },
  {
   "cell_type": "code",
   "execution_count": 45,
   "id": "54f37388c3d1f677",
   "metadata": {
    "ExecuteTime": {
     "end_time": "2024-02-22T12:38:01.198888800Z",
     "start_time": "2024-02-22T12:37:51.138923Z"
    },
    "collapsed": false,
    "jupyter": {
     "outputs_hidden": false
    }
   },
   "outputs": [
    {
     "data": {
      "text/html": [
       "<style>#sk-container-id-2 {color: black;}#sk-container-id-2 pre{padding: 0;}#sk-container-id-2 div.sk-toggleable {background-color: white;}#sk-container-id-2 label.sk-toggleable__label {cursor: pointer;display: block;width: 100%;margin-bottom: 0;padding: 0.3em;box-sizing: border-box;text-align: center;}#sk-container-id-2 label.sk-toggleable__label-arrow:before {content: \"▸\";float: left;margin-right: 0.25em;color: #696969;}#sk-container-id-2 label.sk-toggleable__label-arrow:hover:before {color: black;}#sk-container-id-2 div.sk-estimator:hover label.sk-toggleable__label-arrow:before {color: black;}#sk-container-id-2 div.sk-toggleable__content {max-height: 0;max-width: 0;overflow: hidden;text-align: left;background-color: #f0f8ff;}#sk-container-id-2 div.sk-toggleable__content pre {margin: 0.2em;color: black;border-radius: 0.25em;background-color: #f0f8ff;}#sk-container-id-2 input.sk-toggleable__control:checked~div.sk-toggleable__content {max-height: 200px;max-width: 100%;overflow: auto;}#sk-container-id-2 input.sk-toggleable__control:checked~label.sk-toggleable__label-arrow:before {content: \"▾\";}#sk-container-id-2 div.sk-estimator input.sk-toggleable__control:checked~label.sk-toggleable__label {background-color: #d4ebff;}#sk-container-id-2 div.sk-label input.sk-toggleable__control:checked~label.sk-toggleable__label {background-color: #d4ebff;}#sk-container-id-2 input.sk-hidden--visually {border: 0;clip: rect(1px 1px 1px 1px);clip: rect(1px, 1px, 1px, 1px);height: 1px;margin: -1px;overflow: hidden;padding: 0;position: absolute;width: 1px;}#sk-container-id-2 div.sk-estimator {font-family: monospace;background-color: #f0f8ff;border: 1px dotted black;border-radius: 0.25em;box-sizing: border-box;margin-bottom: 0.5em;}#sk-container-id-2 div.sk-estimator:hover {background-color: #d4ebff;}#sk-container-id-2 div.sk-parallel-item::after {content: \"\";width: 100%;border-bottom: 1px solid gray;flex-grow: 1;}#sk-container-id-2 div.sk-label:hover label.sk-toggleable__label {background-color: #d4ebff;}#sk-container-id-2 div.sk-serial::before {content: \"\";position: absolute;border-left: 1px solid gray;box-sizing: border-box;top: 0;bottom: 0;left: 50%;z-index: 0;}#sk-container-id-2 div.sk-serial {display: flex;flex-direction: column;align-items: center;background-color: white;padding-right: 0.2em;padding-left: 0.2em;position: relative;}#sk-container-id-2 div.sk-item {position: relative;z-index: 1;}#sk-container-id-2 div.sk-parallel {display: flex;align-items: stretch;justify-content: center;background-color: white;position: relative;}#sk-container-id-2 div.sk-item::before, #sk-container-id-2 div.sk-parallel-item::before {content: \"\";position: absolute;border-left: 1px solid gray;box-sizing: border-box;top: 0;bottom: 0;left: 50%;z-index: -1;}#sk-container-id-2 div.sk-parallel-item {display: flex;flex-direction: column;z-index: 1;position: relative;background-color: white;}#sk-container-id-2 div.sk-parallel-item:first-child::after {align-self: flex-end;width: 50%;}#sk-container-id-2 div.sk-parallel-item:last-child::after {align-self: flex-start;width: 50%;}#sk-container-id-2 div.sk-parallel-item:only-child::after {width: 0;}#sk-container-id-2 div.sk-dashed-wrapped {border: 1px dashed gray;margin: 0 0.4em 0.5em 0.4em;box-sizing: border-box;padding-bottom: 0.4em;background-color: white;}#sk-container-id-2 div.sk-label label {font-family: monospace;font-weight: bold;display: inline-block;line-height: 1.2em;}#sk-container-id-2 div.sk-label-container {text-align: center;}#sk-container-id-2 div.sk-container {/* jupyter's `normalize.less` sets `[hidden] { display: none; }` but bootstrap.min.css set `[hidden] { display: none !important; }` so we also need the `!important` here to be able to override the default hidden behavior on the sphinx rendered scikit-learn.org. See: https://github.com/scikit-learn/scikit-learn/issues/21755 */display: inline-block !important;position: relative;}#sk-container-id-2 div.sk-text-repr-fallback {display: none;}</style><div id=\"sk-container-id-2\" class=\"sk-top-container\"><div class=\"sk-text-repr-fallback\"><pre>XGBClassifier(base_score=None, booster=None, callbacks=None,\n",
       "              colsample_bylevel=None, colsample_bynode=None,\n",
       "              colsample_bytree=None, device=None, early_stopping_rounds=None,\n",
       "              enable_categorical=False, eval_metric=None, feature_types=None,\n",
       "              gamma=None, grow_policy=None, importance_type=None,\n",
       "              interaction_constraints=None, learning_rate=0.3, max_bin=None,\n",
       "              max_cat_threshold=None, max_cat_to_onehot=None,\n",
       "              max_delta_step=None, max_depth=None, max_leaves=None,\n",
       "              min_child_weight=None, missing=nan, monotone_constraints=None,\n",
       "              multi_strategy=None, n_estimators=100, n_jobs=-1,\n",
       "              num_parallel_tree=None, objective=&#x27;multi:softprob&#x27;, ...)</pre><b>In a Jupyter environment, please rerun this cell to show the HTML representation or trust the notebook. <br />On GitHub, the HTML representation is unable to render, please try loading this page with nbviewer.org.</b></div><div class=\"sk-container\" hidden><div class=\"sk-item\"><div class=\"sk-estimator sk-toggleable\"><input class=\"sk-toggleable__control sk-hidden--visually\" id=\"sk-estimator-id-2\" type=\"checkbox\" checked><label for=\"sk-estimator-id-2\" class=\"sk-toggleable__label sk-toggleable__label-arrow\">XGBClassifier</label><div class=\"sk-toggleable__content\"><pre>XGBClassifier(base_score=None, booster=None, callbacks=None,\n",
       "              colsample_bylevel=None, colsample_bynode=None,\n",
       "              colsample_bytree=None, device=None, early_stopping_rounds=None,\n",
       "              enable_categorical=False, eval_metric=None, feature_types=None,\n",
       "              gamma=None, grow_policy=None, importance_type=None,\n",
       "              interaction_constraints=None, learning_rate=0.3, max_bin=None,\n",
       "              max_cat_threshold=None, max_cat_to_onehot=None,\n",
       "              max_delta_step=None, max_depth=None, max_leaves=None,\n",
       "              min_child_weight=None, missing=nan, monotone_constraints=None,\n",
       "              multi_strategy=None, n_estimators=100, n_jobs=-1,\n",
       "              num_parallel_tree=None, objective=&#x27;multi:softprob&#x27;, ...)</pre></div></div></div></div></div>"
      ],
      "text/plain": [
       "XGBClassifier(base_score=None, booster=None, callbacks=None,\n",
       "              colsample_bylevel=None, colsample_bynode=None,\n",
       "              colsample_bytree=None, device=None, early_stopping_rounds=None,\n",
       "              enable_categorical=False, eval_metric=None, feature_types=None,\n",
       "              gamma=None, grow_policy=None, importance_type=None,\n",
       "              interaction_constraints=None, learning_rate=0.3, max_bin=None,\n",
       "              max_cat_threshold=None, max_cat_to_onehot=None,\n",
       "              max_delta_step=None, max_depth=None, max_leaves=None,\n",
       "              min_child_weight=None, missing=nan, monotone_constraints=None,\n",
       "              multi_strategy=None, n_estimators=100, n_jobs=-1,\n",
       "              num_parallel_tree=None, objective='multi:softprob', ...)"
      ]
     },
     "execution_count": 45,
     "metadata": {},
     "output_type": "execute_result"
    }
   ],
   "source": [
    "xgb_cls.fit(x_train, y_train)"
   ]
  },
  {
   "cell_type": "code",
   "execution_count": 46,
   "id": "d55be16f4f849e28",
   "metadata": {
    "ExecuteTime": {
     "end_time": "2024-02-22T12:38:39.468862200Z",
     "start_time": "2024-02-22T12:38:38.251057500Z"
    },
    "collapsed": false,
    "jupyter": {
     "outputs_hidden": false
    }
   },
   "outputs": [],
   "source": [
    "y_pred = xgb_cls.predict(x_test)"
   ]
  },
  {
   "cell_type": "code",
   "execution_count": 47,
   "id": "98e7ceff13d5294c",
   "metadata": {
    "ExecuteTime": {
     "end_time": "2024-02-22T12:38:58.814184700Z",
     "start_time": "2024-02-22T12:38:58.699762600Z"
    },
    "collapsed": false,
    "jupyter": {
     "outputs_hidden": false
    }
   },
   "outputs": [
    {
     "name": "stdout",
     "output_type": "stream",
     "text": [
      "              precision    recall  f1-score   support\n",
      "\n",
      "           0       0.45      0.91      0.61     22403\n",
      "           1       0.53      0.04      0.07      2948\n",
      "           2       0.29      0.13      0.18      4970\n",
      "           3       0.27      0.20      0.23      5275\n",
      "           4       0.48      0.03      0.06      2516\n",
      "           5       0.30      0.10      0.15      3232\n",
      "           6       0.30      0.09      0.14      1794\n",
      "           7       0.42      0.03      0.06      2153\n",
      "           8       0.33      0.07      0.12       732\n",
      "           9       0.42      0.06      0.11       204\n",
      "          10       0.45      0.04      0.07      2556\n",
      "          11       0.41      0.13      0.19       119\n",
      "          12       0.47      0.02      0.04      1996\n",
      "          13       0.29      0.18      0.22      7755\n",
      "          14       0.37      0.37      0.37      3016\n",
      "\n",
      "    accuracy                           0.42     61669\n",
      "   macro avg       0.39      0.16      0.17     61669\n",
      "weighted avg       0.39      0.42      0.33     61669\n",
      "\n"
     ]
    }
   ],
   "source": [
    "print(classification_report(y_test, y_pred))"
   ]
  },
  {
   "cell_type": "code",
   "execution_count": 48,
   "id": "dfbdbb518fb87bcf",
   "metadata": {
    "ExecuteTime": {
     "end_time": "2024-02-22T12:39:14.686541Z",
     "start_time": "2024-02-22T12:39:14.401134Z"
    },
    "collapsed": false,
    "jupyter": {
     "outputs_hidden": false
    }
   },
   "outputs": [
    {
     "data": {
      "text/plain": [
       "<Axes: title={'center': 'Feature importance'}, xlabel='F score', ylabel='Features'>"
      ]
     },
     "execution_count": 48,
     "metadata": {},
     "output_type": "execute_result"
    },
    {
     "data": {
      "image/png": "[encoded data removed]",
      "text/plain": [
       "<Figure size 640x480 with 1 Axes>"
      ]
     },
     "metadata": {},
     "output_type": "display_data"
    }
   ],
   "source": [
    "plot_importance(xgb_cls)"
   ]
  },
  {
   "cell_type": "code",
   "execution_count": 49,
   "id": "87f4dbfa452a82ba",
   "metadata": {
    "ExecuteTime": {
     "end_time": "2024-02-22T12:43:19.255657100Z",
     "start_time": "2024-02-22T12:43:18.741425700Z"
    },
    "collapsed": false,
    "jupyter": {
     "outputs_hidden": false
    }
   },
   "outputs": [
    {
     "data": {
      "text/plain": [
       "<Axes: >"
      ]
     },
     "execution_count": 49,
     "metadata": {},
     "output_type": "execute_result"
    },
    {
     "data": {
      "image/png": "[encoded data removed]",
      "text/plain": [
       "<Figure size 640x480 with 1 Axes>"
      ]
     },
     "metadata": {},
     "output_type": "display_data"
    }
   ],
   "source": [
    "sns.boxplot(df.price, orient=\"h\")"
   ]
  },
  {
   "cell_type": "code",
   "execution_count": 50,
   "id": "539cc6a8826b45a9",
   "metadata": {
    "ExecuteTime": {
     "end_time": "2024-02-22T12:43:45.458779500Z",
     "start_time": "2024-02-22T12:43:45.383121800Z"
    },
    "collapsed": false,
    "jupyter": {
     "outputs_hidden": false
    }
   },
   "outputs": [],
   "source": [
    "quant = df[\"price\"].quantile(0.6)# считаем квантиль 90 %\n",
    "quant_low = df[\"price\"].quantile(0.01)# считаем квантиль 10 %\n",
    "df2 = df[df[\"price\"] < quant] # убираем выбросы по квантилю\n",
    "df2 = df2[df2[\"price\"] > quant_low] # убираем выбросы по квантилю"
   ]
  },
  {
   "cell_type": "code",
   "execution_count": 51,
   "id": "bee5fffd9e50fa33",
   "metadata": {
    "ExecuteTime": {
     "end_time": "2024-02-22T12:43:57.594210800Z",
     "start_time": "2024-02-22T12:43:57.273779400Z"
    },
    "collapsed": false,
    "jupyter": {
     "outputs_hidden": false
    }
   },
   "outputs": [
    {
     "data": {
      "text/plain": [
       "<Axes: >"
      ]
     },
     "execution_count": 51,
     "metadata": {},
     "output_type": "execute_result"
    },
    {
     "data": {
      "image/png": "[encoded data removed]",
      "text/plain": [
       "<Figure size 640x480 with 1 Axes>"
      ]
     },
     "metadata": {},
     "output_type": "display_data"
    }
   ],
   "source": [
    "sns.boxplot(df2.price, orient=\"h\")"
   ]
  },
  {
   "cell_type": "code",
   "execution_count": 52,
   "id": "c4a8994a101f0cc3",
   "metadata": {
    "ExecuteTime": {
     "end_time": "2024-02-22T12:44:15.189621Z",
     "start_time": "2024-02-22T12:44:15.129502100Z"
    },
    "collapsed": false,
    "jupyter": {
     "outputs_hidden": false
    }
   },
   "outputs": [],
   "source": [
    "X = df2.drop(\"price\", axis = 1) #Удаляем столбец с выборкой ответо из основного df\n",
    "y = df2[\"price\"] #Создаём выборку ответов"
   ]
  },
  {
   "cell_type": "code",
   "execution_count": 53,
   "id": "213f88b1d3539289",
   "metadata": {
    "ExecuteTime": {
     "end_time": "2024-02-22T12:44:21.701935900Z",
     "start_time": "2024-02-22T12:44:21.607572Z"
    },
    "collapsed": false,
    "jupyter": {
     "outputs_hidden": false
    }
   },
   "outputs": [],
   "source": [
    "x_train, x_test, y_train, y_test = train_test_split(X, y, test_size = 0.3, random_state = 42)"
   ]
  },
  {
   "cell_type": "code",
   "execution_count": 54,
   "id": "84639cbff755dbe4",
   "metadata": {
    "ExecuteTime": {
     "end_time": "2024-02-22T12:53:23.561333200Z",
     "start_time": "2024-02-22T12:53:23.516660100Z"
    },
    "collapsed": false,
    "jupyter": {
     "outputs_hidden": false
    }
   },
   "outputs": [],
   "source": [
    "xgb_regr = XGBRegressor(n_estimators = 1000, learning_rate = 0.1, n_jobs = -1, random_state = 1)"
   ]
  },
  {
   "cell_type": "code",
   "execution_count": 55,
   "id": "db5b9f09aa646b65",
   "metadata": {
    "ExecuteTime": {
     "end_time": "2024-02-22T12:54:00.196711800Z",
     "start_time": "2024-02-22T12:53:56.021368200Z"
    },
    "collapsed": false,
    "jupyter": {
     "outputs_hidden": false
    }
   },
   "outputs": [
    {
     "data": {
      "text/html": [
       "<style>#sk-container-id-3 {color: black;}#sk-container-id-3 pre{padding: 0;}#sk-container-id-3 div.sk-toggleable {background-color: white;}#sk-container-id-3 label.sk-toggleable__label {cursor: pointer;display: block;width: 100%;margin-bottom: 0;padding: 0.3em;box-sizing: border-box;text-align: center;}#sk-container-id-3 label.sk-toggleable__label-arrow:before {content: \"▸\";float: left;margin-right: 0.25em;color: #696969;}#sk-container-id-3 label.sk-toggleable__label-arrow:hover:before {color: black;}#sk-container-id-3 div.sk-estimator:hover label.sk-toggleable__label-arrow:before {color: black;}#sk-container-id-3 div.sk-toggleable__content {max-height: 0;max-width: 0;overflow: hidden;text-align: left;background-color: #f0f8ff;}#sk-container-id-3 div.sk-toggleable__content pre {margin: 0.2em;color: black;border-radius: 0.25em;background-color: #f0f8ff;}#sk-container-id-3 input.sk-toggleable__control:checked~div.sk-toggleable__content {max-height: 200px;max-width: 100%;overflow: auto;}#sk-container-id-3 input.sk-toggleable__control:checked~label.sk-toggleable__label-arrow:before {content: \"▾\";}#sk-container-id-3 div.sk-estimator input.sk-toggleable__control:checked~label.sk-toggleable__label {background-color: #d4ebff;}#sk-container-id-3 div.sk-label input.sk-toggleable__control:checked~label.sk-toggleable__label {background-color: #d4ebff;}#sk-container-id-3 input.sk-hidden--visually {border: 0;clip: rect(1px 1px 1px 1px);clip: rect(1px, 1px, 1px, 1px);height: 1px;margin: -1px;overflow: hidden;padding: 0;position: absolute;width: 1px;}#sk-container-id-3 div.sk-estimator {font-family: monospace;background-color: #f0f8ff;border: 1px dotted black;border-radius: 0.25em;box-sizing: border-box;margin-bottom: 0.5em;}#sk-container-id-3 div.sk-estimator:hover {background-color: #d4ebff;}#sk-container-id-3 div.sk-parallel-item::after {content: \"\";width: 100%;border-bottom: 1px solid gray;flex-grow: 1;}#sk-container-id-3 div.sk-label:hover label.sk-toggleable__label {background-color: #d4ebff;}#sk-container-id-3 div.sk-serial::before {content: \"\";position: absolute;border-left: 1px solid gray;box-sizing: border-box;top: 0;bottom: 0;left: 50%;z-index: 0;}#sk-container-id-3 div.sk-serial {display: flex;flex-direction: column;align-items: center;background-color: white;padding-right: 0.2em;padding-left: 0.2em;position: relative;}#sk-container-id-3 div.sk-item {position: relative;z-index: 1;}#sk-container-id-3 div.sk-parallel {display: flex;align-items: stretch;justify-content: center;background-color: white;position: relative;}#sk-container-id-3 div.sk-item::before, #sk-container-id-3 div.sk-parallel-item::before {content: \"\";position: absolute;border-left: 1px solid gray;box-sizing: border-box;top: 0;bottom: 0;left: 50%;z-index: -1;}#sk-container-id-3 div.sk-parallel-item {display: flex;flex-direction: column;z-index: 1;position: relative;background-color: white;}#sk-container-id-3 div.sk-parallel-item:first-child::after {align-self: flex-end;width: 50%;}#sk-container-id-3 div.sk-parallel-item:last-child::after {align-self: flex-start;width: 50%;}#sk-container-id-3 div.sk-parallel-item:only-child::after {width: 0;}#sk-container-id-3 div.sk-dashed-wrapped {border: 1px dashed gray;margin: 0 0.4em 0.5em 0.4em;box-sizing: border-box;padding-bottom: 0.4em;background-color: white;}#sk-container-id-3 div.sk-label label {font-family: monospace;font-weight: bold;display: inline-block;line-height: 1.2em;}#sk-container-id-3 div.sk-label-container {text-align: center;}#sk-container-id-3 div.sk-container {/* jupyter's `normalize.less` sets `[hidden] { display: none; }` but bootstrap.min.css set `[hidden] { display: none !important; }` so we also need the `!important` here to be able to override the default hidden behavior on the sphinx rendered scikit-learn.org. See: https://github.com/scikit-learn/scikit-learn/issues/21755 */display: inline-block !important;position: relative;}#sk-container-id-3 div.sk-text-repr-fallback {display: none;}</style><div id=\"sk-container-id-3\" class=\"sk-top-container\"><div class=\"sk-text-repr-fallback\"><pre>XGBRegressor(base_score=None, booster=None, callbacks=None,\n",
       "             colsample_bylevel=None, colsample_bynode=None,\n",
       "             colsample_bytree=None, device=None, early_stopping_rounds=None,\n",
       "             enable_categorical=False, eval_metric=None, feature_types=None,\n",
       "             gamma=None, grow_policy=None, importance_type=None,\n",
       "             interaction_constraints=None, learning_rate=0.1, max_bin=None,\n",
       "             max_cat_threshold=None, max_cat_to_onehot=None,\n",
       "             max_delta_step=None, max_depth=None, max_leaves=None,\n",
       "             min_child_weight=None, missing=nan, monotone_constraints=None,\n",
       "             multi_strategy=None, n_estimators=1000, n_jobs=-1,\n",
       "             num_parallel_tree=None, random_state=1, ...)</pre><b>In a Jupyter environment, please rerun this cell to show the HTML representation or trust the notebook. <br />On GitHub, the HTML representation is unable to render, please try loading this page with nbviewer.org.</b></div><div class=\"sk-container\" hidden><div class=\"sk-item\"><div class=\"sk-estimator sk-toggleable\"><input class=\"sk-toggleable__control sk-hidden--visually\" id=\"sk-estimator-id-3\" type=\"checkbox\" checked><label for=\"sk-estimator-id-3\" class=\"sk-toggleable__label sk-toggleable__label-arrow\">XGBRegressor</label><div class=\"sk-toggleable__content\"><pre>XGBRegressor(base_score=None, booster=None, callbacks=None,\n",
       "             colsample_bylevel=None, colsample_bynode=None,\n",
       "             colsample_bytree=None, device=None, early_stopping_rounds=None,\n",
       "             enable_categorical=False, eval_metric=None, feature_types=None,\n",
       "             gamma=None, grow_policy=None, importance_type=None,\n",
       "             interaction_constraints=None, learning_rate=0.1, max_bin=None,\n",
       "             max_cat_threshold=None, max_cat_to_onehot=None,\n",
       "             max_delta_step=None, max_depth=None, max_leaves=None,\n",
       "             min_child_weight=None, missing=nan, monotone_constraints=None,\n",
       "             multi_strategy=None, n_estimators=1000, n_jobs=-1,\n",
       "             num_parallel_tree=None, random_state=1, ...)</pre></div></div></div></div></div>"
      ],
      "text/plain": [
       "XGBRegressor(base_score=None, booster=None, callbacks=None,\n",
       "             colsample_bylevel=None, colsample_bynode=None,\n",
       "             colsample_bytree=None, device=None, early_stopping_rounds=None,\n",
       "             enable_categorical=False, eval_metric=None, feature_types=None,\n",
       "             gamma=None, grow_policy=None, importance_type=None,\n",
       "             interaction_constraints=None, learning_rate=0.1, max_bin=None,\n",
       "             max_cat_threshold=None, max_cat_to_onehot=None,\n",
       "             max_delta_step=None, max_depth=None, max_leaves=None,\n",
       "             min_child_weight=None, missing=nan, monotone_constraints=None,\n",
       "             multi_strategy=None, n_estimators=1000, n_jobs=-1,\n",
       "             num_parallel_tree=None, random_state=1, ...)"
      ]
     },
     "execution_count": 55,
     "metadata": {},
     "output_type": "execute_result"
    }
   ],
   "source": [
    "xgb_regr.fit(x_train, y_train)"
   ]
  },
  {
   "cell_type": "code",
   "execution_count": 56,
   "id": "d7599b48b7e6cb88",
   "metadata": {
    "ExecuteTime": {
     "end_time": "2024-02-22T12:54:18.748968200Z",
     "start_time": "2024-02-22T12:54:18.386943500Z"
    },
    "collapsed": false,
    "jupyter": {
     "outputs_hidden": false
    }
   },
   "outputs": [],
   "source": [
    "y_pred = xgb_regr.predict(x_test)"
   ]
  },
  {
   "cell_type": "code",
   "execution_count": 57,
   "id": "b8a92334a64ed462",
   "metadata": {
    "ExecuteTime": {
     "end_time": "2024-02-22T12:55:07.471615100Z",
     "start_time": "2024-02-22T12:55:07.410453700Z"
    },
    "collapsed": false,
    "jupyter": {
     "outputs_hidden": false
    }
   },
   "outputs": [
    {
     "data": {
      "text/plain": [
       "27780.503763261404"
      ]
     },
     "execution_count": 57,
     "metadata": {},
     "output_type": "execute_result"
    }
   ],
   "source": [
    "np.sqrt(mean_squared_error(y_test, y_pred))"
   ]
  },
  {
   "cell_type": "code",
   "execution_count": 58,
   "id": "22055e4f22ec4f4a",
   "metadata": {
    "ExecuteTime": {
     "end_time": "2024-02-22T12:55:12.619030300Z",
     "start_time": "2024-02-22T12:55:12.561070Z"
    },
    "collapsed": false,
    "jupyter": {
     "outputs_hidden": false
    }
   },
   "outputs": [
    {
     "data": {
      "text/plain": [
       "0.9052275243112842"
      ]
     },
     "execution_count": 58,
     "metadata": {},
     "output_type": "execute_result"
    }
   ],
   "source": [
    "r2_score(y_test, y_pred)"
   ]
  },
  {
   "cell_type": "code",
   "execution_count": null,
   "id": "5dd1d0755abda7b2",
   "metadata": {
    "collapsed": false,
    "jupyter": {
     "outputs_hidden": false
    }
   },
   "outputs": [],
   "source": []
  }
 ],
 "metadata": {
  "kernelspec": {
   "display_name": "Python 3 (ipykernel)",
   "language": "python",
   "name": "python3"
  },
  "language_info": {
   "codemirror_mode": {
    "name": "ipython",
    "version": 3
   },
   "file_extension": ".py",
   "mimetype": "text/x-python",
   "name": "python",
   "nbconvert_exporter": "python",
   "pygments_lexer": "ipython3",
   "version": "3.11.7"
  }
 },
 "nbformat": 4,
 "nbformat_minor": 5
}
