{
 "cells": [
  {
   "cell_type": "markdown",
   "source": [
    "Кусок с семинара"
   ],
   "metadata": {
    "collapsed": false
   },
   "id": "26ac0f783d42f25f"
  },
  {
   "cell_type": "code",
   "execution_count": 1,
   "outputs": [],
   "source": [
    "import pandas as pd\n",
    "import requests"
   ],
   "metadata": {
    "collapsed": false,
    "ExecuteTime": {
     "end_time": "2023-11-08T09:51:50.889524100Z",
     "start_time": "2023-11-08T09:51:50.419233500Z"
    }
   },
   "id": "initial_id"
  },
  {
   "cell_type": "code",
   "execution_count": 2,
   "outputs": [],
   "source": [
    "salary = lambda x: [x['salary']['from'], x['salary']['to'], x['salary']['currency'], x['salary']['gross']] if x['salary'] is not None else [None] * 4\n",
    "snippet = lambda x: [x['snippet']['responsibility'], x['snippet']['requirement']] if ['snippet'] is not None else [None] * 2\n",
    "\n",
    "vac = []\n",
    "\n",
    "for i in range(10):\n",
    "    url = f'https://api.hh.ru/vacancies?text=Программист&per_page=100&area=1&area=2&page={str(i)}'\n",
    "    vac += [[x['id'], x['name']] + salary(x) + [x['employer']['name']] + [x['area']['name']] + snippet(x) for x in\n",
    "            requests.get(url).json()['items']]  "
   ],
   "metadata": {
    "collapsed": false,
    "ExecuteTime": {
     "end_time": "2023-11-08T09:52:06.234311400Z",
     "start_time": "2023-11-08T09:51:52.834225900Z"
    }
   },
   "id": "9ca860cb4c0632db"
  },
  {
   "cell_type": "markdown",
   "source": [
    "Домашнее задание к лекции/семинару №7 (список самих вакансий был получен выше, использую его же (vac))"
   ],
   "metadata": {
    "collapsed": false
   },
   "id": "3659f9bf2324fc3"
  },
  {
   "cell_type": "code",
   "execution_count": 3,
   "outputs": [],
   "source": [
    "resp = []\n",
    "for x in vac:\n",
    "    if x[-2] is not None:\n",
    "        #Удаляем точки и запятые у каждого из слов, для этого весь список обязанностей сплитим, получаем лист, в котором для каждого элемента убираем точки и запятые, а еще переводим в ловеркейс. Этими оставшимися словами заполняем список tmp\n",
    "        tmp = [word.lower().strip('.').strip(',') for word in x[-2].split()]\n",
    "        if tmp:\n",
    "            resp+=tmp"
   ],
   "metadata": {
    "collapsed": false,
    "ExecuteTime": {
     "end_time": "2023-11-08T09:52:10.712662900Z",
     "start_time": "2023-11-08T09:52:10.689463600Z"
    }
   },
   "id": "9b8ef1a6479a56d0"
  },
  {
   "cell_type": "code",
   "execution_count": 4,
   "outputs": [],
   "source": [
    "resp_words = tuple()\n",
    "unique_words = tuple()\n",
    "\n",
    "while resp:\n",
    "    word = resp.pop()\n",
    "    if word in unique_words:\n",
    "        resp_words[unique_words.index(word)][1] += 1\n",
    "    else:\n",
    "        resp_words+=([word,1],)\n",
    "        unique_words+=(word,)"
   ],
   "metadata": {
    "collapsed": false,
    "ExecuteTime": {
     "end_time": "2023-11-08T09:52:12.269779700Z",
     "start_time": "2023-11-08T09:52:11.975131Z"
    }
   },
   "id": "2694f67d98e765c6"
  },
  {
   "cell_type": "code",
   "execution_count": 5,
   "outputs": [],
   "source": [
    "resp_words = tuple(sorted(resp_words, key = lambda x: x[1], reverse=True))\n",
    "five = set([resp_words[i][0] for i in range(5)])"
   ],
   "metadata": {
    "collapsed": false,
    "ExecuteTime": {
     "end_time": "2023-11-08T09:52:12.969334100Z",
     "start_time": "2023-11-08T09:52:12.954822900Z"
    }
   },
   "id": "6f9bc34bf4798efa"
  },
  {
   "cell_type": "code",
   "execution_count": 6,
   "outputs": [
    {
     "name": "stdout",
     "output_type": "stream",
     "text": [
      "['88963323', 'Node.js Backend Разработчик', 60000, 80000, 'RUR', False, 'Ким Олег Леонидович', 'Москва', 'Тестирование и разработка высокопроизводительного и масштабируемого бэкенда на Node.js. Интеграция с внешними API. Участие в разработке и поддержке масштабируемых архитектурных...', 'Опыт работы с Nest.js, TypeScript и PostgreSQL. Желание учиться и развиваться в области разработки программного обеспечения. Понимание основных принципов разработки...']\n",
      "['89163253', 'Middle .NET C# разработчик', 120000, 170000, 'RUR', True, 'Space App', 'Санкт-Петербург', 'Разработка нового функционала и поддержка проекта на платформе .NET. Участие в принятии арихтиктурных решений с командой. Участие во всех этапах...', 'Продвинутые знания языка C# (версии 10 и выше). Уверенные знания ASP.NET Core. Опыт разработки веб-приложений с микросервисной архитектурой. ']\n",
      "['88950043', 'Программист-технолог', 120000, None, 'RUR', False, 'ОмегаТех', 'Санкт-Петербург', 'Разработка и внедрение управляющих программ на 3-х координатные станки с ЧПУ. Участие в расчете новых изделий. Корректировка техпроцессов на...', 'Умение работать в MasterCAM. Опыт разработки управляющих программ для фрезерных станков с ЧПУ с использованием CAM-систем. Знание металлорежущего инструмента...']\n",
      "['88783633', 'Фронт Разработчик/Frontend developer React', None, None, None, None, 'Азиатско-Тихоокеанский Банк', 'Москва', 'Разработка и поддержка веб-приложений SPA на React. Создание ui-компонентов в Storybook. Интеграция фронтенда с бэкендом. Активное участие в...', 'Опыт разработки SPA на React. Работа с системами контроля версий Git и Gitlab. Знание ECMAScript 6 и Typescript. ']\n",
      "['88347051', 'Junior Android разработчик на Kotlin Multiplatform', 30000, None, 'RUR', False, 'Nti.team', 'Санкт-Петербург', 'В дальнейшем разработка на Kotlin Multiplatform Mobile под Android, iOS. Работа в команде с back-end <highlighttext>разработчиками</highlighttext> и дизайнерами. ', 'Jetpack Compose. SQLight. Базовые знания Git. Понимание REST API для взаимодействия с backend частью системы. Наличие практического (можно учебного) опыта...']\n",
      "['89052060', 'Программист 1С (удаленно)', 140000, 147000, 'RUR', False, '7ЦВЕТОВ', 'Москва', 'Разработка нового функционала и доработка существующего на платформе 1С. Участие в еженедельных созвонах команды <highlighttext>разработчиков</highlighttext>. Обсуждение задач непосредственно с...', 'Опыт работы от 6 месяцев. Рассматриваются кандидаты с опытом работы в техподдержке и минимальным опытом в программировании. Опыт работы с...']\n"
     ]
    }
   ],
   "source": [
    "result = []\n",
    "\n",
    "result = [x for x in vac if x[-2] is not None and five.issubset(set(x[-2].lower().replace('.','').replace(',','').split()))]\n",
    "\n",
    "print(*result, sep='\\n')"
   ],
   "metadata": {
    "collapsed": false,
    "ExecuteTime": {
     "end_time": "2023-11-08T09:52:14.266471400Z",
     "start_time": "2023-11-08T09:52:14.244565800Z"
    }
   },
   "id": "1855815ab9732f9a"
  },
  {
   "cell_type": "code",
   "execution_count": 7,
   "outputs": [
    {
     "data": {
      "text/plain": "            0                                                  1         2  \\\n0    89158000                        Junior Frontend разработчик       NaN   \n1    87944930                        Python разработчик (Junior)       NaN   \n2    88948315               Frontend-разработчик (react, Стажер)       NaN   \n3    89127731                              Junior Java Developer   60000.0   \n4    89102862                       Front-end разработчик junior   30000.0   \n..        ...                                                ...       ...   \n995  88549886             Инженер программист C (Linux Embedded)  300000.0   \n996  89163317  Junior Разработчик .Net (JavaScript, ASP.NET M...   57400.0   \n997  87988832                                      IOS developer       NaN   \n998  88846678                    Middle+/Senior Python developer       NaN   \n999  89135956                                        Программист   65000.0   \n\n            3     4      5                               6                7  \\\n0         NaN  None   None                           СОГАЗ           Москва   \n1     60000.0   RUR   True                       Bewise.ai           Москва   \n2         NaN  None   None                   Т1 Консалтинг           Москва   \n3    100000.0   RUR  False     ПАРИ, АО Страховая компания           Москва   \n4         NaN   RUR  False                        Nti.team  Санкт-Петербург   \n..        ...   ...    ...                             ...              ...   \n995       NaN   RUR  False  Innovation Weapons Techologies           Москва   \n996   78000.0   RUR   True                         Lasmart  Санкт-Петербург   \n997  200000.0   RUR   True                Softintermob LLC           Москва   \n998       NaN  None   None                        Go Ahead           Москва   \n999  125000.0   RUR  False                  АВП-Технология           Москва   \n\n                                                     8  \\\n0    Поддерживать и развивать внутрикорпоративную H...   \n1    Выполнение тестового задания (время выполнения...   \n2    Базовое представление работы сетей. Unit-тести...   \n3    Разработка новых модулей существующих систем л...   \n4    Кроссбраузерная адаптивная верстка сайтов разл...   \n..                                                 ...   \n995  Разработка программного обеспечения для Embedd...   \n996  Реализация UI/UX. Разработка нового функционал...   \n997  Разработка и поддержка приложений для устройст...   \n998  Писать нагруженные сервисы на Python. Участвов...   \n999  Разработка встраиваемого программного обеспече...   \n\n                                                     9  \n0                JavaScript. React. Redux. Typescript.  \n1    Знание Python 3 и базовых библиотек. * Опыт ра...  \n2    HTML5. CSS3 (понимание блочной модели документ...  \n3    Java 8. Уверенные знания SQL. JPA (Hibernate)....  \n4    Уверенные знания HTML, CSS, Sass(scss). Знание...  \n..                                                 ...  \n995  Знание С . Обязательный опыт работы с Embedded...  \n996  Высшее или среднее профессионально техническое...  \n997  Опыт разработки мобильных приложений для iOS о...  \n998  Опыт управления командой разработки/менторинга...  \n999  Опыт работы от 1 года (инженер-<highlighttext>...  \n\n[1000 rows x 10 columns]",
      "text/html": "<div>\n<style scoped>\n    .dataframe tbody tr th:only-of-type {\n        vertical-align: middle;\n    }\n\n    .dataframe tbody tr th {\n        vertical-align: top;\n    }\n\n    .dataframe thead th {\n        text-align: right;\n    }\n</style>\n<table border=\"1\" class=\"dataframe\">\n  <thead>\n    <tr style=\"text-align: right;\">\n      <th></th>\n      <th>0</th>\n      <th>1</th>\n      <th>2</th>\n      <th>3</th>\n      <th>4</th>\n      <th>5</th>\n      <th>6</th>\n      <th>7</th>\n      <th>8</th>\n      <th>9</th>\n    </tr>\n  </thead>\n  <tbody>\n    <tr>\n      <th>0</th>\n      <td>89158000</td>\n      <td>Junior Frontend разработчик</td>\n      <td>NaN</td>\n      <td>NaN</td>\n      <td>None</td>\n      <td>None</td>\n      <td>СОГАЗ</td>\n      <td>Москва</td>\n      <td>Поддерживать и развивать внутрикорпоративную H...</td>\n      <td>JavaScript. React. Redux. Typescript.</td>\n    </tr>\n    <tr>\n      <th>1</th>\n      <td>87944930</td>\n      <td>Python разработчик (Junior)</td>\n      <td>NaN</td>\n      <td>60000.0</td>\n      <td>RUR</td>\n      <td>True</td>\n      <td>Bewise.ai</td>\n      <td>Москва</td>\n      <td>Выполнение тестового задания (время выполнения...</td>\n      <td>Знание Python 3 и базовых библиотек. * Опыт ра...</td>\n    </tr>\n    <tr>\n      <th>2</th>\n      <td>88948315</td>\n      <td>Frontend-разработчик (react, Стажер)</td>\n      <td>NaN</td>\n      <td>NaN</td>\n      <td>None</td>\n      <td>None</td>\n      <td>Т1 Консалтинг</td>\n      <td>Москва</td>\n      <td>Базовое представление работы сетей. Unit-тести...</td>\n      <td>HTML5. CSS3 (понимание блочной модели документ...</td>\n    </tr>\n    <tr>\n      <th>3</th>\n      <td>89127731</td>\n      <td>Junior Java Developer</td>\n      <td>60000.0</td>\n      <td>100000.0</td>\n      <td>RUR</td>\n      <td>False</td>\n      <td>ПАРИ, АО Страховая компания</td>\n      <td>Москва</td>\n      <td>Разработка новых модулей существующих систем л...</td>\n      <td>Java 8. Уверенные знания SQL. JPA (Hibernate)....</td>\n    </tr>\n    <tr>\n      <th>4</th>\n      <td>89102862</td>\n      <td>Front-end разработчик junior</td>\n      <td>30000.0</td>\n      <td>NaN</td>\n      <td>RUR</td>\n      <td>False</td>\n      <td>Nti.team</td>\n      <td>Санкт-Петербург</td>\n      <td>Кроссбраузерная адаптивная верстка сайтов разл...</td>\n      <td>Уверенные знания HTML, CSS, Sass(scss). Знание...</td>\n    </tr>\n    <tr>\n      <th>...</th>\n      <td>...</td>\n      <td>...</td>\n      <td>...</td>\n      <td>...</td>\n      <td>...</td>\n      <td>...</td>\n      <td>...</td>\n      <td>...</td>\n      <td>...</td>\n      <td>...</td>\n    </tr>\n    <tr>\n      <th>995</th>\n      <td>88549886</td>\n      <td>Инженер программист C (Linux Embedded)</td>\n      <td>300000.0</td>\n      <td>NaN</td>\n      <td>RUR</td>\n      <td>False</td>\n      <td>Innovation Weapons Techologies</td>\n      <td>Москва</td>\n      <td>Разработка программного обеспечения для Embedd...</td>\n      <td>Знание С . Обязательный опыт работы с Embedded...</td>\n    </tr>\n    <tr>\n      <th>996</th>\n      <td>89163317</td>\n      <td>Junior Разработчик .Net (JavaScript, ASP.NET M...</td>\n      <td>57400.0</td>\n      <td>78000.0</td>\n      <td>RUR</td>\n      <td>True</td>\n      <td>Lasmart</td>\n      <td>Санкт-Петербург</td>\n      <td>Реализация UI/UX. Разработка нового функционал...</td>\n      <td>Высшее или среднее профессионально техническое...</td>\n    </tr>\n    <tr>\n      <th>997</th>\n      <td>87988832</td>\n      <td>IOS developer</td>\n      <td>NaN</td>\n      <td>200000.0</td>\n      <td>RUR</td>\n      <td>True</td>\n      <td>Softintermob LLC</td>\n      <td>Москва</td>\n      <td>Разработка и поддержка приложений для устройст...</td>\n      <td>Опыт разработки мобильных приложений для iOS о...</td>\n    </tr>\n    <tr>\n      <th>998</th>\n      <td>88846678</td>\n      <td>Middle+/Senior Python developer</td>\n      <td>NaN</td>\n      <td>NaN</td>\n      <td>None</td>\n      <td>None</td>\n      <td>Go Ahead</td>\n      <td>Москва</td>\n      <td>Писать нагруженные сервисы на Python. Участвов...</td>\n      <td>Опыт управления командой разработки/менторинга...</td>\n    </tr>\n    <tr>\n      <th>999</th>\n      <td>89135956</td>\n      <td>Программист</td>\n      <td>65000.0</td>\n      <td>125000.0</td>\n      <td>RUR</td>\n      <td>False</td>\n      <td>АВП-Технология</td>\n      <td>Москва</td>\n      <td>Разработка встраиваемого программного обеспече...</td>\n      <td>Опыт работы от 1 года (инженер-&lt;highlighttext&gt;...</td>\n    </tr>\n  </tbody>\n</table>\n<p>1000 rows × 10 columns</p>\n</div>"
     },
     "execution_count": 7,
     "metadata": {},
     "output_type": "execute_result"
    }
   ],
   "source": [
    "df = pd.DataFrame(vac)\n",
    "df"
   ],
   "metadata": {
    "collapsed": false,
    "ExecuteTime": {
     "end_time": "2023-11-08T09:52:29.395063400Z",
     "start_time": "2023-11-08T09:52:29.271071300Z"
    }
   },
   "id": "39a8cd6552aaf511"
  },
  {
   "cell_type": "code",
   "execution_count": 16,
   "outputs": [
    {
     "data": {
      "text/plain": "RangeIndex(start=0, stop=10, step=1)"
     },
     "execution_count": 16,
     "metadata": {},
     "output_type": "execute_result"
    }
   ],
   "source": [
    "df.columns"
   ],
   "metadata": {
    "collapsed": false,
    "ExecuteTime": {
     "end_time": "2023-11-08T10:05:43.193147400Z",
     "start_time": "2023-11-08T10:05:43.185772700Z"
    }
   },
   "id": "8daf91e1a04b00d0"
  },
  {
   "cell_type": "code",
   "execution_count": null,
   "outputs": [],
   "source": [
    "df.columns = ['id','job','','','','','','']"
   ],
   "metadata": {
    "collapsed": false
   },
   "id": "62ec007af27639b3"
  }
 ],
 "metadata": {
  "kernelspec": {
   "display_name": "Python 3",
   "language": "python",
   "name": "python3"
  },
  "language_info": {
   "codemirror_mode": {
    "name": "ipython",
    "version": 2
   },
   "file_extension": ".py",
   "mimetype": "text/x-python",
   "name": "python",
   "nbconvert_exporter": "python",
   "pygments_lexer": "ipython2",
   "version": "2.7.6"
  }
 },
 "nbformat": 4,
 "nbformat_minor": 5
}
