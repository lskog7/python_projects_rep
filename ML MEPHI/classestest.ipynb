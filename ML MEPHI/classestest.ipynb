{
 "cells": [
  {
   "cell_type": "code",
   "execution_count": 3,
   "id": "initial_id",
   "metadata": {
    "collapsed": true,
    "ExecuteTime": {
     "end_time": "2023-11-07T19:36:45.704188800Z",
     "start_time": "2023-11-07T19:36:45.689063800Z"
    }
   },
   "outputs": [],
   "source": [
    "from time import sleep\n",
    "\n",
    "\n",
    "class Pizza(object):\n",
    "    def __init__(self):\n",
    "        self.name = str()\n",
    "        self.dough = str()\n",
    "        self.topping = list()\n",
    "        self.cost = float()\n",
    "\n",
    "    def cook(self):\n",
    "        print('Preparing dough.\\n')\n",
    "        print('.')\n",
    "        sleep(100)\n",
    "        print('.')\n",
    "        sleep(100)\n",
    "        print('.\\n')\n",
    "        self.dough = self.dough.replace('_uncooked', '_cooked')\n",
    "        print('Done!\\n')\n",
    "\n",
    "    def bake(self):\n",
    "        print('Putting pizza in furnace.')\n",
    "        print('.')\n",
    "        sleep(100)\n",
    "        print('.')\n",
    "        sleep(100)\n",
    "        print('.\\n')\n",
    "        self.dough = self.dough.replace('_unbaked', '_baked')\n",
    "        print('Done!\\n')\n",
    "\n",
    "    def cut(self):\n",
    "        print('Cutting your pizza.\\n')\n",
    "        print('.')\n",
    "        sleep(100)\n",
    "        print('.')\n",
    "        sleep(100)\n",
    "        print('.\\n')\n",
    "        self.dough = self.dough.replace('_uncut', '_cut')\n",
    "        print('Done!\\n')\n",
    "\n",
    "    def wrap(self):\n",
    "        print('Wrapping your pizza.\\n')\n",
    "        print('.')\n",
    "        sleep(100)\n",
    "        print('.')\n",
    "        sleep(100)\n",
    "        print('.\\n')\n",
    "        self.dough = self.dough.replace('_unwrapped', '_wrapped')\n",
    "        print('Done!\\n')\n",
    "\n",
    "\n",
    "class PizzaPepperoni(Pizza):\n",
    "    def __init__(self):\n",
    "        self.name = 'El Diablo'\n",
    "        self.dough = 'neapoletan_uncooked_unbaked_uncut_unwrapped'\n",
    "        self.topping = ['Tomato sauce', 'Mozzarella', 'Pepperoni', 'Basil']\n",
    "        self.cost = 690\n",
    "\n",
    "\n",
    "class PizzaBBQ(Pizza):\n",
    "    def __init__(self):\n",
    "        self.name = 'BBQ'\n",
    "        self.dough = 'american_uncooked_unbaked_uncut_unwrapped'\n",
    "        self.topping = ['Tomato sauce', 'Mozzarella', 'Bacon', 'BBQ sauce']\n",
    "        self.cost = 590\n",
    "\n",
    "\n",
    "class Order(object):\n",
    "    def __init__(self):\n",
    "        self.order = list()\n",
    "        self.order_id = int()\n",
    "\n",
    "    def add(self, pizza):\n",
    "        self.order.append(pizza)\n",
    "\n",
    "    def remove(self):\n",
    "        del self.order[-1]\n",
    "\n",
    "    def cost(self):\n",
    "        return sum(pizza.cost for pizza in self.order)\n",
    "\n",
    "    def done(self):\n",
    "        for i in range(len(self.order)):\n",
    "            print('Готовим пиццу №', i + 1)\n",
    "            self.order[i].cook()\n",
    "            self.order[i].bake()\n",
    "            self.order[i].cut()\n",
    "            self.order[i].wrap()\n",
    "            print()"
   ]
  },
  {
   "cell_type": "code",
   "execution_count": 4,
   "outputs": [
    {
     "name": "stdout",
     "output_type": "stream",
     "text": [
      "Чтобы узнать меню, введите 0.\n",
      "Чтобы добавить пиццу в заказ, введите номер ее позиции в меню.\n",
      "Чтобы удалить последний пункт заказа, введите -1.\n",
      "Чтобы завершить заказ, введите -2.\n"
     ]
    },
    {
     "ename": "ValueError",
     "evalue": "invalid literal for int() with base 10: ''",
     "output_type": "error",
     "traceback": [
      "\u001B[1;31m---------------------------------------------------------------------------\u001B[0m",
      "\u001B[1;31mValueError\u001B[0m                                Traceback (most recent call last)",
      "Cell \u001B[1;32mIn[4], line 14\u001B[0m\n\u001B[0;32m     11\u001B[0m \u001B[38;5;28mprint\u001B[39m(\u001B[38;5;124m'\u001B[39m\u001B[38;5;124mЧтобы завершить заказ, введите -2.\u001B[39m\u001B[38;5;124m'\u001B[39m)\n\u001B[0;32m     13\u001B[0m \u001B[38;5;28;01mwhile\u001B[39;00m \u001B[38;5;28;01mTrue\u001B[39;00m:\n\u001B[1;32m---> 14\u001B[0m   inp \u001B[38;5;241m=\u001B[39m \u001B[38;5;28;43mint\u001B[39;49m\u001B[43m(\u001B[49m\u001B[38;5;28;43minput\u001B[39;49m\u001B[43m(\u001B[49m\u001B[43m)\u001B[49m\u001B[43m)\u001B[49m\n\u001B[0;32m     15\u001B[0m   \u001B[38;5;28;01mif\u001B[39;00m inp \u001B[38;5;241m==\u001B[39m \u001B[38;5;241m0\u001B[39m:\n\u001B[0;32m     16\u001B[0m     \u001B[38;5;28mprint\u001B[39m(\u001B[38;5;124m'\u001B[39m\u001B[38;5;124m'\u001B[39m, \u001B[38;5;241m*\u001B[39mmenu, \u001B[38;5;124m'\u001B[39m\u001B[38;5;124m'\u001B[39m, sep\u001B[38;5;241m=\u001B[39m\u001B[38;5;124m'\u001B[39m\u001B[38;5;130;01m\\n\u001B[39;00m\u001B[38;5;124m'\u001B[39m)\n",
      "\u001B[1;31mValueError\u001B[0m: invalid literal for int() with base 10: ''"
     ]
    }
   ],
   "source": [
    "order = Order()\n",
    "menu = [PizzaPepperoni(), PizzaBBQ()]\n",
    "n = 0\n",
    "\n",
    "print('Чтобы добавить пиццу в заказ, введите 1 для пепперони и 2 для барбекю.')\n",
    "print('Чтобы удалить последний пункт заказа, введите -1.')\n",
    "print('Чтобы завершить заказ, введите -2.')\n",
    "\n",
    "while True:\n",
    "    n = int(input())\n",
    "    if n == -1:\n",
    "        order.remove()\n",
    "    elif n in range(len(menu) + 1):\n",
    "        order.add(menu[inp - 1])\n",
    "    else:\n",
    "        print()\n",
    "        break\n",
    "\n",
    "print('Стоимость вашего заказа:', order.cost())\n",
    "print()\n",
    "order.done()"
   ],
   "metadata": {
    "collapsed": false,
    "ExecuteTime": {
     "end_time": "2023-11-07T19:36:53.273591Z",
     "start_time": "2023-11-07T19:36:46.226959300Z"
    }
   },
   "id": "6f34dc1e8c451016"
  },
  {
   "cell_type": "code",
   "execution_count": null,
   "outputs": [],
   "source": [],
   "metadata": {
    "collapsed": false
   },
   "id": "8cd6091cca72b634"
  }
 ],
 "metadata": {
  "kernelspec": {
   "display_name": "Python 3",
   "language": "python",
   "name": "python3"
  },
  "language_info": {
   "codemirror_mode": {
    "name": "ipython",
    "version": 2
   },
   "file_extension": ".py",
   "mimetype": "text/x-python",
   "name": "python",
   "nbconvert_exporter": "python",
   "pygments_lexer": "ipython2",
   "version": "2.7.6"
  }
 },
 "nbformat": 4,
 "nbformat_minor": 5
}
