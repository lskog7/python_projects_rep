{
 "cells": [
  {
   "cell_type": "code",
   "execution_count": 1,
   "metadata": {},
   "outputs": [],
   "source": [
    "import pandas as pd\n",
    "import numpy as np\n",
    "import requests"
   ]
  },
  {
   "cell_type": "code",
   "execution_count": 59,
   "metadata": {},
   "outputs": [],
   "source": [
    "products = {'Продукт': ['Картошка', 'Морковь', 'Яблоко'], 'Категория': ['Овощ', 'Овощ', 'Фрукт']}\n",
    "prices = {'Продукт': ['Картошка', 'Морковь', 'Яблоко'], 'Цена': [50 ,60 ,120]}\n",
    "\n",
    "df_prod = pd.DataFrame(products)\n",
    "df_price = pd.DataFrame(prices)"
   ]
  },
  {
   "cell_type": "code",
   "execution_count": 60,
   "metadata": {},
   "outputs": [
    {
     "data": {
      "text/html": [
       "<div>\n",
       "<style scoped>\n",
       "    .dataframe tbody tr th:only-of-type {\n",
       "        vertical-align: middle;\n",
       "    }\n",
       "\n",
       "    .dataframe tbody tr th {\n",
       "        vertical-align: top;\n",
       "    }\n",
       "\n",
       "    .dataframe thead th {\n",
       "        text-align: right;\n",
       "    }\n",
       "</style>\n",
       "<table border=\"1\" class=\"dataframe\">\n",
       "  <thead>\n",
       "    <tr style=\"text-align: right;\">\n",
       "      <th></th>\n",
       "      <th>Продукт</th>\n",
       "      <th>Категория</th>\n",
       "      <th>Цена</th>\n",
       "    </tr>\n",
       "  </thead>\n",
       "  <tbody>\n",
       "    <tr>\n",
       "      <th>0</th>\n",
       "      <td>Картошка</td>\n",
       "      <td>Овощ</td>\n",
       "      <td>50</td>\n",
       "    </tr>\n",
       "    <tr>\n",
       "      <th>1</th>\n",
       "      <td>Морковь</td>\n",
       "      <td>Овощ</td>\n",
       "      <td>60</td>\n",
       "    </tr>\n",
       "    <tr>\n",
       "      <th>2</th>\n",
       "      <td>Яблоко</td>\n",
       "      <td>Фрукт</td>\n",
       "      <td>120</td>\n",
       "    </tr>\n",
       "  </tbody>\n",
       "</table>\n",
       "</div>"
      ],
      "text/plain": [
       "    Продукт Категория  Цена\n",
       "0  Картошка      Овощ    50\n",
       "1   Морковь      Овощ    60\n",
       "2    Яблоко     Фрукт   120"
      ]
     },
     "execution_count": 60,
     "metadata": {},
     "output_type": "execute_result"
    }
   ],
   "source": [
    "df_prod.merge(df_price, on='Продукт')"
   ]
  },
  {
   "cell_type": "code",
   "execution_count": 61,
   "metadata": {},
   "outputs": [
    {
     "data": {
      "text/plain": [
       "a   -0.032944\n",
       "b   -1.693443\n",
       "c    1.291392\n",
       "d   -0.328807\n",
       "e   -0.235432\n",
       "f   -1.500572\n",
       "dtype: float64"
      ]
     },
     "execution_count": 61,
     "metadata": {},
     "output_type": "execute_result"
    }
   ],
   "source": [
    "rnd_numb = pd.Series(np.random.randn(6), index=['a','b','c','d','e','f'])\n",
    "rnd_numb"
   ]
  },
  {
   "cell_type": "code",
   "execution_count": 6,
   "metadata": {},
   "outputs": [],
   "source": [
    "salary = lambda x: [x['salary']['from'], x['salary']['to'], x['salary']['currency'], x['salary']['gross']] if x['salary'] is not None else [None] * 4\n",
    "snippet = lambda x: [x['snippet']['responsibility'], x['snippet']['requirement']] if ['snippet'] is not None else [None] * 2\n",
    "schedule = lambda x: [x['schedule']['id'], x['schedule']['name']] if ['schedule'] is not None else [None] * 2\n",
    "\n",
    "vac_python = [] # РазработчикANDPython\n",
    "vac_cpp = [] # РазработчикANDC++\n",
    "vac_go = [] # РазработчикANDGo\n",
    "vac_main =[]\n",
    "\n",
    "vac_per_page = 1\n",
    "\n",
    "iterations = 1\n",
    "\n",
    "url_main = 'https://api.hh.ru/vacancies?&search_field=name&text={}&per_page={}&area=1&area=2&page={}'\n",
    "\n",
    "for i in range(iterations):\n",
    "    \n",
    "    url1 = url_main.format('РазработчикANDPython', str(vac_per_page), str(i))\n",
    "    \n",
    "    url2 = url_main.format('РазработчикANDC++', str(vac_per_page), str(i))\n",
    "    \n",
    "    url3 = url_main.format('РазработчикANDGo', str(vac_per_page), str(i))\n",
    "    \n",
    "    vac_main += [[x['id'], x['name'], x['area']['name']] + salary(x) + snippet(x) + schedule(x) for x in\n",
    "            requests.get(url1).json()['items']]\n",
    "    \n",
    "    vac_main += [[x['id'], x['name'], x['area']['name']] + salary(x) + snippet(x) + schedule(x) for x in\n",
    "            requests.get(url2).json()['items']]\n",
    "    \n",
    "    vac_main += [[x['id'], x['name'], x['area']['name']] + salary(x) + snippet(x) + schedule(x) for x in\n",
    "            requests.get(url3).json()['items']]"
   ]
  },
  {
   "cell_type": "code",
   "execution_count": 7,
   "metadata": {},
   "outputs": [],
   "source": [
    "# df_python = pd.DataFrame(vac1, columns=['vac_id','vac_name','vac_area','salary_from','salary_to','salary_currency','salary_gross','snippet_responsibility','snippet_requirment', 'schedule_id','schedule_name'])\n",
    "# df_cpp = pd.DataFrame(vac2, columns=['vac_id','vac_name','vac_area','salary_from','salary_to','salary_currency','salary_gross','snippet_responsibility','snippet_requirment', 'schedule_id','schedule_name'])\n",
    "# df_go = pd.DataFrame(vac3, columns=['vac_id','vac_name','vac_area','salary_from','salary_to','salary_currency','salary_gross','snippet_responsibility','snippet_requirment', 'schedule_id','schedule_name'])\n",
    "\n",
    "df_main = pd.DataFrame(vac_main, columns=['vac_id','vac_name','vac_area','salary_from','salary_to','salary_currency','salary_gross','snippet_responsibility','snippet_requirment', 'schedule_id','schedule_name'])"
   ]
  },
  {
   "cell_type": "code",
   "execution_count": 8,
   "metadata": {},
   "outputs": [
    {
     "data": {
      "text/html": [
       "<div>\n",
       "<style scoped>\n",
       "    .dataframe tbody tr th:only-of-type {\n",
       "        vertical-align: middle;\n",
       "    }\n",
       "\n",
       "    .dataframe tbody tr th {\n",
       "        vertical-align: top;\n",
       "    }\n",
       "\n",
       "    .dataframe thead th {\n",
       "        text-align: right;\n",
       "    }\n",
       "</style>\n",
       "<table border=\"1\" class=\"dataframe\">\n",
       "  <thead>\n",
       "    <tr style=\"text-align: right;\">\n",
       "      <th></th>\n",
       "      <th>vac_id</th>\n",
       "      <th>vac_name</th>\n",
       "      <th>vac_area</th>\n",
       "      <th>salary_from</th>\n",
       "      <th>salary_to</th>\n",
       "      <th>salary_currency</th>\n",
       "      <th>salary_gross</th>\n",
       "      <th>snippet_responsibility</th>\n",
       "      <th>snippet_requirment</th>\n",
       "      <th>schedule_id</th>\n",
       "      <th>schedule_name</th>\n",
       "    </tr>\n",
       "  </thead>\n",
       "  <tbody>\n",
       "    <tr>\n",
       "      <th>0</th>\n",
       "      <td>89805252</td>\n",
       "      <td>Младший разработчик Python (стажер)</td>\n",
       "      <td>Москва</td>\n",
       "      <td>35000.0</td>\n",
       "      <td>70000</td>\n",
       "      <td>RUR</td>\n",
       "      <td>True</td>\n",
       "      <td>Участвовать в разработке и поддержке внутренни...</td>\n",
       "      <td>Знаешь &lt;highlighttext&gt;Python&lt;/highlighttext&gt;, ...</td>\n",
       "      <td>fullDay</td>\n",
       "      <td>Полный день</td>\n",
       "    </tr>\n",
       "    <tr>\n",
       "      <th>1</th>\n",
       "      <td>88740206</td>\n",
       "      <td>Программист 1C ERP (работа в офисе)</td>\n",
       "      <td>Москва</td>\n",
       "      <td>NaN</td>\n",
       "      <td>250000</td>\n",
       "      <td>RUR</td>\n",
       "      <td>False</td>\n",
       "      <td>Участие в проекте разработки и внедрения 1С:ER...</td>\n",
       "      <td>...совместной работы в команде, прямое взаимод...</td>\n",
       "      <td>fullDay</td>\n",
       "      <td>Полный день</td>\n",
       "    </tr>\n",
       "    <tr>\n",
       "      <th>2</th>\n",
       "      <td>89800522</td>\n",
       "      <td>Junior BackEnd Developer (GO)</td>\n",
       "      <td>Москва</td>\n",
       "      <td>NaN</td>\n",
       "      <td>180000</td>\n",
       "      <td>RUR</td>\n",
       "      <td>False</td>\n",
       "      <td>В команде: 9 веб-&lt;highlighttext&gt;разработчиков&lt;...</td>\n",
       "      <td>Диплом о высшем или средне специальном образов...</td>\n",
       "      <td>fullDay</td>\n",
       "      <td>Полный день</td>\n",
       "    </tr>\n",
       "  </tbody>\n",
       "</table>\n",
       "</div>"
      ],
      "text/plain": [
       "     vac_id                             vac_name vac_area  salary_from  \\\n",
       "0  89805252  Младший разработчик Python (стажер)   Москва      35000.0   \n",
       "1  88740206  Программист 1C ERP (работа в офисе)   Москва          NaN   \n",
       "2  89800522        Junior BackEnd Developer (GO)   Москва          NaN   \n",
       "\n",
       "   salary_to salary_currency  salary_gross  \\\n",
       "0      70000             RUR          True   \n",
       "1     250000             RUR         False   \n",
       "2     180000             RUR         False   \n",
       "\n",
       "                              snippet_responsibility  \\\n",
       "0  Участвовать в разработке и поддержке внутренни...   \n",
       "1  Участие в проекте разработки и внедрения 1С:ER...   \n",
       "2  В команде: 9 веб-<highlighttext>разработчиков<...   \n",
       "\n",
       "                                  snippet_requirment schedule_id schedule_name  \n",
       "0  Знаешь <highlighttext>Python</highlighttext>, ...     fullDay   Полный день  \n",
       "1  ...совместной работы в команде, прямое взаимод...     fullDay   Полный день  \n",
       "2  Диплом о высшем или средне специальном образов...     fullDay   Полный день  "
      ]
     },
     "execution_count": 8,
     "metadata": {},
     "output_type": "execute_result"
    }
   ],
   "source": [
    "df_main.head()"
   ]
  }
 ],
 "metadata": {
  "kernelspec": {
   "display_name": "Python 3 (ipykernel)",
   "language": "python",
   "name": "python3"
  },
  "language_info": {
   "codemirror_mode": {
    "name": "ipython",
    "version": 3
   },
   "file_extension": ".py",
   "mimetype": "text/x-python",
   "name": "python",
   "nbconvert_exporter": "python",
   "pygments_lexer": "ipython3",
   "version": "3.11.4"
  }
 },
 "nbformat": 4,
 "nbformat_minor": 4
}
