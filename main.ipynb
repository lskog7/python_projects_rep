{
 "cells": [
  {
   "cell_type": "code",
   "execution_count": 1,
   "metadata": {},
   "outputs": [],
   "source": [
    "import pandas as pd\n",
    "import numpy as np\n",
    "import requests"
   ]
  },
  {
   "cell_type": "code",
   "execution_count": 59,
   "metadata": {},
   "outputs": [],
   "source": [
    "products = {'Продукт': ['Картошка', 'Морковь', 'Яблоко'], 'Категория': ['Овощ', 'Овощ', 'Фрукт']}\n",
    "prices = {'Продукт': ['Картошка', 'Морковь', 'Яблоко'], 'Цена': [50 ,60 ,120]}\n",
    "\n",
    "df_prod = pd.DataFrame(products)\n",
    "df_price = pd.DataFrame(prices)"
   ]
  },
  {
   "cell_type": "code",
   "execution_count": 60,
   "metadata": {},
   "outputs": [
    {
     "data": {
      "text/html": [
       "<div>\n",
       "<style scoped>\n",
       "    .dataframe tbody tr th:only-of-type {\n",
       "        vertical-align: middle;\n",
       "    }\n",
       "\n",
       "    .dataframe tbody tr th {\n",
       "        vertical-align: top;\n",
       "    }\n",
       "\n",
       "    .dataframe thead th {\n",
       "        text-align: right;\n",
       "    }\n",
       "</style>\n",
       "<table border=\"1\" class=\"dataframe\">\n",
       "  <thead>\n",
       "    <tr style=\"text-align: right;\">\n",
       "      <th></th>\n",
       "      <th>Продукт</th>\n",
       "      <th>Категория</th>\n",
       "      <th>Цена</th>\n",
       "    </tr>\n",
       "  </thead>\n",
       "  <tbody>\n",
       "    <tr>\n",
       "      <th>0</th>\n",
       "      <td>Картошка</td>\n",
       "      <td>Овощ</td>\n",
       "      <td>50</td>\n",
       "    </tr>\n",
       "    <tr>\n",
       "      <th>1</th>\n",
       "      <td>Морковь</td>\n",
       "      <td>Овощ</td>\n",
       "      <td>60</td>\n",
       "    </tr>\n",
       "    <tr>\n",
       "      <th>2</th>\n",
       "      <td>Яблоко</td>\n",
       "      <td>Фрукт</td>\n",
       "      <td>120</td>\n",
       "    </tr>\n",
       "  </tbody>\n",
       "</table>\n",
       "</div>"
      ],
      "text/plain": [
       "    Продукт Категория  Цена\n",
       "0  Картошка      Овощ    50\n",
       "1   Морковь      Овощ    60\n",
       "2    Яблоко     Фрукт   120"
      ]
     },
     "execution_count": 60,
     "metadata": {},
     "output_type": "execute_result"
    }
   ],
   "source": [
    "df_prod.merge(df_price, on='Продукт')"
   ]
  },
  {
   "cell_type": "code",
   "execution_count": 61,
   "metadata": {},
   "outputs": [
    {
     "data": {
      "text/plain": [
       "a   -0.032944\n",
       "b   -1.693443\n",
       "c    1.291392\n",
       "d   -0.328807\n",
       "e   -0.235432\n",
       "f   -1.500572\n",
       "dtype: float64"
      ]
     },
     "execution_count": 61,
     "metadata": {},
     "output_type": "execute_result"
    }
   ],
   "source": [
    "rnd_numb = pd.Series(np.random.randn(6), index=['a','b','c','d','e','f'])\n",
    "rnd_numb"
   ]
  },
  {
   "cell_type": "code",
   "execution_count": 6,
   "metadata": {},
   "outputs": [],
   "source": [
    "salary = lambda x: [x['salary']['from'], x['salary']['to'], x['salary']['currency'], x['salary']['gross']] if x['salary'] is not None else [None] * 4\n",
    "snippet = lambda x: [x['snippet']['responsibility'], x['snippet']['requirement']] if ['snippet'] is not None else [None] * 2\n",
    "schedule = lambda x: [x['schedule']['id'], x['schedule']['name']] if ['schedule'] is not None else [None] * 2\n",
    "\n",
    "vac_python = [] # РазработчикANDPython\n",
    "vac_cpp = [] # РазработчикANDC++\n",
    "vac_go = [] # РазработчикANDGo\n",
    "vac_main =[]\n",
    "\n",
    "vac_per_page = 1\n",
    "\n",
    "iterations = 1\n",
    "\n",
    "url_main = 'https://api.hh.ru/vacancies?&search_field=name&text={}&per_page={}&area=1&area=2&page={}'\n",
    "\n",
    "for i in range(iterations):\n",
    "    \n",
    "    url1 = url_main.format('РазработчикANDPython', str(vac_per_page), str(i))\n",
    "    \n",
    "    url2 = url_main.format('РазработчикANDC++', str(vac_per_page), str(i))\n",
    "    \n",
    "    url3 = url_main.format('РазработчикANDGo', str(vac_per_page), str(i))\n",
    "    \n",
    "    vac_main += [[x['id'], x['name'], x['area']['name']] + salary(x) + snippet(x) + schedule(x) for x in\n",
    "            requests.get(url1).json()['items']]\n",
    "    \n",
    "    vac_main += [[x['id'], x['name'], x['area']['name']] + salary(x) + snippet(x) + schedule(x) for x in\n",
    "            requests.get(url2).json()['items']]\n",
    "    \n",
    "    vac_main += [[x['id'], x['name'], x['area']['name']] + salary(x) + snippet(x) + schedule(x) for x in\n",
    "            requests.get(url3).json()['items']]"
   ]
  },
  {
   "cell_type": "code",
   "execution_count": 7,
   "metadata": {},
   "outputs": [],
   "source": [
    "# df_python = pd.DataFrame(vac1, columns=['vac_id','vac_name','vac_area','salary_from','salary_to','salary_currency','salary_gross','snippet_responsibility','snippet_requirment', 'schedule_id','schedule_name'])\n",
    "# df_cpp = pd.DataFrame(vac2, columns=['vac_id','vac_name','vac_area','salary_from','salary_to','salary_currency','salary_gross','snippet_responsibility','snippet_requirment', 'schedule_id','schedule_name'])\n",
    "# df_go = pd.DataFrame(vac3, columns=['vac_id','vac_name','vac_area','salary_from','salary_to','salary_currency','salary_gross','snippet_responsibility','snippet_requirment', 'schedule_id','schedule_name'])\n",
    "\n",
    "df_main = pd.DataFrame(vac_main, columns=['vac_id','vac_name','vac_area','salary_from','salary_to','salary_currency','salary_gross','snippet_responsibility','snippet_requirment', 'schedule_id','schedule_name'])"
   ]
  },
  {
   "cell_type": "code",
   "execution_count": 8,
   "metadata": {},
   "outputs": [
    {
     "data": {
      "text/html": [
       "<div>\n",
       "<style scoped>\n",
       "    .dataframe tbody tr th:only-of-type {\n",
       "        vertical-align: middle;\n",
       "    }\n",
       "\n",
       "    .dataframe tbody tr th {\n",
       "        vertical-align: top;\n",
       "    }\n",
       "\n",
       "    .dataframe thead th {\n",
       "        text-align: right;\n",
       "    }\n",
       "</style>\n",
       "<table border=\"1\" class=\"dataframe\">\n",
       "  <thead>\n",
       "    <tr style=\"text-align: right;\">\n",
       "      <th></th>\n",
       "      <th>vac_id</th>\n",
       "      <th>vac_name</th>\n",
       "      <th>vac_area</th>\n",
       "      <th>salary_from</th>\n",
       "      <th>salary_to</th>\n",
       "      <th>salary_currency</th>\n",
       "      <th>salary_gross</th>\n",
       "      <th>snippet_responsibility</th>\n",
       "      <th>snippet_requirment</th>\n",
       "      <th>schedule_id</th>\n",
       "      <th>schedule_name</th>\n",
       "    </tr>\n",
       "  </thead>\n",
       "  <tbody>\n",
       "    <tr>\n",
       "      <th>0</th>\n",
       "      <td>89805252</td>\n",
       "      <td>Младший разработчик Python (стажер)</td>\n",
       "      <td>Москва</td>\n",
       "      <td>35000.0</td>\n",
       "      <td>70000</td>\n",
       "      <td>RUR</td>\n",
       "      <td>True</td>\n",
       "      <td>Участвовать в разработке и поддержке внутренни...</td>\n",
       "      <td>Знаешь &lt;highlighttext&gt;Python&lt;/highlighttext&gt;, ...</td>\n",
       "      <td>fullDay</td>\n",
       "      <td>Полный день</td>\n",
       "    </tr>\n",
       "    <tr>\n",
       "      <th>1</th>\n",
       "      <td>88740206</td>\n",
       "      <td>Программист 1C ERP (работа в офисе)</td>\n",
       "      <td>Москва</td>\n",
       "      <td>NaN</td>\n",
       "      <td>250000</td>\n",
       "      <td>RUR</td>\n",
       "      <td>False</td>\n",
       "      <td>Участие в проекте разработки и внедрения 1С:ER...</td>\n",
       "      <td>...совместной работы в команде, прямое взаимод...</td>\n",
       "      <td>fullDay</td>\n",
       "      <td>Полный день</td>\n",
       "    </tr>\n",
       "    <tr>\n",
       "      <th>2</th>\n",
       "      <td>89800522</td>\n",
       "      <td>Junior BackEnd Developer (GO)</td>\n",
       "      <td>Москва</td>\n",
       "      <td>NaN</td>\n",
       "      <td>180000</td>\n",
       "      <td>RUR</td>\n",
       "      <td>False</td>\n",
       "      <td>В команде: 9 веб-&lt;highlighttext&gt;разработчиков&lt;...</td>\n",
       "      <td>Диплом о высшем или средне специальном образов...</td>\n",
       "      <td>fullDay</td>\n",
       "      <td>Полный день</td>\n",
       "    </tr>\n",
       "  </tbody>\n",
       "</table>\n",
       "</div>"
      ],
      "text/plain": [
       "     vac_id                             vac_name vac_area  salary_from  \\\n",
       "0  89805252  Младший разработчик Python (стажер)   Москва      35000.0   \n",
       "1  88740206  Программист 1C ERP (работа в офисе)   Москва          NaN   \n",
       "2  89800522        Junior BackEnd Developer (GO)   Москва          NaN   \n",
       "\n",
       "   salary_to salary_currency  salary_gross  \\\n",
       "0      70000             RUR          True   \n",
       "1     250000             RUR         False   \n",
       "2     180000             RUR         False   \n",
       "\n",
       "                              snippet_responsibility  \\\n",
       "0  Участвовать в разработке и поддержке внутренни...   \n",
       "1  Участие в проекте разработки и внедрения 1С:ER...   \n",
       "2  В команде: 9 веб-<highlighttext>разработчиков<...   \n",
       "\n",
       "                                  snippet_requirment schedule_id schedule_name  \n",
       "0  Знаешь <highlighttext>Python</highlighttext>, ...     fullDay   Полный день  \n",
       "1  ...совместной работы в команде, прямое взаимод...     fullDay   Полный день  \n",
       "2  Диплом о высшем или средне специальном образов...     fullDay   Полный день  "
      ]
     },
     "execution_count": 8,
     "metadata": {},
     "output_type": "execute_result"
    }
   ],
   "source": [
    "df_main.head()"
   ]
  },
  {
   "cell_type": "code",
   "execution_count": null,
   "metadata": {},
   "outputs": [],
   "source": [
    "df_main.shape"
   ]
  },
  {
   "cell_type": "code",
   "execution_count": 21,
   "metadata": {},
   "outputs": [
    {
     "ename": "KeyError",
     "evalue": "\"None of [Index(['id', 'name', 'area', 'salary', 'snippet', 'schedule'], dtype='object')] are in the [columns]\"",
     "output_type": "error",
     "traceback": [
      "\u001b[1;31m---------------------------------------------------------------------------\u001b[0m",
      "\u001b[1;31mKeyError\u001b[0m                                  Traceback (most recent call last)",
      "\u001b[1;32mc:\\Users\\Tema\\.vscode\\python_projects\\main.ipynb Cell 9\u001b[0m line \u001b[0;36m4\n\u001b[0;32m      <a href='vscode-notebook-cell:/c%3A/Users/Tema/.vscode/python_projects/main.ipynb#X11sZmlsZQ%3D%3D?line=0'>1</a>\u001b[0m host \u001b[39m=\u001b[39m \u001b[39m'\u001b[39m\u001b[39mhttps://api.hh.ru/vacancies?&search_field=name&text=\u001b[39m\u001b[39m{}\u001b[39;00m\u001b[39m&per_page=100&page=\u001b[39m\u001b[39m{}\u001b[39;00m\u001b[39m'\u001b[39m\n\u001b[0;32m      <a href='vscode-notebook-cell:/c%3A/Users/Tema/.vscode/python_projects/main.ipynb#X11sZmlsZQ%3D%3D?line=1'>2</a>\u001b[0m topics \u001b[39m=\u001b[39m [\u001b[39m'\u001b[39m\u001b[39mРазработчикANDPython\u001b[39m\u001b[39m'\u001b[39m,\u001b[39m'\u001b[39m\u001b[39mРазработчикANDC++\u001b[39m\u001b[39m'\u001b[39m,\u001b[39m'\u001b[39m\u001b[39mРазработчикANDGo\u001b[39m\u001b[39m'\u001b[39m]\n\u001b[1;32m----> <a href='vscode-notebook-cell:/c%3A/Users/Tema/.vscode/python_projects/main.ipynb#X11sZmlsZQ%3D%3D?line=3'>4</a>\u001b[0m df \u001b[39m=\u001b[39m pd\u001b[39m.\u001b[39;49mDataFrame()[[\u001b[39m'\u001b[39;49m\u001b[39mid\u001b[39;49m\u001b[39m'\u001b[39;49m,\u001b[39m'\u001b[39;49m\u001b[39mname\u001b[39;49m\u001b[39m'\u001b[39;49m,\u001b[39m'\u001b[39;49m\u001b[39marea\u001b[39;49m\u001b[39m'\u001b[39;49m,\u001b[39m'\u001b[39;49m\u001b[39msalary\u001b[39;49m\u001b[39m'\u001b[39;49m,\u001b[39m'\u001b[39;49m\u001b[39msnippet\u001b[39;49m\u001b[39m'\u001b[39;49m,\u001b[39m'\u001b[39;49m\u001b[39mschedule\u001b[39;49m\u001b[39m'\u001b[39;49m]]\n",
      "File \u001b[1;32mc:\\Users\\Tema\\AppData\\Local\\Programs\\Python\\Python311\\Lib\\site-packages\\pandas\\core\\frame.py:3902\u001b[0m, in \u001b[0;36mDataFrame.__getitem__\u001b[1;34m(self, key)\u001b[0m\n\u001b[0;32m   3900\u001b[0m     \u001b[39mif\u001b[39;00m is_iterator(key):\n\u001b[0;32m   3901\u001b[0m         key \u001b[39m=\u001b[39m \u001b[39mlist\u001b[39m(key)\n\u001b[1;32m-> 3902\u001b[0m     indexer \u001b[39m=\u001b[39m \u001b[39mself\u001b[39;49m\u001b[39m.\u001b[39;49mcolumns\u001b[39m.\u001b[39;49m_get_indexer_strict(key, \u001b[39m\"\u001b[39;49m\u001b[39mcolumns\u001b[39;49m\u001b[39m\"\u001b[39;49m)[\u001b[39m1\u001b[39m]\n\u001b[0;32m   3904\u001b[0m \u001b[39m# take() does not accept boolean indexers\u001b[39;00m\n\u001b[0;32m   3905\u001b[0m \u001b[39mif\u001b[39;00m \u001b[39mgetattr\u001b[39m(indexer, \u001b[39m\"\u001b[39m\u001b[39mdtype\u001b[39m\u001b[39m\"\u001b[39m, \u001b[39mNone\u001b[39;00m) \u001b[39m==\u001b[39m \u001b[39mbool\u001b[39m:\n",
      "File \u001b[1;32mc:\\Users\\Tema\\AppData\\Local\\Programs\\Python\\Python311\\Lib\\site-packages\\pandas\\core\\indexes\\base.py:6114\u001b[0m, in \u001b[0;36mIndex._get_indexer_strict\u001b[1;34m(self, key, axis_name)\u001b[0m\n\u001b[0;32m   6111\u001b[0m \u001b[39melse\u001b[39;00m:\n\u001b[0;32m   6112\u001b[0m     keyarr, indexer, new_indexer \u001b[39m=\u001b[39m \u001b[39mself\u001b[39m\u001b[39m.\u001b[39m_reindex_non_unique(keyarr)\n\u001b[1;32m-> 6114\u001b[0m \u001b[39mself\u001b[39;49m\u001b[39m.\u001b[39;49m_raise_if_missing(keyarr, indexer, axis_name)\n\u001b[0;32m   6116\u001b[0m keyarr \u001b[39m=\u001b[39m \u001b[39mself\u001b[39m\u001b[39m.\u001b[39mtake(indexer)\n\u001b[0;32m   6117\u001b[0m \u001b[39mif\u001b[39;00m \u001b[39misinstance\u001b[39m(key, Index):\n\u001b[0;32m   6118\u001b[0m     \u001b[39m# GH 42790 - Preserve name from an Index\u001b[39;00m\n",
      "File \u001b[1;32mc:\\Users\\Tema\\AppData\\Local\\Programs\\Python\\Python311\\Lib\\site-packages\\pandas\\core\\indexes\\base.py:6175\u001b[0m, in \u001b[0;36mIndex._raise_if_missing\u001b[1;34m(self, key, indexer, axis_name)\u001b[0m\n\u001b[0;32m   6173\u001b[0m     \u001b[39mif\u001b[39;00m use_interval_msg:\n\u001b[0;32m   6174\u001b[0m         key \u001b[39m=\u001b[39m \u001b[39mlist\u001b[39m(key)\n\u001b[1;32m-> 6175\u001b[0m     \u001b[39mraise\u001b[39;00m \u001b[39mKeyError\u001b[39;00m(\u001b[39mf\u001b[39m\u001b[39m\"\u001b[39m\u001b[39mNone of [\u001b[39m\u001b[39m{\u001b[39;00mkey\u001b[39m}\u001b[39;00m\u001b[39m] are in the [\u001b[39m\u001b[39m{\u001b[39;00maxis_name\u001b[39m}\u001b[39;00m\u001b[39m]\u001b[39m\u001b[39m\"\u001b[39m)\n\u001b[0;32m   6177\u001b[0m not_found \u001b[39m=\u001b[39m \u001b[39mlist\u001b[39m(ensure_index(key)[missing_mask\u001b[39m.\u001b[39mnonzero()[\u001b[39m0\u001b[39m]]\u001b[39m.\u001b[39munique())\n\u001b[0;32m   6178\u001b[0m \u001b[39mraise\u001b[39;00m \u001b[39mKeyError\u001b[39;00m(\u001b[39mf\u001b[39m\u001b[39m\"\u001b[39m\u001b[39m{\u001b[39;00mnot_found\u001b[39m}\u001b[39;00m\u001b[39m not in index\u001b[39m\u001b[39m\"\u001b[39m)\n",
      "\u001b[1;31mKeyError\u001b[0m: \"None of [Index(['id', 'name', 'area', 'salary', 'snippet', 'schedule'], dtype='object')] are in the [columns]\""
     ]
    }
   ],
   "source": [
    "host = 'https://api.hh.ru/vacancies?&search_field=name&text={}&per_page=100&page={}'\n",
    "topics = ['РазработчикANDPython','РазработчикANDC++','РазработчикANDGo']\n",
    "\n",
    "df = pd.DataFrame()"
   ]
  },
  {
   "cell_type": "code",
   "execution_count": 11,
   "metadata": {},
   "outputs": [
    {
     "name": "stdout",
     "output_type": "stream",
     "text": [
      "ERROR\n",
      "ERROR\n",
      "ERROR\n"
     ]
    }
   ],
   "source": [
    "for top in topics:\n",
    "    for i in range(20):\n",
    "        url = f'https://api.hh.ru/vacancies?&search_field=name&text={top}&per_page=100&page={str(i)}'\n",
    "        try:\n",
    "            js = requests.get(url).json()['items']\n",
    "            tmp = pd.DataFrame(js)[['id','name','area','salary','snippet','schedule']]\n",
    "            df = pd.concat([df, tmp])\n",
    "        except:\n",
    "            print(\"ERROR\")\n",
    "            break\n",
    "df.index = range(df.shape[0])"
   ]
  },
  {
   "cell_type": "code",
   "execution_count": 10,
   "metadata": {},
   "outputs": [
    {
     "data": {
      "text/html": [
       "<div>\n",
       "<style scoped>\n",
       "    .dataframe tbody tr th:only-of-type {\n",
       "        vertical-align: middle;\n",
       "    }\n",
       "\n",
       "    .dataframe tbody tr th {\n",
       "        vertical-align: top;\n",
       "    }\n",
       "\n",
       "    .dataframe thead th {\n",
       "        text-align: right;\n",
       "    }\n",
       "</style>\n",
       "<table border=\"1\" class=\"dataframe\">\n",
       "  <thead>\n",
       "    <tr style=\"text-align: right;\">\n",
       "      <th></th>\n",
       "    </tr>\n",
       "  </thead>\n",
       "  <tbody>\n",
       "  </tbody>\n",
       "</table>\n",
       "</div>"
      ],
      "text/plain": [
       "Empty DataFrame\n",
       "Columns: []\n",
       "Index: []"
      ]
     },
     "execution_count": 10,
     "metadata": {},
     "output_type": "execute_result"
    }
   ],
   "source": [
    "df.head(10)"
   ]
  }
 ],
 "metadata": {
  "kernelspec": {
   "display_name": "Python 3",
   "language": "python",
   "name": "python3"
  },
  "language_info": {
   "codemirror_mode": {
    "name": "ipython",
    "version": 3
   },
   "file_extension": ".py",
   "mimetype": "text/x-python",
   "name": "python",
   "nbconvert_exporter": "python",
   "pygments_lexer": "ipython3",
   "version": "3.11.5"
  }
 },
 "nbformat": 4,
 "nbformat_minor": 2
}
