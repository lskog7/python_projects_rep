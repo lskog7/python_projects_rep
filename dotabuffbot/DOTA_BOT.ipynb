{
 "cells": [
  {
   "cell_type": "code",
   "execution_count": 1,
   "id": "a93348c6",
   "metadata": {},
   "outputs": [],
   "source": [
    "from dotabuff_parce import *\n",
    "from aiogram import Bot, Dispatcher, executor, types\n",
    "import nest_asyncio \n",
    "nest_asyncio.apply() "
   ]
  },
  {
   "cell_type": "code",
   "execution_count": null,
   "id": "b3d10141",
   "metadata": {},
   "outputs": [
    {
     "name": "stderr",
     "output_type": "stream",
     "text": [
      "Task exception was never retrieved\n",
      "future: <Task finished name='Task-16' coro=<Dispatcher._process_polling_updates() done, defined at C:\\Users\\nicol\\anaconda3\\lib\\site-packages\\aiogram\\dispatcher\\dispatcher.py:407> exception=UnboundLocalError(\"local variable 'answer1' referenced before assignment\")>\n",
      "Traceback (most recent call last):\n",
      "  File \"C:\\Users\\nicol\\anaconda3\\lib\\asyncio\\tasks.py\", line 282, in __step\n",
      "    result = coro.throw(exc)\n",
      "  File \"C:\\Users\\nicol\\anaconda3\\lib\\site-packages\\aiogram\\dispatcher\\dispatcher.py\", line 415, in _process_polling_updates\n",
      "    for responses in itertools.chain.from_iterable(await self.process_updates(updates, fast)):\n",
      "  File \"C:\\Users\\nicol\\anaconda3\\lib\\site-packages\\aiogram\\dispatcher\\dispatcher.py\", line 235, in process_updates\n",
      "    return await asyncio.gather(*tasks)\n",
      "  File \"C:\\Users\\nicol\\anaconda3\\lib\\asyncio\\tasks.py\", line 349, in __wakeup\n",
      "    future.result()\n",
      "  File \"C:\\Users\\nicol\\anaconda3\\lib\\asyncio\\tasks.py\", line 280, in __step\n",
      "    result = coro.send(None)\n",
      "  File \"C:\\Users\\nicol\\anaconda3\\lib\\site-packages\\aiogram\\dispatcher\\handler.py\", line 116, in notify\n",
      "    response = await handler_obj.handler(*args, **partial_data)\n",
      "  File \"C:\\Users\\nicol\\anaconda3\\lib\\site-packages\\aiogram\\dispatcher\\dispatcher.py\", line 256, in process_update\n",
      "    return await self.message_handlers.notify(update.message)\n",
      "  File \"C:\\Users\\nicol\\anaconda3\\lib\\site-packages\\aiogram\\dispatcher\\handler.py\", line 116, in notify\n",
      "    response = await handler_obj.handler(*args, **partial_data)\n",
      "  File \"<ipython-input-2-9eb346b709c5>\", line 34, in get_weather\n",
      "    await message.answer(f'{answer1} \\n {answer2}')\n",
      "UnboundLocalError: local variable 'answer1' referenced before assignment\n",
      "Task exception was never retrieved\n",
      "future: <Task finished name='Task-21' coro=<Dispatcher._process_polling_updates() done, defined at C:\\Users\\nicol\\anaconda3\\lib\\site-packages\\aiogram\\dispatcher\\dispatcher.py:407> exception=UnboundLocalError(\"local variable 'answer1' referenced before assignment\")>\n",
      "Traceback (most recent call last):\n",
      "  File \"C:\\Users\\nicol\\anaconda3\\lib\\asyncio\\tasks.py\", line 282, in __step\n",
      "    result = coro.throw(exc)\n",
      "  File \"C:\\Users\\nicol\\anaconda3\\lib\\site-packages\\aiogram\\dispatcher\\dispatcher.py\", line 415, in _process_polling_updates\n",
      "    for responses in itertools.chain.from_iterable(await self.process_updates(updates, fast)):\n",
      "  File \"C:\\Users\\nicol\\anaconda3\\lib\\site-packages\\aiogram\\dispatcher\\dispatcher.py\", line 235, in process_updates\n",
      "    return await asyncio.gather(*tasks)\n",
      "  File \"C:\\Users\\nicol\\anaconda3\\lib\\asyncio\\tasks.py\", line 349, in __wakeup\n",
      "    future.result()\n",
      "  File \"C:\\Users\\nicol\\anaconda3\\lib\\asyncio\\tasks.py\", line 280, in __step\n",
      "    result = coro.send(None)\n",
      "  File \"C:\\Users\\nicol\\anaconda3\\lib\\site-packages\\aiogram\\dispatcher\\handler.py\", line 116, in notify\n",
      "    response = await handler_obj.handler(*args, **partial_data)\n",
      "  File \"C:\\Users\\nicol\\anaconda3\\lib\\site-packages\\aiogram\\dispatcher\\dispatcher.py\", line 256, in process_update\n",
      "    return await self.message_handlers.notify(update.message)\n",
      "  File \"C:\\Users\\nicol\\anaconda3\\lib\\site-packages\\aiogram\\dispatcher\\handler.py\", line 116, in notify\n",
      "    response = await handler_obj.handler(*args, **partial_data)\n",
      "  File \"<ipython-input-2-9eb346b709c5>\", line 34, in get_weather\n",
      "    await message.answer(f'{answer1} \\n {answer2}')\n",
      "UnboundLocalError: local variable 'answer1' referenced before assignment\n"
     ]
    }
   ],
   "source": [
    "token = '5990672545:AAG865abFxniKP-XnEYC_Tv6UiUirQG0cNM'\n",
    "\n",
    "bot = Bot(token = token)\n",
    "dp = Dispatcher(bot = bot)\n",
    "\n",
    "@dp.message_handler(commands = ['start'])\n",
    "async def start_handler(message: types.Message):\n",
    "    user_id = message.from_user.id\n",
    "    user_name = message.from_user.first_name\n",
    "    await message.reply(f'Privet, {user_name}!!!, напиши через запятую пул героев,\\\n",
    "    для которых нужно подобрать контрпик, например, Abaddon, Snapfire, Axe. Можно указать от одного\\\n",
    "    до пятерых героев.')\n",
    "\n",
    "@dp.message_handler()\n",
    "async def get_weather(message: types.Message):\n",
    "    \n",
    "    try:\n",
    "        pool = message.text.split(',')\n",
    "        pool = [i.strip() for i in pool]\n",
    "        while len(pool) != 5:\n",
    "            pool.append(None)\n",
    "        c_p = counterpick(pool[0], pool[1], pool[2], pool[3], pool[4])\n",
    "        answer1 = 'Лучшие герои для пика: '\n",
    "        for i in c_p[0]:\n",
    "            answer1 = answer1 + i +', '\n",
    "        answer1 = answer1[:-2]\n",
    "        answer2 = 'Худшие герои для пика: '\n",
    "        for i in c_p[1]:\n",
    "            answer2 = answer2 + i +', '\n",
    "        answer2 = answer2[:-2]\n",
    "    except:\n",
    "        await message.answer('Проверьте введенные данные на корректность!!!')\n",
    "        \n",
    "    await message.answer(f'{answer1} \\n {answer2}')\n",
    "    \n",
    "if __name__  == '__main__':\n",
    "    executor.start_polling(dp)"
   ]
  },
  {
   "cell_type": "code",
   "execution_count": null,
   "id": "26306755",
   "metadata": {},
   "outputs": [],
   "source": []
  }
 ],
 "metadata": {
  "kernelspec": {
   "display_name": "Python 3 (ipykernel)",
   "language": "python",
   "name": "python3"
  },
  "language_info": {
   "codemirror_mode": {
    "name": "ipython",
    "version": 3
   },
   "file_extension": ".py",
   "mimetype": "text/x-python",
   "name": "python",
   "nbconvert_exporter": "python",
   "pygments_lexer": "ipython3",
   "version": "3.10.9"
  }
 },
 "nbformat": 4,
 "nbformat_minor": 5
}
