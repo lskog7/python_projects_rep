{
 "cells": [
  {
   "cell_type": "code",
   "execution_count": 1,
   "id": "4e689436",
   "metadata": {},
   "outputs": [],
   "source": [
    "import requests \n",
    "from bs4 import BeautifulSoup\n",
    "import re\n",
    "import pandas as pd\n",
    "import numpy as np"
   ]
  },
  {
   "cell_type": "code",
   "execution_count": 2,
   "id": "06000da5",
   "metadata": {},
   "outputs": [],
   "source": [
    "url = 'https://www.dotabuff.com/heroes'\n",
    "headers = {\n",
    "    'Accept' : '*,*',\n",
    "    'User-Agent' : 'Mozilla/5.0 (Windows NT 10.0; Win64; x64) AppleWebKit/537.36 (KHTML, like Gecko) Chrome/108.0.0.0 YaBrowser/23.1.0.2947 Yowser/2.5 Safari/537.36'\n",
    "}\n",
    "req = requests.get(url, headers = headers)\n",
    "src = req.text\n",
    "\n",
    "with open('index.html', 'w',  encoding = \"utf-8\") as file:\n",
    "    file.write(src)"
   ]
  },
  {
   "cell_type": "code",
   "execution_count": 3,
   "id": "e4ee0be2",
   "metadata": {},
   "outputs": [],
   "source": [
    "with open('index.html', encoding = \"utf-8\") as file:\n",
    "    src = file.read()\n",
    "soup = BeautifulSoup(src, 'lxml')"
   ]
  },
  {
   "cell_type": "code",
   "execution_count": 4,
   "id": "01223eba",
   "metadata": {},
   "outputs": [],
   "source": [
    "all_heroes = soup.find_all(class_ = 'name')\n",
    "hero_names = []\n",
    "hero_links = []\n",
    "hero_counters_links = []\n",
    "for i in all_heroes:\n",
    "    hero_name = i.text\n",
    "    hero_names.append(hero_name)\n",
    "    hero_link = 'https://www.dotabuff.com/heroes' + '/' + str(hero_name).lower().replace(' ', '-')\n",
    "    hero_links.append(hero_link)\n",
    "    hero_counters_link = 'https://www.dotabuff.com/heroes' + '/' + \\\n",
    "    str(hero_name).lower().replace(' ', '-') + '/counters' \n",
    "    hero_counters_links.append(hero_counters_link)\n",
    "name_and_link =  dict(zip(hero_names, hero_links))\n",
    "name_and_counters_link = dict(zip(hero_names, hero_counters_links))"
   ]
  },
  {
   "cell_type": "code",
   "execution_count": 5,
   "id": "8f50b1fb",
   "metadata": {},
   "outputs": [],
   "source": [
    "def counters(name):\n",
    "    link = name_and_counters_link[name]\n",
    "    url = link\n",
    "    headers = {\n",
    "        'Accept' : '*/*',\n",
    "        'User-Agent' : 'Mozilla/5.0 (Windows NT 10.0; Win64; x64) AppleWebKit/537.36 (KHTML, like Gecko) Chrome/108.0.0.0 YaBrowser/23.1.0.2947 Yowser/2.5 Safari/537.36'\n",
    "    }\n",
    "    req = requests.get(url, headers = headers)\n",
    "    src = req.text\n",
    "    soup = BeautifulSoup(src, 'lxml')\n",
    "    \n",
    "    all_info = []\n",
    "    for t in soup.find('table', class_ = 'sortable').find_all('td'):\n",
    "        if t.get('data-value') != None :\n",
    "            all_info.append(t.get('data-value').split('/n')[0])\n",
    "    counter_heroes = all_info[::4]\n",
    "    disadvantage = list(map(lambda x : float(x), all_info[1::4]))\n",
    "    \n",
    "    return counter_heroes, disadvantage\n"
   ]
  },
  {
   "cell_type": "code",
   "execution_count": 6,
   "id": "0f768bff",
   "metadata": {},
   "outputs": [],
   "source": [
    "def counterpick(hero1, hero2 = None, hero3 = None, hero4 = None, hero5 = None):\n",
    "    heroes = np.array([hero1, hero2, hero3, hero4, hero5])\n",
    "    heroes = heroes[heroes != None]\n",
    "    \n",
    "    all_heroes_df = pd.DataFrame(data = [hero_names, np.array([0]* 123)]).T\n",
    "    all_heroes_df = all_heroes_df.drop(index = all_heroes_df[all_heroes_df[0].isin(heroes)].index)\\\n",
    "        .reset_index(drop = True)\n",
    "    \n",
    "    for hero in heroes:\n",
    "        counter_picks = pd.DataFrame(data = [counters(hero)[0], counters(hero)[1]]).T\n",
    "        counter_picks = counter_picks.drop(index = counter_picks[counter_picks[0].isin(heroes)].index)\\\n",
    "        .reset_index(drop = True)\n",
    "        counter_picks = counter_picks.sort_values(by = 0).reset_index(drop = True)\n",
    "        all_heroes_df[1] = counter_picks[1] + all_heroes_df[1] \n",
    "        \n",
    "    suggested_heroes = all_heroes_df.iloc[all_heroes_df[1].sort_values(ascending = False)\\\n",
    "                       .head(10).index][0].values\n",
    "    not_suggested_heroes = all_heroes_df.iloc[all_heroes_df[1].sort_values(ascending = False)\\\n",
    "                       .tail(10).index][0].values\n",
    "    return list(suggested_heroes), list(not_suggested_heroes)"
   ]
  },
  {
   "cell_type": "code",
   "execution_count": null,
   "id": "de062431",
   "metadata": {},
   "outputs": [],
   "source": []
  },
  {
   "cell_type": "code",
   "execution_count": null,
   "id": "cf98cf4c",
   "metadata": {},
   "outputs": [],
   "source": []
  },
  {
   "cell_type": "code",
   "execution_count": null,
   "id": "59461e9f",
   "metadata": {},
   "outputs": [],
   "source": []
  },
  {
   "cell_type": "code",
   "execution_count": null,
   "id": "83c91237",
   "metadata": {},
   "outputs": [],
   "source": []
  },
  {
   "cell_type": "code",
   "execution_count": null,
   "id": "2c7e3449",
   "metadata": {},
   "outputs": [],
   "source": []
  },
  {
   "cell_type": "code",
   "execution_count": null,
   "id": "020e36b0",
   "metadata": {},
   "outputs": [],
   "source": []
  },
  {
   "cell_type": "code",
   "execution_count": null,
   "id": "845f70b5",
   "metadata": {},
   "outputs": [],
   "source": []
  },
  {
   "cell_type": "code",
   "execution_count": null,
   "id": "bb9a70bf",
   "metadata": {},
   "outputs": [],
   "source": []
  },
  {
   "cell_type": "code",
   "execution_count": null,
   "id": "5fa43402",
   "metadata": {},
   "outputs": [],
   "source": []
  }
 ],
 "metadata": {
  "kernelspec": {
   "display_name": "Python 3 (ipykernel)",
   "language": "python",
   "name": "python3"
  },
  "language_info": {
   "codemirror_mode": {
    "name": "ipython",
    "version": 3
   },
   "file_extension": ".py",
   "mimetype": "text/x-python",
   "name": "python",
   "nbconvert_exporter": "python",
   "pygments_lexer": "ipython3",
   "version": "3.10.9"
  }
 },
 "nbformat": 4,
 "nbformat_minor": 5
}
