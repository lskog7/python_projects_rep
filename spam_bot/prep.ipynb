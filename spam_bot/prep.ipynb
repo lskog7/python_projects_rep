{
 "cells": [
  {
   "cell_type": "code",
   "execution_count": 1,
   "id": "8a6971e5a4030f4c",
   "metadata": {
    "collapsed": false,
    "ExecuteTime": {
     "end_time": "2024-03-20T06:18:10.832683700Z",
     "start_time": "2024-03-20T06:18:09.416248800Z"
    }
   },
   "outputs": [],
   "source": [
    "import pandas as pd\n",
    "import numpy as np"
   ]
  },
  {
   "cell_type": "code",
   "execution_count": 2,
   "id": "36e13596-44ce-463f-8e2f-a648d1452f42",
   "metadata": {
    "ExecuteTime": {
     "end_time": "2024-03-20T06:18:10.866897700Z",
     "start_time": "2024-03-20T06:18:10.835381200Z"
    }
   },
   "outputs": [],
   "source": [
    "# Formatting phone number\n",
    "def format_phone(row):\n",
    "    if len(str(row['phone'])) < 10:\n",
    "        row['phone'] = np.nan\n",
    "    else:\n",
    "        row['phone'] = str(row['phone'])\n",
    "        row['phone'] = '7'+''.join(filter(str.isdigit,row['phone']))[1:]\n",
    "    return row\n",
    "\n",
    "\n",
    "# To mark what was already done\n",
    "def mark_done(row):    \n",
    "    seen_what_is_done = False\n",
    "    if row['phone'] == '79631854249':\n",
    "        seen_what_is_done = True\n",
    "    if seen_what_is_done:\n",
    "        pass\n",
    "    else:\n",
    "        row['mark'] = 1\n",
    "    return row\n",
    "\n",
    "\n",
    "# Formatting tg\n",
    "def format_tg(row):\n",
    "    row['tg'] = str(row['tg'])\n",
    "    if row['tg'][0] == '@':\n",
    "        row['tg'] = row['tg'][1:]\n",
    "    elif row['tg'][0] == 'h':\n",
    "        row['tg'] = row['tg'][13:]\n",
    "    return row\n",
    "\n",
    "\n",
    "# Creates a new column and fills it with messages\n",
    "def fill_message(row):\n",
    "    row['message'] = message\n",
    "    return row"
   ]
  },
  {
   "cell_type": "code",
   "execution_count": 3,
   "id": "initial_id",
   "metadata": {
    "ExecuteTime": {
     "end_time": "2024-03-20T06:18:11.589137800Z",
     "start_time": "2024-03-20T06:18:10.841898100Z"
    }
   },
   "outputs": [
    {
     "data": {
      "text/plain": "                  date                             name             phone  \\\n0                  NaN                              NaN               NaN   \n1   Дата подачи заявки                     Фамилия, имя           Телефон   \n2  2023-03-09 17:42:32       Абдуллина Василя Ринатовна  8(964) 559-76-12   \n3  2023-03-21 00:00:00  Андрианова Анастасия Алексеевна  8(985) 470-69-73   \n4  2023-03-20 00:00:00        Антонова Мария Михайловна  8(920) 681-89-18   \n\n   idx                       tg  mark  \n0  NaN                      NaN     0  \n1  NaN                 Телеграм     0  \n2  1.0  https://t.me/AVBaselius     0  \n3  2.0  https://t.me/driana_fbm     0  \n4  3.0     https://t.me/Antiemy     0  ",
      "text/html": "<div>\n<style scoped>\n    .dataframe tbody tr th:only-of-type {\n        vertical-align: middle;\n    }\n\n    .dataframe tbody tr th {\n        vertical-align: top;\n    }\n\n    .dataframe thead th {\n        text-align: right;\n    }\n</style>\n<table border=\"1\" class=\"dataframe\">\n  <thead>\n    <tr style=\"text-align: right;\">\n      <th></th>\n      <th>date</th>\n      <th>name</th>\n      <th>phone</th>\n      <th>idx</th>\n      <th>tg</th>\n      <th>mark</th>\n    </tr>\n  </thead>\n  <tbody>\n    <tr>\n      <th>0</th>\n      <td>NaN</td>\n      <td>NaN</td>\n      <td>NaN</td>\n      <td>NaN</td>\n      <td>NaN</td>\n      <td>0</td>\n    </tr>\n    <tr>\n      <th>1</th>\n      <td>Дата подачи заявки</td>\n      <td>Фамилия, имя</td>\n      <td>Телефон</td>\n      <td>NaN</td>\n      <td>Телеграм</td>\n      <td>0</td>\n    </tr>\n    <tr>\n      <th>2</th>\n      <td>2023-03-09 17:42:32</td>\n      <td>Абдуллина Василя Ринатовна</td>\n      <td>8(964) 559-76-12</td>\n      <td>1.0</td>\n      <td>https://t.me/AVBaselius</td>\n      <td>0</td>\n    </tr>\n    <tr>\n      <th>3</th>\n      <td>2023-03-21 00:00:00</td>\n      <td>Андрианова Анастасия Алексеевна</td>\n      <td>8(985) 470-69-73</td>\n      <td>2.0</td>\n      <td>https://t.me/driana_fbm</td>\n      <td>0</td>\n    </tr>\n    <tr>\n      <th>4</th>\n      <td>2023-03-20 00:00:00</td>\n      <td>Антонова Мария Михайловна</td>\n      <td>8(920) 681-89-18</td>\n      <td>3.0</td>\n      <td>https://t.me/Antiemy</td>\n      <td>0</td>\n    </tr>\n  </tbody>\n</table>\n</div>"
     },
     "execution_count": 3,
     "metadata": {},
     "output_type": "execute_result"
    }
   ],
   "source": [
    "# Reading data, renaming the columns\n",
    "df = pd.read_excel('data.xlsx')\\\n",
    ".rename(columns={'Unnamed: 0':'date', \n",
    "                 'Unnamed: 1':'name', \n",
    "                 'Unnamed: 2':'phone', \n",
    "                 'Unnamed: 3':'idx',\n",
    "                 'Unnamed: 4':'tg'})\n",
    "\n",
    "df['mark'] = 0\n",
    "\n",
    "df.head()"
   ]
  },
  {
   "cell_type": "code",
   "outputs": [
    {
     "data": {
      "text/plain": "                              name        phone  mark\n0       Абдуллина Василя Ринатовна  79645597612     0\n1  Андрианова Анастасия Алексеевна  79854706973     0\n2        Антонова Мария Михайловна  79206818918     0\n3          Баёв Артур Владимирович  79850532964     0\n4      Бакуров Артём Александрович  79161699712     0",
      "text/html": "<div>\n<style scoped>\n    .dataframe tbody tr th:only-of-type {\n        vertical-align: middle;\n    }\n\n    .dataframe tbody tr th {\n        vertical-align: top;\n    }\n\n    .dataframe thead th {\n        text-align: right;\n    }\n</style>\n<table border=\"1\" class=\"dataframe\">\n  <thead>\n    <tr style=\"text-align: right;\">\n      <th></th>\n      <th>name</th>\n      <th>phone</th>\n      <th>mark</th>\n    </tr>\n  </thead>\n  <tbody>\n    <tr>\n      <th>0</th>\n      <td>Абдуллина Василя Ринатовна</td>\n      <td>79645597612</td>\n      <td>0</td>\n    </tr>\n    <tr>\n      <th>1</th>\n      <td>Андрианова Анастасия Алексеевна</td>\n      <td>79854706973</td>\n      <td>0</td>\n    </tr>\n    <tr>\n      <th>2</th>\n      <td>Антонова Мария Михайловна</td>\n      <td>79206818918</td>\n      <td>0</td>\n    </tr>\n    <tr>\n      <th>3</th>\n      <td>Баёв Артур Владимирович</td>\n      <td>79850532964</td>\n      <td>0</td>\n    </tr>\n    <tr>\n      <th>4</th>\n      <td>Бакуров Артём Александрович</td>\n      <td>79161699712</td>\n      <td>0</td>\n    </tr>\n  </tbody>\n</table>\n</div>"
     },
     "execution_count": 4,
     "metadata": {},
     "output_type": "execute_result"
    }
   ],
   "source": [
    "# Formatting to have only name and number\n",
    "df_formatted = df.drop([0,1], axis=0)\\\n",
    ".drop(['date','idx'], axis=1)\\\n",
    ".drop_duplicates()\\\n",
    ".apply(format_phone, axis=1)\\\n",
    ".apply(format_tg, axis=1)\\\n",
    ".drop('tg', axis=1)\\\n",
    ".dropna()\\\n",
    ".reset_index()\\\n",
    ".drop('index', axis=1)\n",
    "\n",
    "df_formatted.head()"
   ],
   "metadata": {
    "collapsed": false,
    "ExecuteTime": {
     "end_time": "2024-03-20T06:18:11.890377400Z",
     "start_time": "2024-03-20T06:18:11.588136600Z"
    }
   },
   "id": "582b40a572381fc5",
   "execution_count": 4
  },
  {
   "cell_type": "code",
   "execution_count": 5,
   "id": "59360dae-92c1-400d-8d7c-6917532080fb",
   "metadata": {
    "ExecuteTime": {
     "end_time": "2024-03-20T06:18:12.516623Z",
     "start_time": "2024-03-20T06:18:11.787367600Z"
    }
   },
   "outputs": [
    {
     "data": {
      "text/plain": "                              name        phone  mark  \\\n0       Абдуллина Василя Ринатовна  79645597612     0   \n1  Андрианова Анастасия Алексеевна  79854706973     0   \n2        Антонова Мария Михайловна  79206818918     0   \n3          Баёв Артур Владимирович  79850532964     0   \n4      Бакуров Артём Александрович  79161699712     0   \n\n                                             message  \n0  Здравствуйте!В 2023 году Вы участвовали в кейс...  \n1  Здравствуйте!В 2023 году Вы участвовали в кейс...  \n2  Здравствуйте!В 2023 году Вы участвовали в кейс...  \n3  Здравствуйте!В 2023 году Вы участвовали в кейс...  \n4  Здравствуйте!В 2023 году Вы участвовали в кейс...  ",
      "text/html": "<div>\n<style scoped>\n    .dataframe tbody tr th:only-of-type {\n        vertical-align: middle;\n    }\n\n    .dataframe tbody tr th {\n        vertical-align: top;\n    }\n\n    .dataframe thead th {\n        text-align: right;\n    }\n</style>\n<table border=\"1\" class=\"dataframe\">\n  <thead>\n    <tr style=\"text-align: right;\">\n      <th></th>\n      <th>name</th>\n      <th>phone</th>\n      <th>mark</th>\n      <th>message</th>\n    </tr>\n  </thead>\n  <tbody>\n    <tr>\n      <th>0</th>\n      <td>Абдуллина Василя Ринатовна</td>\n      <td>79645597612</td>\n      <td>0</td>\n      <td>Здравствуйте!В 2023 году Вы участвовали в кейс...</td>\n    </tr>\n    <tr>\n      <th>1</th>\n      <td>Андрианова Анастасия Алексеевна</td>\n      <td>79854706973</td>\n      <td>0</td>\n      <td>Здравствуйте!В 2023 году Вы участвовали в кейс...</td>\n    </tr>\n    <tr>\n      <th>2</th>\n      <td>Антонова Мария Михайловна</td>\n      <td>79206818918</td>\n      <td>0</td>\n      <td>Здравствуйте!В 2023 году Вы участвовали в кейс...</td>\n    </tr>\n    <tr>\n      <th>3</th>\n      <td>Баёв Артур Владимирович</td>\n      <td>79850532964</td>\n      <td>0</td>\n      <td>Здравствуйте!В 2023 году Вы участвовали в кейс...</td>\n    </tr>\n    <tr>\n      <th>4</th>\n      <td>Бакуров Артём Александрович</td>\n      <td>79161699712</td>\n      <td>0</td>\n      <td>Здравствуйте!В 2023 году Вы участвовали в кейс...</td>\n    </tr>\n  </tbody>\n</table>\n</div>"
     },
     "execution_count": 5,
     "metadata": {},
     "output_type": "execute_result"
    }
   ],
   "source": [
    "# Message to fill with\n",
    "message = ('Здравствуйте!'\n",
    "           'В 2023 году Вы участвовали в кейс-чемпионате Генериум.'\n",
    "           'В этом году, мы уже начали сбор заявок и будем очень рады Вашему участию, пожалуйста, переходите по ссылке и регистрируйтесь: https://generium-champ.ru (https://generium-champ.ru/).'\n",
    "           'От лица организационного комитета искренне желаем Вам удачи и конечно победы!')\n",
    "\n",
    "# Filling with messages\n",
    "df_filled_with_messages = df_formatted.drop_duplicates().apply(fill_message, axis=1)\n",
    "\n",
    "df_filled_with_messages.head()"
   ]
  },
  {
   "cell_type": "code",
   "outputs": [
    {
     "name": "stdout",
     "output_type": "stream",
     "text": [
      "315 lines marked.\n"
     ]
    },
    {
     "data": {
      "text/plain": "                              name        phone  mark  \\\n0       Абдуллина Василя Ринатовна  79645597612     1   \n1  Андрианова Анастасия Алексеевна  79854706973     1   \n2        Антонова Мария Михайловна  79206818918     1   \n3          Баёв Артур Владимирович  79850532964     1   \n4      Бакуров Артём Александрович  79161699712     1   \n\n                                             message  \n0  Здравствуйте!В 2023 году Вы участвовали в кейс...  \n1  Здравствуйте!В 2023 году Вы участвовали в кейс...  \n2  Здравствуйте!В 2023 году Вы участвовали в кейс...  \n3  Здравствуйте!В 2023 году Вы участвовали в кейс...  \n4  Здравствуйте!В 2023 году Вы участвовали в кейс...  ",
      "text/html": "<div>\n<style scoped>\n    .dataframe tbody tr th:only-of-type {\n        vertical-align: middle;\n    }\n\n    .dataframe tbody tr th {\n        vertical-align: top;\n    }\n\n    .dataframe thead th {\n        text-align: right;\n    }\n</style>\n<table border=\"1\" class=\"dataframe\">\n  <thead>\n    <tr style=\"text-align: right;\">\n      <th></th>\n      <th>name</th>\n      <th>phone</th>\n      <th>mark</th>\n      <th>message</th>\n    </tr>\n  </thead>\n  <tbody>\n    <tr>\n      <th>0</th>\n      <td>Абдуллина Василя Ринатовна</td>\n      <td>79645597612</td>\n      <td>1</td>\n      <td>Здравствуйте!В 2023 году Вы участвовали в кейс...</td>\n    </tr>\n    <tr>\n      <th>1</th>\n      <td>Андрианова Анастасия Алексеевна</td>\n      <td>79854706973</td>\n      <td>1</td>\n      <td>Здравствуйте!В 2023 году Вы участвовали в кейс...</td>\n    </tr>\n    <tr>\n      <th>2</th>\n      <td>Антонова Мария Михайловна</td>\n      <td>79206818918</td>\n      <td>1</td>\n      <td>Здравствуйте!В 2023 году Вы участвовали в кейс...</td>\n    </tr>\n    <tr>\n      <th>3</th>\n      <td>Баёв Артур Владимирович</td>\n      <td>79850532964</td>\n      <td>1</td>\n      <td>Здравствуйте!В 2023 году Вы участвовали в кейс...</td>\n    </tr>\n    <tr>\n      <th>4</th>\n      <td>Бакуров Артём Александрович</td>\n      <td>79161699712</td>\n      <td>1</td>\n      <td>Здравствуйте!В 2023 году Вы участвовали в кейс...</td>\n    </tr>\n  </tbody>\n</table>\n</div>"
     },
     "execution_count": 14,
     "metadata": {},
     "output_type": "execute_result"
    }
   ],
   "source": [
    "# Mark what is already done with 1\n",
    "flag = False\n",
    "trigger = '79218479121'\n",
    "counter = 0\n",
    "\n",
    "target = df_filled_with_messages\n",
    "\n",
    "for idx in target.index:\n",
    "    if flag:\n",
    "        break\n",
    "    if target.loc[idx, 'phone'] == trigger:\n",
    "        flag = True\n",
    "    target.loc[idx, 'mark'] = 1\n",
    "    counter += 1\n",
    "print(f'{counter} lines marked.')\n",
    "    \n",
    "target.head()"
   ],
   "metadata": {
    "collapsed": false,
    "ExecuteTime": {
     "end_time": "2024-03-20T07:16:14.125525800Z",
     "start_time": "2024-03-20T07:16:14.026208500Z"
    }
   },
   "id": "2d2cbd887ac8183b",
   "execution_count": 14
  },
  {
   "cell_type": "code",
   "outputs": [],
   "source": [
    "target.to_csv('prepared_data.csv', index=False)"
   ],
   "metadata": {
    "collapsed": false,
    "ExecuteTime": {
     "end_time": "2024-03-20T07:16:15.881081600Z",
     "start_time": "2024-03-20T07:16:15.855106600Z"
    }
   },
   "id": "417befece614899",
   "execution_count": 15
  },
  {
   "cell_type": "code",
   "outputs": [],
   "source": [],
   "metadata": {
    "collapsed": false
   },
   "id": "d5721a26c5dae9ad"
  }
 ],
 "metadata": {
  "kernelspec": {
   "display_name": "Python 3 (ipykernel)",
   "language": "python",
   "name": "python3"
  },
  "language_info": {
   "codemirror_mode": {
    "name": "ipython",
    "version": 3
   },
   "file_extension": ".py",
   "mimetype": "text/x-python",
   "name": "python",
   "nbconvert_exporter": "python",
   "pygments_lexer": "ipython3",
   "version": "3.11.7"
  }
 },
 "nbformat": 4,
 "nbformat_minor": 5
}
