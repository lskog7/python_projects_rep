{
 "cells": [
  {
   "cell_type": "code",
   "execution_count": 1,
   "outputs": [],
   "source": [
    "import pandas as pd"
   ],
   "metadata": {
    "collapsed": false,
    "ExecuteTime": {
     "end_time": "2024-03-14T14:44:38.584981700Z",
     "start_time": "2024-03-14T14:44:37.102149Z"
    }
   },
   "id": "8a6971e5a4030f4c"
  },
  {
   "cell_type": "code",
   "execution_count": 11,
   "id": "initial_id",
   "metadata": {
    "collapsed": true,
    "ExecuteTime": {
     "end_time": "2024-03-14T15:15:11.486453600Z",
     "start_time": "2024-03-14T15:15:11.453445100Z"
    }
   },
   "outputs": [
    {
     "data": {
      "text/plain": "               name                                              phone\n0         Wrng_nmbr  Создание ресурсосберегающего многофункциональн...\n1       a_kasenkova                                          БАНК ИДЕЙ\n2           yulikke                                            Рассвет\n3       Angelina_aa  Коррекция витаминной недостаточности и разрабо...\n4   arina_palatkina                                       Mental Space\n5         iVaness23          Selfio -- персональная студия видеозаписи\n6          avklypin                                           Ecoterea\n7             mtv_a  Система для проведения моторных экспериментов ...\n8         vordex_dd                                            InfStep\n9        dollypolyy                                             PickUp\n10        oh_daniil                                           Tryoself\n11       ledenevvaa                                          ЕГЭландия\n12         Nasa1423                                FoxHome - умный дом\n13     alinatuleeva                        Языковая онлайн-школа FOCUS\n14        Maria_mee  Разработка нейросети-счетчика «Немо» для подсч...\n15      romanovarte                                        Modern-Team\n16  mikhashin_artem  интеллектуальный персональный помощник по вопр...\n17        limichjub                   Платформа для школьной аналитики\n18          Pon_Nik  Платформа для разработки и конфигурирования иг...\n19        Ilia_Korh                     Friendly and Adaptive Schedule\n20       sonik_mozg  MEAL - планы питания по рецептам с доставкой п...\n21          grshabl                                             Hodler\n22       vleradaeva                                     WorkPsychology\n23          Gr1zsha                                       OLEG.Booking\n24         A411132M  Облачный сервис для автоматизации управленческ...\n25     meow_memphis  Использование имитационного моделирования для ...\n26          ollabel                                           YumMerry\n27        GordeyZav                                               Dvor\n28     CATharsis_69                                               VR4U",
      "text/html": "<div>\n<style scoped>\n    .dataframe tbody tr th:only-of-type {\n        vertical-align: middle;\n    }\n\n    .dataframe tbody tr th {\n        vertical-align: top;\n    }\n\n    .dataframe thead th {\n        text-align: right;\n    }\n</style>\n<table border=\"1\" class=\"dataframe\">\n  <thead>\n    <tr style=\"text-align: right;\">\n      <th></th>\n      <th>name</th>\n      <th>phone</th>\n    </tr>\n  </thead>\n  <tbody>\n    <tr>\n      <th>0</th>\n      <td>Wrng_nmbr</td>\n      <td>Создание ресурсосберегающего многофункциональн...</td>\n    </tr>\n    <tr>\n      <th>1</th>\n      <td>a_kasenkova</td>\n      <td>БАНК ИДЕЙ</td>\n    </tr>\n    <tr>\n      <th>2</th>\n      <td>yulikke</td>\n      <td>Рассвет</td>\n    </tr>\n    <tr>\n      <th>3</th>\n      <td>Angelina_aa</td>\n      <td>Коррекция витаминной недостаточности и разрабо...</td>\n    </tr>\n    <tr>\n      <th>4</th>\n      <td>arina_palatkina</td>\n      <td>Mental Space</td>\n    </tr>\n    <tr>\n      <th>5</th>\n      <td>iVaness23</td>\n      <td>Selfio -- персональная студия видеозаписи</td>\n    </tr>\n    <tr>\n      <th>6</th>\n      <td>avklypin</td>\n      <td>Ecoterea</td>\n    </tr>\n    <tr>\n      <th>7</th>\n      <td>mtv_a</td>\n      <td>Система для проведения моторных экспериментов ...</td>\n    </tr>\n    <tr>\n      <th>8</th>\n      <td>vordex_dd</td>\n      <td>InfStep</td>\n    </tr>\n    <tr>\n      <th>9</th>\n      <td>dollypolyy</td>\n      <td>PickUp</td>\n    </tr>\n    <tr>\n      <th>10</th>\n      <td>oh_daniil</td>\n      <td>Tryoself</td>\n    </tr>\n    <tr>\n      <th>11</th>\n      <td>ledenevvaa</td>\n      <td>ЕГЭландия</td>\n    </tr>\n    <tr>\n      <th>12</th>\n      <td>Nasa1423</td>\n      <td>FoxHome - умный дом</td>\n    </tr>\n    <tr>\n      <th>13</th>\n      <td>alinatuleeva</td>\n      <td>Языковая онлайн-школа FOCUS</td>\n    </tr>\n    <tr>\n      <th>14</th>\n      <td>Maria_mee</td>\n      <td>Разработка нейросети-счетчика «Немо» для подсч...</td>\n    </tr>\n    <tr>\n      <th>15</th>\n      <td>romanovarte</td>\n      <td>Modern-Team</td>\n    </tr>\n    <tr>\n      <th>16</th>\n      <td>mikhashin_artem</td>\n      <td>интеллектуальный персональный помощник по вопр...</td>\n    </tr>\n    <tr>\n      <th>17</th>\n      <td>limichjub</td>\n      <td>Платформа для школьной аналитики</td>\n    </tr>\n    <tr>\n      <th>18</th>\n      <td>Pon_Nik</td>\n      <td>Платформа для разработки и конфигурирования иг...</td>\n    </tr>\n    <tr>\n      <th>19</th>\n      <td>Ilia_Korh</td>\n      <td>Friendly and Adaptive Schedule</td>\n    </tr>\n    <tr>\n      <th>20</th>\n      <td>sonik_mozg</td>\n      <td>MEAL - планы питания по рецептам с доставкой п...</td>\n    </tr>\n    <tr>\n      <th>21</th>\n      <td>grshabl</td>\n      <td>Hodler</td>\n    </tr>\n    <tr>\n      <th>22</th>\n      <td>vleradaeva</td>\n      <td>WorkPsychology</td>\n    </tr>\n    <tr>\n      <th>23</th>\n      <td>Gr1zsha</td>\n      <td>OLEG.Booking</td>\n    </tr>\n    <tr>\n      <th>24</th>\n      <td>A411132M</td>\n      <td>Облачный сервис для автоматизации управленческ...</td>\n    </tr>\n    <tr>\n      <th>25</th>\n      <td>meow_memphis</td>\n      <td>Использование имитационного моделирования для ...</td>\n    </tr>\n    <tr>\n      <th>26</th>\n      <td>ollabel</td>\n      <td>YumMerry</td>\n    </tr>\n    <tr>\n      <th>27</th>\n      <td>GordeyZav</td>\n      <td>Dvor</td>\n    </tr>\n    <tr>\n      <th>28</th>\n      <td>CATharsis_69</td>\n      <td>VR4U</td>\n    </tr>\n  </tbody>\n</table>\n</div>"
     },
     "execution_count": 11,
     "metadata": {},
     "output_type": "execute_result"
    }
   ],
   "source": [
    "df = pd.read_excel('data.xlsx')\n",
    "df"
   ]
  },
  {
   "cell_type": "code",
   "execution_count": 3,
   "outputs": [],
   "source": [
    "df = df.dropna()"
   ],
   "metadata": {
    "collapsed": false,
    "ExecuteTime": {
     "end_time": "2024-03-14T14:44:41.409182500Z",
     "start_time": "2024-03-14T14:44:41.397179900Z"
    }
   },
   "id": "1df3692423395a96"
  },
  {
   "cell_type": "code",
   "execution_count": 4,
   "outputs": [],
   "source": [
    "df.to_excel('data.xlsx', index=False) "
   ],
   "metadata": {
    "collapsed": false,
    "ExecuteTime": {
     "end_time": "2024-03-14T14:44:44.371204600Z",
     "start_time": "2024-03-14T14:44:44.346198900Z"
    }
   },
   "id": "eb91ae1465f25346"
  },
  {
   "cell_type": "code",
   "execution_count": 8,
   "outputs": [
    {
     "data": {
      "text/plain": "                                                 name        phone\n0        Лаборатория ДНК-тестирований для ветеринарии  79042474339\n1                        PUZZLE:собери свой вечер сам  79622224029\n2                                         Хочу купить  79250943843\n3                                               Nutri  79854529816\n4                                            РяДомЕда  79991212400\n5                Электронная интеллектуальная очередь  79251454094\n6                                                W&Ed  79151651103\n7                                            InfLange  79654350189\n8                                          FastCourse  79526896455\n9     Медицинская образовательная платформа Esculapia  79251884055\n10  Производство субстрата для безоболочных водово...  79060690875\n11                                              Cakes  79293937888\n12              Сепаратор с системой машинного зрения  79264737623\n13  Создание частей корпуса автомобиля на основе а...  79641494478\n14  Методическое обеспечение процесса инженерии тр...  79612618865\n15  IMPRO - обучение иностранному языку при помощи...  79251454511\n16                     Mетавселенная cyclestudio ЦСКА  79959897818\n17                                       Особое место  79262470775\n18                                   Борьба с голодом  79263253678",
      "text/html": "<div>\n<style scoped>\n    .dataframe tbody tr th:only-of-type {\n        vertical-align: middle;\n    }\n\n    .dataframe tbody tr th {\n        vertical-align: top;\n    }\n\n    .dataframe thead th {\n        text-align: right;\n    }\n</style>\n<table border=\"1\" class=\"dataframe\">\n  <thead>\n    <tr style=\"text-align: right;\">\n      <th></th>\n      <th>name</th>\n      <th>phone</th>\n    </tr>\n  </thead>\n  <tbody>\n    <tr>\n      <th>0</th>\n      <td>Лаборатория ДНК-тестирований для ветеринарии</td>\n      <td>79042474339</td>\n    </tr>\n    <tr>\n      <th>1</th>\n      <td>PUZZLE:собери свой вечер сам</td>\n      <td>79622224029</td>\n    </tr>\n    <tr>\n      <th>2</th>\n      <td>Хочу купить</td>\n      <td>79250943843</td>\n    </tr>\n    <tr>\n      <th>3</th>\n      <td>Nutri</td>\n      <td>79854529816</td>\n    </tr>\n    <tr>\n      <th>4</th>\n      <td>РяДомЕда</td>\n      <td>79991212400</td>\n    </tr>\n    <tr>\n      <th>5</th>\n      <td>Электронная интеллектуальная очередь</td>\n      <td>79251454094</td>\n    </tr>\n    <tr>\n      <th>6</th>\n      <td>W&amp;Ed</td>\n      <td>79151651103</td>\n    </tr>\n    <tr>\n      <th>7</th>\n      <td>InfLange</td>\n      <td>79654350189</td>\n    </tr>\n    <tr>\n      <th>8</th>\n      <td>FastCourse</td>\n      <td>79526896455</td>\n    </tr>\n    <tr>\n      <th>9</th>\n      <td>Медицинская образовательная платформа Esculapia</td>\n      <td>79251884055</td>\n    </tr>\n    <tr>\n      <th>10</th>\n      <td>Производство субстрата для безоболочных водово...</td>\n      <td>79060690875</td>\n    </tr>\n    <tr>\n      <th>11</th>\n      <td>Cakes</td>\n      <td>79293937888</td>\n    </tr>\n    <tr>\n      <th>12</th>\n      <td>Сепаратор с системой машинного зрения</td>\n      <td>79264737623</td>\n    </tr>\n    <tr>\n      <th>13</th>\n      <td>Создание частей корпуса автомобиля на основе а...</td>\n      <td>79641494478</td>\n    </tr>\n    <tr>\n      <th>14</th>\n      <td>Методическое обеспечение процесса инженерии тр...</td>\n      <td>79612618865</td>\n    </tr>\n    <tr>\n      <th>15</th>\n      <td>IMPRO - обучение иностранному языку при помощи...</td>\n      <td>79251454511</td>\n    </tr>\n    <tr>\n      <th>16</th>\n      <td>Mетавселенная cyclestudio ЦСКА</td>\n      <td>79959897818</td>\n    </tr>\n    <tr>\n      <th>17</th>\n      <td>Особое место</td>\n      <td>79262470775</td>\n    </tr>\n    <tr>\n      <th>18</th>\n      <td>Борьба с голодом</td>\n      <td>79263253678</td>\n    </tr>\n  </tbody>\n</table>\n</div>"
     },
     "execution_count": 8,
     "metadata": {},
     "output_type": "execute_result"
    }
   ],
   "source": [
    "def fill(row):\n",
    "    row['phone'] = str(row['phone'])\n",
    "    row['phone'] = '7'+''.join(filter(str.isdigit,row['phone']))[1:]\n",
    "    return row\n",
    "\n",
    "df = df.apply(fill, axis=1)\n",
    "df"
   ],
   "metadata": {
    "collapsed": false,
    "ExecuteTime": {
     "end_time": "2024-03-14T14:45:36.968015600Z",
     "start_time": "2024-03-14T14:45:36.950011200Z"
    }
   },
   "id": "1820a03802d31522"
  },
  {
   "cell_type": "code",
   "execution_count": 12,
   "outputs": [
    {
     "data": {
      "text/plain": "               name                                              phone\n0         Wrng_nmbr  Добрый вечер!\\nМеня зовут Алексей, модератор п...\n1       a_kasenkova  Добрый вечер!\\nМеня зовут Алексей, модератор п...\n2           yulikke  Добрый вечер!\\nМеня зовут Алексей, модератор п...\n3       Angelina_aa  Добрый вечер!\\nМеня зовут Алексей, модератор п...\n4   arina_palatkina  Добрый вечер!\\nМеня зовут Алексей, модератор п...\n5         iVaness23  Добрый вечер!\\nМеня зовут Алексей, модератор п...\n6          avklypin  Добрый вечер!\\nМеня зовут Алексей, модератор п...\n7             mtv_a  Добрый вечер!\\nМеня зовут Алексей, модератор п...\n8         vordex_dd  Добрый вечер!\\nМеня зовут Алексей, модератор п...\n9        dollypolyy  Добрый вечер!\\nМеня зовут Алексей, модератор п...\n10        oh_daniil  Добрый вечер!\\nМеня зовут Алексей, модератор п...\n11       ledenevvaa  Добрый вечер!\\nМеня зовут Алексей, модератор п...\n12         Nasa1423  Добрый вечер!\\nМеня зовут Алексей, модератор п...\n13     alinatuleeva  Добрый вечер!\\nМеня зовут Алексей, модератор п...\n14        Maria_mee  Добрый вечер!\\nМеня зовут Алексей, модератор п...\n15      romanovarte  Добрый вечер!\\nМеня зовут Алексей, модератор п...\n16  mikhashin_artem  Добрый вечер!\\nМеня зовут Алексей, модератор п...\n17        limichjub  Добрый вечер!\\nМеня зовут Алексей, модератор п...\n18          Pon_Nik  Добрый вечер!\\nМеня зовут Алексей, модератор п...\n19        Ilia_Korh  Добрый вечер!\\nМеня зовут Алексей, модератор п...\n20       sonik_mozg  Добрый вечер!\\nМеня зовут Алексей, модератор п...\n21          grshabl  Добрый вечер!\\nМеня зовут Алексей, модератор п...\n22       vleradaeva  Добрый вечер!\\nМеня зовут Алексей, модератор п...\n23          Gr1zsha  Добрый вечер!\\nМеня зовут Алексей, модератор п...\n24         A411132M  Добрый вечер!\\nМеня зовут Алексей, модератор п...\n25     meow_memphis  Добрый вечер!\\nМеня зовут Алексей, модератор п...\n26          ollabel  Добрый вечер!\\nМеня зовут Алексей, модератор п...\n27        GordeyZav  Добрый вечер!\\nМеня зовут Алексей, модератор п...\n28     CATharsis_69  Добрый вечер!\\nМеня зовут Алексей, модератор п...",
      "text/html": "<div>\n<style scoped>\n    .dataframe tbody tr th:only-of-type {\n        vertical-align: middle;\n    }\n\n    .dataframe tbody tr th {\n        vertical-align: top;\n    }\n\n    .dataframe thead th {\n        text-align: right;\n    }\n</style>\n<table border=\"1\" class=\"dataframe\">\n  <thead>\n    <tr style=\"text-align: right;\">\n      <th></th>\n      <th>name</th>\n      <th>phone</th>\n    </tr>\n  </thead>\n  <tbody>\n    <tr>\n      <th>0</th>\n      <td>Wrng_nmbr</td>\n      <td>Добрый вечер!\\nМеня зовут Алексей, модератор п...</td>\n    </tr>\n    <tr>\n      <th>1</th>\n      <td>a_kasenkova</td>\n      <td>Добрый вечер!\\nМеня зовут Алексей, модератор п...</td>\n    </tr>\n    <tr>\n      <th>2</th>\n      <td>yulikke</td>\n      <td>Добрый вечер!\\nМеня зовут Алексей, модератор п...</td>\n    </tr>\n    <tr>\n      <th>3</th>\n      <td>Angelina_aa</td>\n      <td>Добрый вечер!\\nМеня зовут Алексей, модератор п...</td>\n    </tr>\n    <tr>\n      <th>4</th>\n      <td>arina_palatkina</td>\n      <td>Добрый вечер!\\nМеня зовут Алексей, модератор п...</td>\n    </tr>\n    <tr>\n      <th>5</th>\n      <td>iVaness23</td>\n      <td>Добрый вечер!\\nМеня зовут Алексей, модератор п...</td>\n    </tr>\n    <tr>\n      <th>6</th>\n      <td>avklypin</td>\n      <td>Добрый вечер!\\nМеня зовут Алексей, модератор п...</td>\n    </tr>\n    <tr>\n      <th>7</th>\n      <td>mtv_a</td>\n      <td>Добрый вечер!\\nМеня зовут Алексей, модератор п...</td>\n    </tr>\n    <tr>\n      <th>8</th>\n      <td>vordex_dd</td>\n      <td>Добрый вечер!\\nМеня зовут Алексей, модератор п...</td>\n    </tr>\n    <tr>\n      <th>9</th>\n      <td>dollypolyy</td>\n      <td>Добрый вечер!\\nМеня зовут Алексей, модератор п...</td>\n    </tr>\n    <tr>\n      <th>10</th>\n      <td>oh_daniil</td>\n      <td>Добрый вечер!\\nМеня зовут Алексей, модератор п...</td>\n    </tr>\n    <tr>\n      <th>11</th>\n      <td>ledenevvaa</td>\n      <td>Добрый вечер!\\nМеня зовут Алексей, модератор п...</td>\n    </tr>\n    <tr>\n      <th>12</th>\n      <td>Nasa1423</td>\n      <td>Добрый вечер!\\nМеня зовут Алексей, модератор п...</td>\n    </tr>\n    <tr>\n      <th>13</th>\n      <td>alinatuleeva</td>\n      <td>Добрый вечер!\\nМеня зовут Алексей, модератор п...</td>\n    </tr>\n    <tr>\n      <th>14</th>\n      <td>Maria_mee</td>\n      <td>Добрый вечер!\\nМеня зовут Алексей, модератор п...</td>\n    </tr>\n    <tr>\n      <th>15</th>\n      <td>romanovarte</td>\n      <td>Добрый вечер!\\nМеня зовут Алексей, модератор п...</td>\n    </tr>\n    <tr>\n      <th>16</th>\n      <td>mikhashin_artem</td>\n      <td>Добрый вечер!\\nМеня зовут Алексей, модератор п...</td>\n    </tr>\n    <tr>\n      <th>17</th>\n      <td>limichjub</td>\n      <td>Добрый вечер!\\nМеня зовут Алексей, модератор п...</td>\n    </tr>\n    <tr>\n      <th>18</th>\n      <td>Pon_Nik</td>\n      <td>Добрый вечер!\\nМеня зовут Алексей, модератор п...</td>\n    </tr>\n    <tr>\n      <th>19</th>\n      <td>Ilia_Korh</td>\n      <td>Добрый вечер!\\nМеня зовут Алексей, модератор п...</td>\n    </tr>\n    <tr>\n      <th>20</th>\n      <td>sonik_mozg</td>\n      <td>Добрый вечер!\\nМеня зовут Алексей, модератор п...</td>\n    </tr>\n    <tr>\n      <th>21</th>\n      <td>grshabl</td>\n      <td>Добрый вечер!\\nМеня зовут Алексей, модератор п...</td>\n    </tr>\n    <tr>\n      <th>22</th>\n      <td>vleradaeva</td>\n      <td>Добрый вечер!\\nМеня зовут Алексей, модератор п...</td>\n    </tr>\n    <tr>\n      <th>23</th>\n      <td>Gr1zsha</td>\n      <td>Добрый вечер!\\nМеня зовут Алексей, модератор п...</td>\n    </tr>\n    <tr>\n      <th>24</th>\n      <td>A411132M</td>\n      <td>Добрый вечер!\\nМеня зовут Алексей, модератор п...</td>\n    </tr>\n    <tr>\n      <th>25</th>\n      <td>meow_memphis</td>\n      <td>Добрый вечер!\\nМеня зовут Алексей, модератор п...</td>\n    </tr>\n    <tr>\n      <th>26</th>\n      <td>ollabel</td>\n      <td>Добрый вечер!\\nМеня зовут Алексей, модератор п...</td>\n    </tr>\n    <tr>\n      <th>27</th>\n      <td>GordeyZav</td>\n      <td>Добрый вечер!\\nМеня зовут Алексей, модератор п...</td>\n    </tr>\n    <tr>\n      <th>28</th>\n      <td>CATharsis_69</td>\n      <td>Добрый вечер!\\nМеня зовут Алексей, модератор п...</td>\n    </tr>\n  </tbody>\n</table>\n</div>"
     },
     "execution_count": 12,
     "metadata": {},
     "output_type": "execute_result"
    }
   ],
   "source": [
    "def fill(row):\n",
    "    row['phone'] = f\"\"\"Добрый вечер!\n",
    "Меня зовут Алексей, модератор проекта Новатор Москвы.\n",
    "Увидел Ваш проект \"{str(row['phone'])}\". Мне он очень понравился, хотел пригласить Вас принять участие в юбилейном конкурсе Мэра \"Новатор Москвы\" среди инновационных проектов, где Вы можете побороться за премию до 1,5 млн рублей.\n",
    "Рассказать подробнее? Помогу заполнить заявку, при необходимости.\"\"\"\n",
    "    return row\n",
    "\n",
    "df = df.apply(fill, axis=1)\n",
    "df"
   ],
   "metadata": {
    "collapsed": false,
    "ExecuteTime": {
     "end_time": "2024-03-14T15:15:57.296466600Z",
     "start_time": "2024-03-14T15:15:57.276471700Z"
    }
   },
   "id": "32446df4da02076"
  },
  {
   "cell_type": "code",
   "execution_count": 9,
   "outputs": [
    {
     "data": {
      "text/plain": "True"
     },
     "execution_count": 9,
     "metadata": {},
     "output_type": "execute_result"
    }
   ],
   "source": [
    "df.phone.drop_duplicates().shape[0] == df.shape[0]"
   ],
   "metadata": {
    "collapsed": false,
    "ExecuteTime": {
     "end_time": "2024-03-14T14:45:45.106581700Z",
     "start_time": "2024-03-14T14:45:45.090579200Z"
    }
   },
   "id": "d8b6df74793ec410"
  },
  {
   "cell_type": "code",
   "execution_count": 7,
   "outputs": [
    {
     "data": {
      "text/plain": "0     False\n1     False\n2     False\n3     False\n4      True\n5     False\n6     False\n7     False\n8     False\n9     False\n10    False\n11    False\n12    False\n13    False\n14    False\n15    False\n16    False\n17    False\n18    False\n19    False\n20    False\n21    False\n22    False\n23    False\n24    False\n25    False\n26    False\n27    False\n28    False\n29    False\n30    False\n31    False\n32    False\n33    False\n34    False\n35    False\n36    False\n37    False\n38    False\n39    False\n40    False\n41    False\n42    False\n43    False\n44    False\n45    False\n46    False\n47    False\n48    False\n49    False\n50    False\n51    False\nName: phone, dtype: bool"
     },
     "execution_count": 7,
     "metadata": {},
     "output_type": "execute_result"
    }
   ],
   "source": [
    "df.phone.duplicated()"
   ],
   "metadata": {
    "collapsed": false,
    "ExecuteTime": {
     "end_time": "2024-03-13T12:57:10.768086300Z",
     "start_time": "2024-03-13T12:57:10.752083600Z"
    }
   },
   "id": "1cd5401b5406ba"
  },
  {
   "cell_type": "code",
   "execution_count": null,
   "outputs": [],
   "source": [],
   "metadata": {
    "collapsed": false
   },
   "id": "5af136b9ea07726e"
  },
  {
   "cell_type": "code",
   "execution_count": 15,
   "outputs": [],
   "source": [
    "df = df.drop(10)"
   ],
   "metadata": {
    "collapsed": false,
    "ExecuteTime": {
     "end_time": "2024-03-04T11:06:35.836178700Z",
     "start_time": "2024-03-04T11:06:35.815173900Z"
    }
   },
   "id": "b5c396c4f73fdd73"
  },
  {
   "cell_type": "code",
   "execution_count": 13,
   "outputs": [],
   "source": [
    "df.to_excel('out.xlsx', index=False) "
   ],
   "metadata": {
    "collapsed": false,
    "ExecuteTime": {
     "end_time": "2024-03-14T15:16:02.718416700Z",
     "start_time": "2024-03-14T15:16:02.700412800Z"
    }
   },
   "id": "5ee177db600511fc"
  },
  {
   "cell_type": "code",
   "execution_count": 10,
   "outputs": [],
   "source": [
    "df.to_csv('out.csv', index=False) "
   ],
   "metadata": {
    "collapsed": false,
    "ExecuteTime": {
     "end_time": "2024-03-14T14:48:27.515971500Z",
     "start_time": "2024-03-14T14:48:27.507969800Z"
    }
   },
   "id": "20b6942beb3b8ea5"
  },
  {
   "cell_type": "code",
   "execution_count": 25,
   "outputs": [
    {
     "data": {
      "text/plain": "                                                 name        phone\n0   Компания по изготовлению и продаже домашней од...  79175695619\n1                                        Сбербанк-ЭКО  79032621954\n2                                     Organic Liquids  79295622352\n3                                              Altech  79996369732\n4                                      Student travel  79150886543\n5                        MAR. Проект обеденной группы  79032983461\n6                                     эволюционистика  79265560286\n7   Программное обеспечение контроля потребления в...  79684252839\n8                                             МЛМ БОТ  79608003166\n9                        Создание сервиса Яндекс.Дети  79158779488\n10              Движение Авторских Архитектурных Школ  79163900713\n11                                           на СвязИ  79588182944\n12  Экспрессия пространства: Университетская инста...  79160122363\n13                                             Innart  79024873312\n14                              Мы сами снимаем Кино!  79850732165\n15                              Супер-OLAP «Датаграф»  79773840030\n16  Онлайн-курсы по мотивации учеников школ и студ...  79035890222\n17                                           EasyGust  79883070444\n18  Ветеринарно-санитарная оценка кисломолочного п...  79268544386\n19  Технологические решения расширения линейки зам...  79853956308\n20  Разработка технологии протеиновогомороженного ...  79164324929\n21                                            PRO ЗОЖ  79513306005\n22  Конструирование функционального рубленого мясн...  79192180900\n23  Конструирование рецептуры хлеба из мяса птицы ...  79636945066\n24  Проект по выявлению и поддержке молодых талант...  79881303080\n25                             Чиллер фанкойл система  79157934779\n26  Разработка желейных продуктов на основе молочн...  79167075007\n27                                        Возрождение  79161754511\n28  Изучение особенностей гематологических показат...  79645984760\n29                        Вентиляция кафе на стадионе  79856400120\n30  Вентиляция административных помещений спортивн...  79856400120\n31                Мобильное приложение “Эпохи Москвы”  79772986215\n32  Разработка технологии получения дистиллята на ...  79644943884\n33                    Методы оценки стартапов как ОИС  79998049556\n34                                          Insta.Doc  79776073117\n35  Наушники со встроенным переводчиком TransLingu...  79150935745\n36                                     MedConnect Hub  79269606602\n37  Расширение ассортимента продукции для диабетич...  79645701959\n38                                          SmartPath  79686837540",
      "text/html": "<div>\n<style scoped>\n    .dataframe tbody tr th:only-of-type {\n        vertical-align: middle;\n    }\n\n    .dataframe tbody tr th {\n        vertical-align: top;\n    }\n\n    .dataframe thead th {\n        text-align: right;\n    }\n</style>\n<table border=\"1\" class=\"dataframe\">\n  <thead>\n    <tr style=\"text-align: right;\">\n      <th></th>\n      <th>name</th>\n      <th>phone</th>\n    </tr>\n  </thead>\n  <tbody>\n    <tr>\n      <th>0</th>\n      <td>Компания по изготовлению и продаже домашней од...</td>\n      <td>79175695619</td>\n    </tr>\n    <tr>\n      <th>1</th>\n      <td>Сбербанк-ЭКО</td>\n      <td>79032621954</td>\n    </tr>\n    <tr>\n      <th>2</th>\n      <td>Organic Liquids</td>\n      <td>79295622352</td>\n    </tr>\n    <tr>\n      <th>3</th>\n      <td>Altech</td>\n      <td>79996369732</td>\n    </tr>\n    <tr>\n      <th>4</th>\n      <td>Student travel</td>\n      <td>79150886543</td>\n    </tr>\n    <tr>\n      <th>5</th>\n      <td>MAR. Проект обеденной группы</td>\n      <td>79032983461</td>\n    </tr>\n    <tr>\n      <th>6</th>\n      <td>эволюционистика</td>\n      <td>79265560286</td>\n    </tr>\n    <tr>\n      <th>7</th>\n      <td>Программное обеспечение контроля потребления в...</td>\n      <td>79684252839</td>\n    </tr>\n    <tr>\n      <th>8</th>\n      <td>МЛМ БОТ</td>\n      <td>79608003166</td>\n    </tr>\n    <tr>\n      <th>9</th>\n      <td>Создание сервиса Яндекс.Дети</td>\n      <td>79158779488</td>\n    </tr>\n    <tr>\n      <th>10</th>\n      <td>Движение Авторских Архитектурных Школ</td>\n      <td>79163900713</td>\n    </tr>\n    <tr>\n      <th>11</th>\n      <td>на СвязИ</td>\n      <td>79588182944</td>\n    </tr>\n    <tr>\n      <th>12</th>\n      <td>Экспрессия пространства: Университетская инста...</td>\n      <td>79160122363</td>\n    </tr>\n    <tr>\n      <th>13</th>\n      <td>Innart</td>\n      <td>79024873312</td>\n    </tr>\n    <tr>\n      <th>14</th>\n      <td>Мы сами снимаем Кино!</td>\n      <td>79850732165</td>\n    </tr>\n    <tr>\n      <th>15</th>\n      <td>Супер-OLAP «Датаграф»</td>\n      <td>79773840030</td>\n    </tr>\n    <tr>\n      <th>16</th>\n      <td>Онлайн-курсы по мотивации учеников школ и студ...</td>\n      <td>79035890222</td>\n    </tr>\n    <tr>\n      <th>17</th>\n      <td>EasyGust</td>\n      <td>79883070444</td>\n    </tr>\n    <tr>\n      <th>18</th>\n      <td>Ветеринарно-санитарная оценка кисломолочного п...</td>\n      <td>79268544386</td>\n    </tr>\n    <tr>\n      <th>19</th>\n      <td>Технологические решения расширения линейки зам...</td>\n      <td>79853956308</td>\n    </tr>\n    <tr>\n      <th>20</th>\n      <td>Разработка технологии протеиновогомороженного ...</td>\n      <td>79164324929</td>\n    </tr>\n    <tr>\n      <th>21</th>\n      <td>PRO ЗОЖ</td>\n      <td>79513306005</td>\n    </tr>\n    <tr>\n      <th>22</th>\n      <td>Конструирование функционального рубленого мясн...</td>\n      <td>79192180900</td>\n    </tr>\n    <tr>\n      <th>23</th>\n      <td>Конструирование рецептуры хлеба из мяса птицы ...</td>\n      <td>79636945066</td>\n    </tr>\n    <tr>\n      <th>24</th>\n      <td>Проект по выявлению и поддержке молодых талант...</td>\n      <td>79881303080</td>\n    </tr>\n    <tr>\n      <th>25</th>\n      <td>Чиллер фанкойл система</td>\n      <td>79157934779</td>\n    </tr>\n    <tr>\n      <th>26</th>\n      <td>Разработка желейных продуктов на основе молочн...</td>\n      <td>79167075007</td>\n    </tr>\n    <tr>\n      <th>27</th>\n      <td>Возрождение</td>\n      <td>79161754511</td>\n    </tr>\n    <tr>\n      <th>28</th>\n      <td>Изучение особенностей гематологических показат...</td>\n      <td>79645984760</td>\n    </tr>\n    <tr>\n      <th>29</th>\n      <td>Вентиляция кафе на стадионе</td>\n      <td>79856400120</td>\n    </tr>\n    <tr>\n      <th>30</th>\n      <td>Вентиляция административных помещений спортивн...</td>\n      <td>79856400120</td>\n    </tr>\n    <tr>\n      <th>31</th>\n      <td>Мобильное приложение “Эпохи Москвы”</td>\n      <td>79772986215</td>\n    </tr>\n    <tr>\n      <th>32</th>\n      <td>Разработка технологии получения дистиллята на ...</td>\n      <td>79644943884</td>\n    </tr>\n    <tr>\n      <th>33</th>\n      <td>Методы оценки стартапов как ОИС</td>\n      <td>79998049556</td>\n    </tr>\n    <tr>\n      <th>34</th>\n      <td>Insta.Doc</td>\n      <td>79776073117</td>\n    </tr>\n    <tr>\n      <th>35</th>\n      <td>Наушники со встроенным переводчиком TransLingu...</td>\n      <td>79150935745</td>\n    </tr>\n    <tr>\n      <th>36</th>\n      <td>MedConnect Hub</td>\n      <td>79269606602</td>\n    </tr>\n    <tr>\n      <th>37</th>\n      <td>Расширение ассортимента продукции для диабетич...</td>\n      <td>79645701959</td>\n    </tr>\n    <tr>\n      <th>38</th>\n      <td>SmartPath</td>\n      <td>79686837540</td>\n    </tr>\n  </tbody>\n</table>\n</div>"
     },
     "execution_count": 25,
     "metadata": {},
     "output_type": "execute_result"
    }
   ],
   "source": [
    "df1 = pd.read_excel('out.xlsx')\n",
    "df1"
   ],
   "metadata": {
    "collapsed": false,
    "ExecuteTime": {
     "end_time": "2024-03-04T11:25:45.779772Z",
     "start_time": "2024-03-04T11:25:45.751765Z"
    }
   },
   "id": "2e0f2067dbd404f9"
  },
  {
   "cell_type": "code",
   "execution_count": 31,
   "outputs": [
    {
     "data": {
      "text/plain": "                                                 name        phone\n2                                     Organic Liquids  79295622352\n3                                              Altech  79996369732\n4                                      Student travel  79150886543\n5                        MAR. Проект обеденной группы  79032983461\n6                                     эволюционистика  79265560286\n7   Программное обеспечение контроля потребления в...  79684252839\n8                                             МЛМ БОТ  79608003166\n9                        Создание сервиса Яндекс.Дети  79158779488\n10              Движение Авторских Архитектурных Школ  79163900713\n11                                           на СвязИ  79588182944\n12  Экспрессия пространства: Университетская инста...  79160122363\n13                                             Innart  79024873312\n14                              Мы сами снимаем Кино!  79850732165\n15                              Супер-OLAP «Датаграф»  79773840030\n16  Онлайн-курсы по мотивации учеников школ и студ...  79035890222\n17                                           EasyGust  79883070444\n18  Ветеринарно-санитарная оценка кисломолочного п...  79268544386\n19  Технологические решения расширения линейки зам...  79853956308\n20  Разработка технологии протеиновогомороженного ...  79164324929\n21                                            PRO ЗОЖ  79513306005\n22  Конструирование функционального рубленого мясн...  79192180900\n23  Конструирование рецептуры хлеба из мяса птицы ...  79636945066\n24  Проект по выявлению и поддержке молодых талант...  79881303080\n25                             Чиллер фанкойл система  79157934779\n26  Разработка желейных продуктов на основе молочн...  79167075007\n27                                        Возрождение  79161754511\n28  Изучение особенностей гематологических показат...  79645984760\n29                        Вентиляция кафе на стадионе  79856400120\n30  Вентиляция административных помещений спортивн...  79856400120\n31                Мобильное приложение “Эпохи Москвы”  79772986215\n32  Разработка технологии получения дистиллята на ...  79644943884\n33                    Методы оценки стартапов как ОИС  79998049556\n34                                          Insta.Doc  79776073117\n35  Наушники со встроенным переводчиком TransLingu...  79150935745\n36                                     MedConnect Hub  79269606602\n37  Расширение ассортимента продукции для диабетич...  79645701959\n38                                          SmartPath  79686837540",
      "text/html": "<div>\n<style scoped>\n    .dataframe tbody tr th:only-of-type {\n        vertical-align: middle;\n    }\n\n    .dataframe tbody tr th {\n        vertical-align: top;\n    }\n\n    .dataframe thead th {\n        text-align: right;\n    }\n</style>\n<table border=\"1\" class=\"dataframe\">\n  <thead>\n    <tr style=\"text-align: right;\">\n      <th></th>\n      <th>name</th>\n      <th>phone</th>\n    </tr>\n  </thead>\n  <tbody>\n    <tr>\n      <th>2</th>\n      <td>Organic Liquids</td>\n      <td>79295622352</td>\n    </tr>\n    <tr>\n      <th>3</th>\n      <td>Altech</td>\n      <td>79996369732</td>\n    </tr>\n    <tr>\n      <th>4</th>\n      <td>Student travel</td>\n      <td>79150886543</td>\n    </tr>\n    <tr>\n      <th>5</th>\n      <td>MAR. Проект обеденной группы</td>\n      <td>79032983461</td>\n    </tr>\n    <tr>\n      <th>6</th>\n      <td>эволюционистика</td>\n      <td>79265560286</td>\n    </tr>\n    <tr>\n      <th>7</th>\n      <td>Программное обеспечение контроля потребления в...</td>\n      <td>79684252839</td>\n    </tr>\n    <tr>\n      <th>8</th>\n      <td>МЛМ БОТ</td>\n      <td>79608003166</td>\n    </tr>\n    <tr>\n      <th>9</th>\n      <td>Создание сервиса Яндекс.Дети</td>\n      <td>79158779488</td>\n    </tr>\n    <tr>\n      <th>10</th>\n      <td>Движение Авторских Архитектурных Школ</td>\n      <td>79163900713</td>\n    </tr>\n    <tr>\n      <th>11</th>\n      <td>на СвязИ</td>\n      <td>79588182944</td>\n    </tr>\n    <tr>\n      <th>12</th>\n      <td>Экспрессия пространства: Университетская инста...</td>\n      <td>79160122363</td>\n    </tr>\n    <tr>\n      <th>13</th>\n      <td>Innart</td>\n      <td>79024873312</td>\n    </tr>\n    <tr>\n      <th>14</th>\n      <td>Мы сами снимаем Кино!</td>\n      <td>79850732165</td>\n    </tr>\n    <tr>\n      <th>15</th>\n      <td>Супер-OLAP «Датаграф»</td>\n      <td>79773840030</td>\n    </tr>\n    <tr>\n      <th>16</th>\n      <td>Онлайн-курсы по мотивации учеников школ и студ...</td>\n      <td>79035890222</td>\n    </tr>\n    <tr>\n      <th>17</th>\n      <td>EasyGust</td>\n      <td>79883070444</td>\n    </tr>\n    <tr>\n      <th>18</th>\n      <td>Ветеринарно-санитарная оценка кисломолочного п...</td>\n      <td>79268544386</td>\n    </tr>\n    <tr>\n      <th>19</th>\n      <td>Технологические решения расширения линейки зам...</td>\n      <td>79853956308</td>\n    </tr>\n    <tr>\n      <th>20</th>\n      <td>Разработка технологии протеиновогомороженного ...</td>\n      <td>79164324929</td>\n    </tr>\n    <tr>\n      <th>21</th>\n      <td>PRO ЗОЖ</td>\n      <td>79513306005</td>\n    </tr>\n    <tr>\n      <th>22</th>\n      <td>Конструирование функционального рубленого мясн...</td>\n      <td>79192180900</td>\n    </tr>\n    <tr>\n      <th>23</th>\n      <td>Конструирование рецептуры хлеба из мяса птицы ...</td>\n      <td>79636945066</td>\n    </tr>\n    <tr>\n      <th>24</th>\n      <td>Проект по выявлению и поддержке молодых талант...</td>\n      <td>79881303080</td>\n    </tr>\n    <tr>\n      <th>25</th>\n      <td>Чиллер фанкойл система</td>\n      <td>79157934779</td>\n    </tr>\n    <tr>\n      <th>26</th>\n      <td>Разработка желейных продуктов на основе молочн...</td>\n      <td>79167075007</td>\n    </tr>\n    <tr>\n      <th>27</th>\n      <td>Возрождение</td>\n      <td>79161754511</td>\n    </tr>\n    <tr>\n      <th>28</th>\n      <td>Изучение особенностей гематологических показат...</td>\n      <td>79645984760</td>\n    </tr>\n    <tr>\n      <th>29</th>\n      <td>Вентиляция кафе на стадионе</td>\n      <td>79856400120</td>\n    </tr>\n    <tr>\n      <th>30</th>\n      <td>Вентиляция административных помещений спортивн...</td>\n      <td>79856400120</td>\n    </tr>\n    <tr>\n      <th>31</th>\n      <td>Мобильное приложение “Эпохи Москвы”</td>\n      <td>79772986215</td>\n    </tr>\n    <tr>\n      <th>32</th>\n      <td>Разработка технологии получения дистиллята на ...</td>\n      <td>79644943884</td>\n    </tr>\n    <tr>\n      <th>33</th>\n      <td>Методы оценки стартапов как ОИС</td>\n      <td>79998049556</td>\n    </tr>\n    <tr>\n      <th>34</th>\n      <td>Insta.Doc</td>\n      <td>79776073117</td>\n    </tr>\n    <tr>\n      <th>35</th>\n      <td>Наушники со встроенным переводчиком TransLingu...</td>\n      <td>79150935745</td>\n    </tr>\n    <tr>\n      <th>36</th>\n      <td>MedConnect Hub</td>\n      <td>79269606602</td>\n    </tr>\n    <tr>\n      <th>37</th>\n      <td>Расширение ассортимента продукции для диабетич...</td>\n      <td>79645701959</td>\n    </tr>\n    <tr>\n      <th>38</th>\n      <td>SmartPath</td>\n      <td>79686837540</td>\n    </tr>\n  </tbody>\n</table>\n</div>"
     },
     "execution_count": 31,
     "metadata": {},
     "output_type": "execute_result"
    }
   ],
   "source": [
    "df1= df1.drop(1)\n",
    "df1"
   ],
   "metadata": {
    "collapsed": false,
    "ExecuteTime": {
     "end_time": "2024-03-04T11:36:53.153671100Z",
     "start_time": "2024-03-04T11:36:53.127665300Z"
    }
   },
   "id": "3b0fd9f0681f885"
  }
 ],
 "metadata": {
  "kernelspec": {
   "display_name": "Python 3",
   "language": "python",
   "name": "python3"
  },
  "language_info": {
   "codemirror_mode": {
    "name": "ipython",
    "version": 2
   },
   "file_extension": ".py",
   "mimetype": "text/x-python",
   "name": "python",
   "nbconvert_exporter": "python",
   "pygments_lexer": "ipython2",
   "version": "2.7.6"
  }
 },
 "nbformat": 4,
 "nbformat_minor": 5
}
