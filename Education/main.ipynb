{
 "cells": [
  {
   "cell_type": "code",
   "execution_count": 1,
   "outputs": [
    {
     "name": "stdout",
     "output_type": "stream",
     "text": [
      "101\n"
     ]
    }
   ],
   "source": [
    "n = 5\n",
    "a = [[19, 21, 33, 78, 99], \n",
    "     [41, 53, 66, 98, 76], \n",
    "     [79, 80, 90, 60, 20],\n",
    "     [33, 11, 45, 67, 90],\n",
    "     [45, 67, 12, 98, 23]]\n",
    "\n",
    "maximum = -1\n",
    "minimum = 100\n",
    "\n",
    "for i in range(n):\n",
    "    if a[i][i] > maximum:\n",
    "        maximum = a[i][i]\n",
    "    if a[i][n - i - 1] < minimum:\n",
    "        minimum = a[i][n - i - 1]\n",
    "\n",
    "print(minimum + maximum)"
   ],
   "metadata": {
    "collapsed": false,
    "ExecuteTime": {
     "end_time": "2023-10-28T10:12:55.449703Z",
     "start_time": "2023-10-28T10:12:55.388105Z"
    }
   },
   "id": "eea92da629209b6e"
  }
 ],
 "metadata": {
  "kernelspec": {
   "display_name": "Python 3",
   "language": "python",
   "name": "python3"
  },
  "language_info": {
   "codemirror_mode": {
    "name": "ipython",
    "version": 2
   },
   "file_extension": ".py",
   "mimetype": "text/x-python",
   "name": "python",
   "nbconvert_exporter": "python",
   "pygments_lexer": "ipython2",
   "version": "2.7.6"
  }
 },
 "nbformat": 4,
 "nbformat_minor": 5
}
